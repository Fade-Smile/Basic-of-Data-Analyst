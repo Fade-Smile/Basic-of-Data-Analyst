{
 "cells": [
  {
   "cell_type": "code",
   "execution_count": 1,
   "metadata": {},
   "outputs": [
    {
     "name": "stderr",
     "output_type": "stream",
     "text": [
      "d:\\Learning-Material\\pythonPractice\\venv\\lib\\site-packages\\numpy\\_distributor_init.py:30: UserWarning: loaded more than 1 DLL from .libs:\n",
      "d:\\Learning-Material\\pythonPractice\\venv\\lib\\site-packages\\numpy\\.libs\\libopenblas.FB5AE2TYXYH2IJRDKGDGQ3XBKLKTF43H.gfortran-win_amd64.dll\n",
      "d:\\Learning-Material\\pythonPractice\\venv\\lib\\site-packages\\numpy\\.libs\\libopenblas.WCDJNK7YVMPZQ2ME2ZZHJJRJ3JIKNDB7.gfortran-win_amd64.dll\n",
      "  warnings.warn(\"loaded more than 1 DLL from .libs:\"\n"
     ]
    },
    {
     "name": "stdout",
     "output_type": "stream",
     "text": [
      "[1 2 3]\n"
     ]
    }
   ],
   "source": [
    "import numpy as np\n",
    "\n",
    "n1 = np.array([1,2,3])      # 创建一维数组\n",
    "print(n1)"
   ]
  },
  {
   "cell_type": "code",
   "execution_count": 2,
   "metadata": {},
   "outputs": [
    {
     "name": "stdout",
     "output_type": "stream",
     "text": [
      "[0.1 0.2 0.3]\n"
     ]
    }
   ],
   "source": [
    "# 创建一个带小数点的数组\n",
    "import numpy as np\n",
    "n2 = np.array([0.1, 0.2, 0.3])\n",
    "print(n2)"
   ]
  },
  {
   "cell_type": "code",
   "execution_count": 3,
   "metadata": {},
   "outputs": [
    {
     "name": "stdout",
     "output_type": "stream",
     "text": [
      "[[1 2]\n",
      " [3 4]]\n"
     ]
    }
   ],
   "source": [
    "# 创建一个二维数组\n",
    "n3 = np.array([[1,2], [3, 4]])\n",
    "print(n3)"
   ]
  },
  {
   "cell_type": "code",
   "execution_count": 4,
   "metadata": {},
   "outputs": [
    {
     "name": "stdout",
     "output_type": "stream",
     "text": [
      "[0 2 4 6 8]\n"
     ]
    }
   ],
   "source": [
    "range_arr = np.arange(0, 10, 2)  # 创建一个步长为2的数组，范围是[0, 10)\n",
    "print(range_arr)"
   ]
  },
  {
   "cell_type": "code",
   "execution_count": 5,
   "metadata": {},
   "outputs": [
    {
     "name": "stdout",
     "output_type": "stream",
     "text": [
      "[0.   0.25 0.5  0.75 1.  ]\n"
     ]
    }
   ],
   "source": [
    "linspace_arr = np.linspace(0, 1, 5)  # 创建包含5个元素的数组，均匀分布在[0, 1]之间\n",
    "print(linspace_arr)"
   ]
  },
  {
   "cell_type": "code",
   "execution_count": 6,
   "metadata": {},
   "outputs": [
    {
     "name": "stdout",
     "output_type": "stream",
     "text": [
      "[[0.90587043 0.56332411 0.29472438]\n",
      " [0.05360614 0.43178159 0.7144524 ]]\n"
     ]
    }
   ],
   "source": [
    "random_arr = np.random.rand(2, 3)  # 创建一个2x3的随机数组，元素在[0, 1)范围内\n",
    "print(random_arr)"
   ]
  },
  {
   "cell_type": "code",
   "execution_count": 7,
   "metadata": {},
   "outputs": [
    {
     "name": "stdout",
     "output_type": "stream",
     "text": [
      "[1. 2. 3.]\n",
      "float64\n",
      "<class 'numpy.ndarray'>\n",
      "<class 'numpy.float64'>\n"
     ]
    }
   ],
   "source": [
    "# 创建数组时指定数据类型\n",
    "lst = [1, 2, 3]\n",
    "n4 = np.array(lst, dtype=float)\n",
    "print(n4)\n",
    "print(n4.dtype)\n",
    "print(type(n4))\n",
    "print(type(n4[0]))"
   ]
  },
  {
   "cell_type": "code",
   "execution_count": 8,
   "metadata": {},
   "outputs": [
    {
     "name": "stdout",
     "output_type": "stream",
     "text": [
      "[1 2 3]\n",
      "[100   2   3]\n"
     ]
    }
   ],
   "source": [
    "# 数组复制\n",
    "import numpy as np\n",
    "\n",
    "# 默认情况（copy=True）\n",
    "original_array = np.array([1, 2, 3])\n",
    "copied_array = np.array(original_array)\n",
    "\n",
    "# 修改副本数组，不影响原始数组\n",
    "copied_array[0] = 100\n",
    "\n",
    "print(original_array)  # 输出: [1 2 3]\n",
    "print(copied_array)    # 输出: [100 2 3]\n",
    "\n"
   ]
  },
  {
   "cell_type": "code",
   "execution_count": 9,
   "metadata": {},
   "outputs": [
    {
     "name": "stdout",
     "output_type": "stream",
     "text": [
      "[[[1 2 3]]]\n"
     ]
    }
   ],
   "source": [
    "# 指定维数\n",
    "import numpy as np\n",
    "lst = [1, 2, 3]\n",
    "n7 = np.array(lst, ndmin=3) # ndmin 用于设置数组的维度\n",
    "print(n7)"
   ]
  },
  {
   "cell_type": "code",
   "execution_count": 10,
   "metadata": {},
   "outputs": [
    {
     "name": "stdout",
     "output_type": "stream",
     "text": [
      "[[  -66084437  1072495843  1226551151]\n",
      " [ 1071777472 -1597589752  1070783683]\n",
      " [ 2044308000  1068200515  1125287856]\n",
      " [ 1071358543  1198238647  1072094411]]\n"
     ]
    }
   ],
   "source": [
    "# 不同方式创建数组\n",
    "\n",
    "n8 = np.empty([4, 3], dtype=int)  # [4,3] 表示4行3列\n",
    "print(n8)"
   ]
  },
  {
   "cell_type": "code",
   "execution_count": 11,
   "metadata": {},
   "outputs": [
    {
     "name": "stdout",
     "output_type": "stream",
     "text": [
      "zeros_arr\n",
      " [[0. 0. 0. 0.]\n",
      " [0. 0. 0. 0.]\n",
      " [0. 0. 0. 0.]]\n",
      "ones_arr\n",
      " [[1. 1. 1.]\n",
      " [1. 1. 1.]]\n",
      "identity_matrix\n",
      " [[1. 0. 0.]\n",
      " [0. 1. 0.]\n",
      " [0. 0. 1.]]\n"
     ]
    }
   ],
   "source": [
    "zeros_arr = np.zeros((3, 4))  # 创建一个全零的3x4数组\n",
    "ones_arr = np.ones((2, 3))    # 创建一个全一的2x3数组\n",
    "identity_matrix = np.eye(3)  # 创建一个3x3的单位矩阵\n",
    "\n",
    "print('zeros_arr\\n', zeros_arr)     # 输出结果: 默认浮点型\n",
    "print('ones_arr\\n', ones_arr)\n",
    "print('identity_matrix\\n', identity_matrix)"
   ]
  },
  {
   "cell_type": "code",
   "execution_count": 12,
   "metadata": {},
   "outputs": [
    {
     "name": "stdout",
     "output_type": "stream",
     "text": [
      "[8 8 8]\n",
      "[[8 8 8 8]\n",
      " [8 8 8 8]\n",
      " [8 8 8 8]]\n"
     ]
    }
   ],
   "source": [
    "# numpy.full(shape, fill_value, dtype=None, order='C')\n",
    "# 函数用于创建一个指定形状和数据类型的数组，并用指定的常数值填充该数组的所有元素。\n",
    "import numpy as np\n",
    "n11 = np.full(3, 8)  # 创建一个一维数组，元素都是8\n",
    "print(n11)\n",
    "\n",
    "n12 = np.full((3, 4), 8)  # 创建一个二维数组，3行4列， 元素都是8\n",
    "print(n12)"
   ]
  }
 ],
 "metadata": {
  "kernelspec": {
   "display_name": "venv",
   "language": "python",
   "name": "python3"
  },
  "language_info": {
   "codemirror_mode": {
    "name": "ipython",
    "version": 3
   },
   "file_extension": ".py",
   "mimetype": "text/x-python",
   "name": "python",
   "nbconvert_exporter": "python",
   "pygments_lexer": "ipython3",
   "version": "3.9.13"
  }
 },
 "nbformat": 4,
 "nbformat_minor": 2
}
