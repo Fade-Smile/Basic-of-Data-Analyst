{
 "cells": [
  {
   "cell_type": "code",
   "execution_count": 1,
   "metadata": {},
   "outputs": [
    {
     "name": "stderr",
     "output_type": "stream",
     "text": [
      "d:\\Learning-Material\\pythonPractice\\venv\\lib\\site-packages\\numpy\\_distributor_init.py:30: UserWarning: loaded more than 1 DLL from .libs:\n",
      "d:\\Learning-Material\\pythonPractice\\venv\\lib\\site-packages\\numpy\\.libs\\libopenblas.FB5AE2TYXYH2IJRDKGDGQ3XBKLKTF43H.gfortran-win_amd64.dll\n",
      "d:\\Learning-Material\\pythonPractice\\venv\\lib\\site-packages\\numpy\\.libs\\libopenblas.WCDJNK7YVMPZQ2ME2ZZHJJRJ3JIKNDB7.gfortran-win_amd64.dll\n",
      "  warnings.warn(\"loaded more than 1 DLL from .libs:\"\n"
     ]
    }
   ],
   "source": [
    "import numpy as np"
   ]
  },
  {
   "cell_type": "markdown",
   "metadata": {},
   "source": [
    "### Create Matrix"
   ]
  },
  {
   "cell_type": "code",
   "execution_count": 2,
   "metadata": {},
   "outputs": [
    {
     "name": "stdout",
     "output_type": "stream",
     "text": [
      "[[5 6]\n",
      " [7 8]]\n",
      "\n",
      "[[5 6]\n",
      " [7 8]]\n",
      "<class 'numpy.matrix'> <class 'numpy.matrix'>\n",
      "\n",
      "Matrix created using list:\n",
      "[[1 2 3]\n",
      " [4 5 6]\n",
      " [7 8 9]]\n",
      "\n",
      "Matrix created using string:\n",
      "[[1 2 3]\n",
      " [4 5 6]\n",
      " [7 8 9]]\n",
      "<class 'numpy.matrix'> <class 'numpy.matrix'>\n",
      "\n",
      "<class 'numpy.ndarray'>\n"
     ]
    }
   ],
   "source": [
    "a = np.mat('5 6; 7 8')\n",
    "print(a)\n",
    "print()\n",
    "\n",
    "b = np.mat([[5,6], [7,8]])\n",
    "print(b)\n",
    "print(type(a), type(b))\n",
    "print()\n",
    "\n",
    "mat1 = np.matrix([[1, 2, 3], [4, 5, 6], [7, 8, 9]])\n",
    "\n",
    "mat2 = np.matrix('1 2 3; 4 5 6; 7 8 9')\n",
    "\n",
    "print(\"Matrix created using list:\")\n",
    "print(mat1)\n",
    "\n",
    "print(\"\\nMatrix created using string:\")\n",
    "print(mat2)\n",
    "\n",
    "print(type(mat1), type(mat2))\n",
    "print()\n",
    "\n",
    "n1 = np.array([[5, 6], [7, 8]])\n",
    "print(type(n1))\n"
   ]
  },
  {
   "cell_type": "code",
   "execution_count": 18,
   "metadata": {},
   "outputs": [
    {
     "name": "stdout",
     "output_type": "stream",
     "text": [
      "Create a 3*3 matrix of zeros:\n",
      "[[0. 0. 0.]\n",
      " [0. 0. 0.]\n",
      " [0. 0. 0.]]\n",
      "\n",
      "Create a 2*4 matrix of one:\n",
      "[[1. 1. 1. 1.]\n",
      " [1. 1. 1. 1.]]\n",
      "\n",
      "Create a 3*3 matrix of random number between 0 and 1:\n",
      "[[6.19568384e-01 9.30993848e-01 7.87842055e-01]\n",
      " [5.61222254e-01 1.67506034e-01 2.03087826e-01]\n",
      " [1.42668075e-04 6.32980038e-01 2.23593494e-01]]\n",
      "\n",
      "Create a 3*5 matrix of random number between 1 and 8:\n",
      "[[6 5 3 3 3]\n",
      " [7 4 5 2 2]\n",
      " [5 2 7 1 3]]\n",
      "\n",
      "Create a 5*5 diagonal matrix:\n",
      "[[1 0 0 0 0]\n",
      " [0 1 0 0 0]\n",
      " [0 0 1 0 0]\n",
      " [0 0 0 1 0]\n",
      " [0 0 0 0 1]]\n",
      "\n",
      "Create a diagonal matrix from a list:\n",
      "[[1 0 0 0 0]\n",
      " [0 2 0 0 0]\n",
      " [0 0 3 0 0]\n",
      " [0 0 0 4 0]\n",
      " [0 0 0 0 5]]\n"
     ]
    }
   ],
   "source": [
    "d1 = np.mat(np.zeros((3,3)))\n",
    "print(\"Create a 3*3 matrix of zeros:\")\n",
    "print(d1)\n",
    "print()\n",
    "\n",
    "d2 = np.mat(np.ones((2,4)))\n",
    "print(\"Create a 2*4 matrix of one:\")\n",
    "print(d2)\n",
    "print()\n",
    "\n",
    "d3 = np.mat(np.random.rand(3,3))\n",
    "print(\"Create a 3*3 matrix of random number between 0 and 1:\")\n",
    "print(d3)\n",
    "print()\n",
    "\n",
    "d4 = np.mat(np.random.randint(1, 8, size=(3,5)))\n",
    "print(\"Create a 3*5 matrix of random number between 1 and 8:\")\n",
    "print(d4)\n",
    "print()\n",
    "\n",
    "d5 = np.mat(np.eye(5,5), dtype=int)\n",
    "print(\"Create a 5*5 diagonal matrix:\")\n",
    "print(d5)\n",
    "print()\n",
    "\n",
    "a=[1, 2, 3, 4, 5]\n",
    "d6 = np.mat(np.diag(a))\n",
    "print(\"Create a diagonal matrix from a list:\")\n",
    "print(d6) "
   ]
  },
  {
   "cell_type": "markdown",
   "metadata": {},
   "source": [
    "### Matrix addition, subtraction, multiplication and division"
   ]
  },
  {
   "cell_type": "code",
   "execution_count": 37,
   "metadata": {},
   "outputs": [
    {
     "name": "stdout",
     "output_type": "stream",
     "text": [
      "[[1 2]\n",
      " [3 4]\n",
      " [5 6]]\n",
      "[[1 2]]\n",
      "Result of addition: \n",
      " [[2 4]\n",
      " [4 6]\n",
      " [6 8]]\n",
      "Result of substraction: \n",
      " [[0 0]\n",
      " [2 2]\n",
      " [4 4]]\n",
      "Result of division: \n",
      " [[1. 1.]\n",
      " [3. 2.]\n",
      " [5. 3.]]\n"
     ]
    },
    {
     "ename": "ValueError",
     "evalue": "shapes (3,2) and (3,3) not aligned: 2 (dim 1) != 3 (dim 0)",
     "output_type": "error",
     "traceback": [
      "\u001b[1;31m---------------------------------------------------------------------------\u001b[0m",
      "\u001b[1;31mValueError\u001b[0m                                Traceback (most recent call last)",
      "Cell \u001b[1;32mIn[37], line 19\u001b[0m\n\u001b[0;32m     16\u001b[0m \u001b[38;5;66;03m# Multiplication: 左边的矩阵的列和右边矩阵的行数要一致\u001b[39;00m\n\u001b[0;32m     17\u001b[0m data3 \u001b[38;5;241m=\u001b[39m np\u001b[38;5;241m.\u001b[39mmat([[\u001b[38;5;241m5\u001b[39m,\u001b[38;5;241m6\u001b[39m, \u001b[38;5;241m7\u001b[39m], [\u001b[38;5;241m7\u001b[39m,\u001b[38;5;241m8\u001b[39m, \u001b[38;5;241m9\u001b[39m], [\u001b[38;5;241m9\u001b[39m,\u001b[38;5;241m10\u001b[39m, \u001b[38;5;241m11\u001b[39m]])\n\u001b[1;32m---> 19\u001b[0m \u001b[38;5;28mprint\u001b[39m(\u001b[38;5;124m'\u001b[39m\u001b[38;5;124mResult of multiplication: \u001b[39m\u001b[38;5;130;01m\\n\u001b[39;00m\u001b[38;5;124m'\u001b[39m, \u001b[43mdata1\u001b[49m\u001b[43m \u001b[49m\u001b[38;5;241;43m*\u001b[39;49m\u001b[43m \u001b[49m\u001b[43mdata3\u001b[49m)\n\u001b[0;32m     20\u001b[0m \u001b[38;5;28mprint\u001b[39m(\u001b[38;5;124m'\u001b[39m\u001b[38;5;124mResult of multiplication: \u001b[39m\u001b[38;5;130;01m\\n\u001b[39;00m\u001b[38;5;124m'\u001b[39m, data1 \u001b[38;5;241m@\u001b[39m data3)\n\u001b[0;32m     21\u001b[0m \u001b[38;5;28mprint\u001b[39m(\u001b[38;5;124m'\u001b[39m\u001b[38;5;124mResult of multiplication: \u001b[39m\u001b[38;5;130;01m\\n\u001b[39;00m\u001b[38;5;124m'\u001b[39m, np\u001b[38;5;241m.\u001b[39mdot(data1, data3))\n",
      "File \u001b[1;32md:\\Learning-Material\\pythonPractice\\venv\\lib\\site-packages\\numpy\\matrixlib\\defmatrix.py:218\u001b[0m, in \u001b[0;36mmatrix.__mul__\u001b[1;34m(self, other)\u001b[0m\n\u001b[0;32m    215\u001b[0m \u001b[38;5;28;01mdef\u001b[39;00m \u001b[38;5;21m__mul__\u001b[39m(\u001b[38;5;28mself\u001b[39m, other):\n\u001b[0;32m    216\u001b[0m     \u001b[38;5;28;01mif\u001b[39;00m \u001b[38;5;28misinstance\u001b[39m(other, (N\u001b[38;5;241m.\u001b[39mndarray, \u001b[38;5;28mlist\u001b[39m, \u001b[38;5;28mtuple\u001b[39m)) :\n\u001b[0;32m    217\u001b[0m         \u001b[38;5;66;03m# This promotes 1-D vectors to row vectors\u001b[39;00m\n\u001b[1;32m--> 218\u001b[0m         \u001b[38;5;28;01mreturn\u001b[39;00m \u001b[43mN\u001b[49m\u001b[38;5;241;43m.\u001b[39;49m\u001b[43mdot\u001b[49m\u001b[43m(\u001b[49m\u001b[38;5;28;43mself\u001b[39;49m\u001b[43m,\u001b[49m\u001b[43m \u001b[49m\u001b[43masmatrix\u001b[49m\u001b[43m(\u001b[49m\u001b[43mother\u001b[49m\u001b[43m)\u001b[49m\u001b[43m)\u001b[49m\n\u001b[0;32m    219\u001b[0m     \u001b[38;5;28;01mif\u001b[39;00m isscalar(other) \u001b[38;5;129;01mor\u001b[39;00m \u001b[38;5;129;01mnot\u001b[39;00m \u001b[38;5;28mhasattr\u001b[39m(other, \u001b[38;5;124m'\u001b[39m\u001b[38;5;124m__rmul__\u001b[39m\u001b[38;5;124m'\u001b[39m) :\n\u001b[0;32m    220\u001b[0m         \u001b[38;5;28;01mreturn\u001b[39;00m N\u001b[38;5;241m.\u001b[39mdot(\u001b[38;5;28mself\u001b[39m, other)\n",
      "File \u001b[1;32m<__array_function__ internals>:180\u001b[0m, in \u001b[0;36mdot\u001b[1;34m(*args, **kwargs)\u001b[0m\n",
      "\u001b[1;31mValueError\u001b[0m: shapes (3,2) and (3,3) not aligned: 2 (dim 1) != 3 (dim 0)"
     ]
    }
   ],
   "source": [
    "data1 = np.mat([[1,2], [3,4] ,[5,6]])\n",
    "print(data1)\n",
    "\n",
    "data2 = np.mat([1,2])\n",
    "print(data2)\n",
    "\n",
    "# Add\n",
    "print('Result of addition: \\n', data1 + data2)\n",
    "\n",
    "# Substraction\n",
    "print('Result of substraction: \\n', data1 - data2)\n",
    "\n",
    "# Division\n",
    "print('Result of division: \\n', data1 / data2)\n",
    "\n",
    "# Multiplication: 左边的矩阵的列和右边矩阵的行数要一致\n",
    "data3 = np.mat([[5, 6, 7], [7, 8, 9], [9, 10, 11]])\n",
    "\n",
    "print('Result of multiplication: \\n', data1 * data3)\n",
    "print('Result of multiplication: \\n', data1 @ data3)\n",
    "print('Result of multiplication: \\n', np.dot(data1, data3))\n"
   ]
  }
 ],
 "metadata": {
  "kernelspec": {
   "display_name": "venv",
   "language": "python",
   "name": "python3"
  },
  "language_info": {
   "codemirror_mode": {
    "name": "ipython",
    "version": 3
   },
   "file_extension": ".py",
   "mimetype": "text/x-python",
   "name": "python",
   "nbconvert_exporter": "python",
   "pygments_lexer": "ipython3",
   "version": "3.9.13"
  }
 },
 "nbformat": 4,
 "nbformat_minor": 2
}
