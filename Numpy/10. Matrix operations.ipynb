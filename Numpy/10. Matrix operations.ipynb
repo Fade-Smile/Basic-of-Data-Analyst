{
 "cells": [
  {
   "cell_type": "code",
   "execution_count": 1,
   "metadata": {},
   "outputs": [
    {
     "name": "stderr",
     "output_type": "stream",
     "text": [
      "d:\\Learning-Material\\pythonPractice\\venv\\lib\\site-packages\\numpy\\_distributor_init.py:30: UserWarning: loaded more than 1 DLL from .libs:\n",
      "d:\\Learning-Material\\pythonPractice\\venv\\lib\\site-packages\\numpy\\.libs\\libopenblas.FB5AE2TYXYH2IJRDKGDGQ3XBKLKTF43H.gfortran-win_amd64.dll\n",
      "d:\\Learning-Material\\pythonPractice\\venv\\lib\\site-packages\\numpy\\.libs\\libopenblas.WCDJNK7YVMPZQ2ME2ZZHJJRJ3JIKNDB7.gfortran-win_amd64.dll\n",
      "  warnings.warn(\"loaded more than 1 DLL from .libs:\"\n"
     ]
    }
   ],
   "source": [
    "import numpy as np"
   ]
  },
  {
   "cell_type": "markdown",
   "metadata": {},
   "source": [
    "### Create Matrix"
   ]
  },
  {
   "cell_type": "code",
   "execution_count": 2,
   "metadata": {},
   "outputs": [
    {
     "name": "stdout",
     "output_type": "stream",
     "text": [
      "[[5 6]\n",
      " [7 8]]\n",
      "\n",
      "[[5 6]\n",
      " [7 8]]\n",
      "<class 'numpy.matrix'> <class 'numpy.matrix'>\n",
      "\n",
      "Matrix created using list:\n",
      "[[1 2 3]\n",
      " [4 5 6]\n",
      " [7 8 9]]\n",
      "\n",
      "Matrix created using string:\n",
      "[[1 2 3]\n",
      " [4 5 6]\n",
      " [7 8 9]]\n",
      "<class 'numpy.matrix'> <class 'numpy.matrix'>\n",
      "\n",
      "<class 'numpy.ndarray'>\n"
     ]
    }
   ],
   "source": [
    "a = np.mat('5 6; 7 8')\n",
    "print(a)\n",
    "print()\n",
    "\n",
    "b = np.mat([[5,6], [7,8]])\n",
    "print(b)\n",
    "print(type(a), type(b))\n",
    "print()\n",
    "\n",
    "mat1 = np.matrix([[1, 2, 3], [4, 5, 6], [7, 8, 9]])\n",
    "\n",
    "mat2 = np.matrix('1 2 3; 4 5 6; 7 8 9')\n",
    "\n",
    "print(\"Matrix created using list:\")\n",
    "print(mat1)\n",
    "\n",
    "print(\"\\nMatrix created using string:\")\n",
    "print(mat2)\n",
    "\n",
    "print(type(mat1), type(mat2))\n",
    "print()\n",
    "\n",
    "n1 = np.array([[5, 6], [7, 8]])\n",
    "print(type(n1))\n"
   ]
  },
  {
   "cell_type": "code",
   "execution_count": 14,
   "metadata": {},
   "outputs": [
    {
     "name": "stdout",
     "output_type": "stream",
     "text": [
      "Create a 3*3 matrix of zeros:\n",
      "[[0. 0. 0.]\n",
      " [0. 0. 0.]\n",
      " [0. 0. 0.]]\n",
      "\n",
      "Create a 2*4 matrix of one:\n",
      "[[1. 1. 1. 1.]\n",
      " [1. 1. 1. 1.]]\n",
      "\n",
      "Create a 3*3 matrix of random number between 0 and 1:\n",
      "[[0.52518213 0.50765502 0.84061858]\n",
      " [0.14209202 0.70347357 0.51037485]\n",
      " [0.51758912 0.29190738 0.39220022]]\n",
      "\n",
      "Create a 3*5 matrix of random number between 1 and 8:\n",
      "[[1 5 2 5 3]\n",
      " [5 7 1 5 6]\n",
      " [4 7 7 6 1]]\n",
      "\n",
      "Create a 5*5 identity matrix:\n",
      "[[1 0 0 0 0]\n",
      " [0 1 0 0 0]\n",
      " [0 0 1 0 0]\n",
      " [0 0 0 1 0]\n",
      " [0 0 0 0 1]]\n"
     ]
    }
   ],
   "source": [
    "d1 = np.mat(np.zeros((3,3)))\n",
    "print(\"Create a 3*3 matrix of zeros:\")\n",
    "print(d1)\n",
    "print()\n",
    "\n",
    "d2 = np.mat(np.ones((2,4)))\n",
    "print(\"Create a 2*4 matrix of one:\")\n",
    "print(d2)\n",
    "print()\n",
    "\n",
    "d3 = np.mat(np.random.rand(3,3))\n",
    "print(\"Create a 3*3 matrix of random number between 0 and 1:\")\n",
    "print(d3)\n",
    "print()\n",
    "\n",
    "d4 = np.mat(np.random.randint(1, 8, size=(3,5)))\n",
    "print(\"Create a 3*5 matrix of random number between 1 and 8:\")\n",
    "print(d4)\n",
    "print()\n",
    "\n",
    "d5 = np.mat(np.eye(5,5), dtype=int)\n",
    "print(\"Create a 5*5 identity matrix:\")\n",
    "print(d5)"
   ]
  },
  {
   "cell_type": "markdown",
   "metadata": {},
   "source": [
    "### Matrix addition, subtraction, multiplication and division"
   ]
  }
 ],
 "metadata": {
  "kernelspec": {
   "display_name": "venv",
   "language": "python",
   "name": "python3"
  },
  "language_info": {
   "codemirror_mode": {
    "name": "ipython",
    "version": 3
   },
   "file_extension": ".py",
   "mimetype": "text/x-python",
   "name": "python",
   "nbconvert_exporter": "python",
   "pygments_lexer": "ipython3",
   "version": "3.9.13"
  }
 },
 "nbformat": 4,
 "nbformat_minor": 2
}
