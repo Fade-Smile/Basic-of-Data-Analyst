{
 "cells": [
  {
   "cell_type": "code",
   "execution_count": 1,
   "metadata": {},
   "outputs": [
    {
     "name": "stderr",
     "output_type": "stream",
     "text": [
      "d:\\Learning-Material\\pythonPractice\\venv\\lib\\site-packages\\numpy\\_distributor_init.py:30: UserWarning: loaded more than 1 DLL from .libs:\n",
      "d:\\Learning-Material\\pythonPractice\\venv\\lib\\site-packages\\numpy\\.libs\\libopenblas.FB5AE2TYXYH2IJRDKGDGQ3XBKLKTF43H.gfortran-win_amd64.dll\n",
      "d:\\Learning-Material\\pythonPractice\\venv\\lib\\site-packages\\numpy\\.libs\\libopenblas.WCDJNK7YVMPZQ2ME2ZZHJJRJ3JIKNDB7.gfortran-win_amd64.dll\n",
      "  warnings.warn(\"loaded more than 1 DLL from .libs:\"\n"
     ]
    }
   ],
   "source": [
    "import numpy as np"
   ]
  },
  {
   "cell_type": "markdown",
   "metadata": {},
   "source": [
    "### Create Matrix"
   ]
  },
  {
   "cell_type": "code",
   "execution_count": 2,
   "metadata": {},
   "outputs": [
    {
     "name": "stdout",
     "output_type": "stream",
     "text": [
      "[[5 6]\n",
      " [7 8]]\n",
      "\n",
      "[[5 6]\n",
      " [7 8]]\n",
      "<class 'numpy.matrix'> <class 'numpy.matrix'>\n",
      "\n",
      "Matrix created using list:\n",
      "[[1 2 3]\n",
      " [4 5 6]\n",
      " [7 8 9]]\n",
      "\n",
      "Matrix created using string:\n",
      "[[1 2 3]\n",
      " [4 5 6]\n",
      " [7 8 9]]\n",
      "<class 'numpy.matrix'> <class 'numpy.matrix'>\n",
      "\n",
      "<class 'numpy.ndarray'>\n"
     ]
    }
   ],
   "source": [
    "a = np.mat('5 6; 7 8')\n",
    "print(a)\n",
    "print()\n",
    "\n",
    "b = np.mat([[5,6], [7,8]])\n",
    "print(b)\n",
    "print(type(a), type(b))\n",
    "print()\n",
    "\n",
    "mat1 = np.matrix([[1, 2, 3], [4, 5, 6], [7, 8, 9]])\n",
    "\n",
    "mat2 = np.matrix('1 2 3; 4 5 6; 7 8 9')\n",
    "\n",
    "print(\"Matrix created using list:\")\n",
    "print(mat1)\n",
    "\n",
    "print(\"\\nMatrix created using string:\")\n",
    "print(mat2)\n",
    "\n",
    "print(type(mat1), type(mat2))\n",
    "print()\n",
    "\n",
    "n1 = np.array([[5, 6], [7, 8]])\n",
    "print(type(n1))\n"
   ]
  },
  {
   "cell_type": "code",
   "execution_count": 18,
   "metadata": {},
   "outputs": [
    {
     "name": "stdout",
     "output_type": "stream",
     "text": [
      "Create a 3*3 matrix of zeros:\n",
      "[[0. 0. 0.]\n",
      " [0. 0. 0.]\n",
      " [0. 0. 0.]]\n",
      "\n",
      "Create a 2*4 matrix of one:\n",
      "[[1. 1. 1. 1.]\n",
      " [1. 1. 1. 1.]]\n",
      "\n",
      "Create a 3*3 matrix of random number between 0 and 1:\n",
      "[[6.19568384e-01 9.30993848e-01 7.87842055e-01]\n",
      " [5.61222254e-01 1.67506034e-01 2.03087826e-01]\n",
      " [1.42668075e-04 6.32980038e-01 2.23593494e-01]]\n",
      "\n",
      "Create a 3*5 matrix of random number between 1 and 8:\n",
      "[[6 5 3 3 3]\n",
      " [7 4 5 2 2]\n",
      " [5 2 7 1 3]]\n",
      "\n",
      "Create a 5*5 diagonal matrix:\n",
      "[[1 0 0 0 0]\n",
      " [0 1 0 0 0]\n",
      " [0 0 1 0 0]\n",
      " [0 0 0 1 0]\n",
      " [0 0 0 0 1]]\n",
      "\n",
      "Create a diagonal matrix from a list:\n",
      "[[1 0 0 0 0]\n",
      " [0 2 0 0 0]\n",
      " [0 0 3 0 0]\n",
      " [0 0 0 4 0]\n",
      " [0 0 0 0 5]]\n"
     ]
    }
   ],
   "source": [
    "d1 = np.mat(np.zeros((3,3)))\n",
    "print(\"Create a 3*3 matrix of zeros:\")\n",
    "print(d1)\n",
    "print()\n",
    "\n",
    "d2 = np.mat(np.ones((2,4)))\n",
    "print(\"Create a 2*4 matrix of one:\")\n",
    "print(d2)\n",
    "print()\n",
    "\n",
    "d3 = np.mat(np.random.rand(3,3))\n",
    "print(\"Create a 3*3 matrix of random number between 0 and 1:\")\n",
    "print(d3)\n",
    "print()\n",
    "\n",
    "d4 = np.mat(np.random.randint(1, 8, size=(3,5)))\n",
    "print(\"Create a 3*5 matrix of random number between 1 and 8:\")\n",
    "print(d4)\n",
    "print()\n",
    "\n",
    "d5 = np.mat(np.eye(5,5), dtype=int)\n",
    "print(\"Create a 5*5 diagonal matrix:\")\n",
    "print(d5)\n",
    "print()\n",
    "\n",
    "a=[1, 2, 3, 4, 5]\n",
    "d6 = np.mat(np.diag(a))\n",
    "print(\"Create a diagonal matrix from a list:\")\n",
    "print(d6) "
   ]
  },
  {
   "cell_type": "markdown",
   "metadata": {},
   "source": [
    "### Matrix addition, subtraction, multiplication and division"
   ]
  },
  {
   "cell_type": "code",
   "execution_count": 39,
   "metadata": {},
   "outputs": [
    {
     "name": "stdout",
     "output_type": "stream",
     "text": [
      "[[1 2]\n",
      " [3 4]\n",
      " [5 6]]\n",
      "[[1 2]]\n",
      "Result of addition: \n",
      " [[2 4]\n",
      " [4 6]\n",
      " [6 8]]\n",
      "Result of substraction: \n",
      " [[0 0]\n",
      " [2 2]\n",
      " [4 4]]\n",
      "Result of division: \n",
      " [[1. 1.]\n",
      " [3. 2.]\n",
      " [5. 3.]]\n",
      "Result of multiplication: \n",
      " [[ 71  80  89]\n",
      " [ 92 104 116]]\n",
      "Result of multiplication: \n",
      " [[ 71  80  89]\n",
      " [ 92 104 116]]\n",
      "Result of multiplication: \n",
      " [[ 71  80  89]\n",
      " [ 92 104 116]]\n"
     ]
    }
   ],
   "source": [
    "data1 = np.mat([[1,2], [3,4] ,[5,6]])\n",
    "print(data1)\n",
    "\n",
    "data2 = np.mat([1,2])\n",
    "print(data2)\n",
    "\n",
    "# Add\n",
    "print('Result of addition: \\n', data1 + data2)\n",
    "\n",
    "# Substraction\n",
    "print('Result of substraction: \\n', data1 - data2)\n",
    "\n",
    "# Division\n",
    "print('Result of division: \\n', data1 / data2)\n",
    "\n",
    "# Multiplication: 左边的矩阵的列和右边矩阵的行数要一致\n",
    "data3 = np.mat([[5, 6, 7], [7, 8, 9], [9, 10, 11]])\n",
    "data1 =data1.T\n",
    "\n",
    "print('Result of multiplication: \\n', data1 * data3)\n",
    "print('Result of multiplication: \\n', data1 @ data3)\n",
    "print('Result of multiplication: \\n', np.dot(data1, data3))\n"
   ]
  },
  {
   "cell_type": "code",
   "execution_count": 44,
   "metadata": {},
   "outputs": [
    {
     "name": "stdout",
     "output_type": "stream",
     "text": [
      "[[ 1  3  3]\n",
      " [ 4  5  6]\n",
      " [ 7 12  9]]\n",
      "[[ 2  6  6]\n",
      " [ 8 10 12]\n",
      " [14 24 18]]\n",
      "矩阵相乘的结果: \n",
      " [[ 68 108  96]\n",
      " [132 218 192]\n",
      " [236 378 348]]\n",
      "矩阵相乘的结果: \n",
      " [[ 68 108  96]\n",
      " [132 218 192]\n",
      " [236 378 348]]\n",
      "矩阵对应元素相乘: \n",
      " [[  2  18  18]\n",
      " [ 32  50  72]\n",
      " [ 98 288 162]]\n"
     ]
    }
   ],
   "source": [
    "# 矩阵的点积与矩阵元素之间的相乘运算\n",
    "n1 = np.mat('1 3 3; 4 5 6; 7 12 9')\n",
    "n2 = np.mat('2 6 6; 8 10 12; 14 24 18')\n",
    "\n",
    "print(n1)\n",
    "print(n2)\n",
    "\n",
    "print('矩阵相乘的结果: \\n', n1 * n2)    # 点积\n",
    "print('矩阵相乘的结果: \\n', np.matmul(n1, n2))    # 点积\n",
    "\n",
    "\n",
    "print('矩阵对应元素相乘: \\n', np.multiply(n1, n2))    # 矩阵元素相乘\n",
    "\n"
   ]
  },
  {
   "cell_type": "markdown",
   "metadata": {},
   "source": [
    "### Transpose of matrix and inversion of matrix"
   ]
  },
  {
   "cell_type": "code",
   "execution_count": 51,
   "metadata": {},
   "outputs": [
    {
     "name": "stdout",
     "output_type": "stream",
     "text": [
      "[[ 1  3  1]\n",
      " [ 4  5  5]\n",
      " [ 7 12  9]]\n",
      "\n",
      "After Transposing: \n",
      " [[ 1  4  7]\n",
      " [ 3  5 12]\n",
      " [ 1  5  9]]\n",
      "\n",
      "Inversion of matric: \n",
      " [[ 3.   3.  -2. ]\n",
      " [ 0.2 -0.4  0.2]\n",
      " [-2.6 -1.8  1.4]]\n",
      "\n",
      "Inverse Matrix: \n",
      " [[ 3.   3.  -2. ]\n",
      " [ 0.2 -0.4  0.2]\n",
      " [-2.6 -1.8  1.4]]\n"
     ]
    }
   ],
   "source": [
    "n1 = np.mat('1 3 1; 4 5 5; 7 12 9')\n",
    "print(n1)\n",
    "print()\n",
    "print('After Transposing: \\n', n1.T)\n",
    "print()\n",
    "print('Inversion of matric: \\n', n1.I)\n",
    "\n",
    "A = np.linalg.inv(n1)\n",
    "print('\\nInverse Matrix: \\n', A)"
   ]
  }
 ],
 "metadata": {
  "kernelspec": {
   "display_name": "venv",
   "language": "python",
   "name": "python3"
  },
  "language_info": {
   "codemirror_mode": {
    "name": "ipython",
    "version": 3
   },
   "file_extension": ".py",
   "mimetype": "text/x-python",
   "name": "python",
   "nbconvert_exporter": "python",
   "pygments_lexer": "ipython3",
   "version": "3.9.13"
  }
 },
 "nbformat": 4,
 "nbformat_minor": 2
}
