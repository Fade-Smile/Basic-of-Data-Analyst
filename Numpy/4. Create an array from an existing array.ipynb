{
 "cells": [
  {
   "cell_type": "markdown",
   "metadata": {},
   "source": [
    "`np.asarray()` 函数是 NumPy 中用于将输入转换为数组的函数。其语法如下：\n",
    "\n",
    "```python\n",
    "numpy.asarray(a, dtype=None, order=None)\n",
    "```\n",
    "\n",
    "参数说明：\n",
    "- **`a`：** 输入数据，可以是列表、元组、数组等。\n",
    "- **`dtype`：** 数组的数据类型，可选参数。如果未提供，将根据输入数据类型推断。\n",
    "- **`order`：** 数组元素的存储顺序，可选参数。可以是 'C'（按行存储）或 'F'（按列存储）。\n",
    "\n",
    "`np.asarray()` 将输入转换为数组，如果输入已经是数组，则不进行拷贝，如果输入是其他可迭代对象，将其转换为数组。这使得 `np.asarray()` 是一个方便的方法，可以确保输入被视为数组。"
   ]
  },
  {
   "cell_type": "code",
   "execution_count": 8,
   "metadata": {},
   "outputs": [
    {
     "name": "stdout",
     "output_type": "stream",
     "text": [
      "[1 2 3]\n",
      "<class 'numpy.ndarray'>\n",
      "**********\n",
      "[[1 2 3]\n",
      " [4 5 6]]\n",
      "<class 'numpy.ndarray'>\n",
      "**********\n",
      "[1 2 3]\n",
      "<class 'numpy.ndarray'>\n",
      "**********\n",
      "[[1 2 3]\n",
      " [4 5 6]]\n",
      "<class 'numpy.ndarray'>\n",
      "**********\n",
      "[[1 2 3]\n",
      " [4 5 6]]\n"
     ]
    }
   ],
   "source": [
    "import numpy as np\n",
    "\n",
    "# 通过列表创建数组\n",
    "n1 = np.asarray([1, 2, 3])\n",
    "print(n1)\n",
    "print(type(n1))\n",
    "\n",
    "print('*'*10)\n",
    "# 通过列表的元组创建数组\n",
    "n2 = np.asarray([(1, 2, 3), (4, 5, 6)])\n",
    "print(n2)\n",
    "print(type(n2))\n",
    "\n",
    "print('*'*10)\n",
    "# 通过元组创建数组\n",
    "n3 = np.asarray((1, 2, 3))\n",
    "print(n3)\n",
    "print(type(n3))\n",
    "\n",
    "print('*'*10)\n",
    "# 通过元组的元组创建数组\n",
    "n4 = np.asarray(((1, 2, 3), (4, 5, 6)))\n",
    "print(n4)\n",
    "print(type(n4))\n",
    "\n",
    "print('*'*10)\n",
    "# 通过元组的列表创建数组\n",
    "n5 = np.asarray(([1, 2], [4, 5]))\n",
    "print(n5)"
   ]
  },
  {
   "cell_type": "markdown",
   "metadata": {},
   "source": [
    "`numpy.frombuffer()` 函数用于将一个缓冲区（通常是字节对象）转换为一个 NumPy 数组。其语法如下：\n",
    "\n",
    "```python\n",
    "numpy.frombuffer(buffer, dtype=float, count=-1, offset=0)\n",
    "```\n",
    "\n",
    "参数说明：\n",
    "- **`buffer`：** 缓冲区对象，通常是一个字节对象（`bytes`）。\n",
    "- **`dtype`：** 数组的数据类型，可选参数。默认为 `float`。\n",
    "- **`count`：** 要读取的元素数量，可选参数。默认为 -1，表示读取整个缓冲区。\n",
    "- **`offset`：** 起始读取位置的偏移量，可选参数。默认为 0。"
   ]
  },
  {
   "cell_type": "code",
   "execution_count": 12,
   "metadata": {},
   "outputs": [
    {
     "name": "stdout",
     "output_type": "stream",
     "text": [
      "[b'Y' b'o' b'l' b'a' b'n' b'd' b'a']\n",
      "[b'Y' b'o' b'l' b'a']\n",
      "[b'l' b'a' b'n' b'd' b'a']\n"
     ]
    }
   ],
   "source": [
    "# 动态数组\n",
    "import numpy as np\n",
    "\n",
    "# 从字节对象创建数组\n",
    "byte_data = b'Yolanda'\n",
    "arr1 = np.frombuffer(byte_data, dtype='S1')  # 'S1' 表示每个元素是一个字节的字符串\n",
    "print(arr1)\n",
    "\n",
    "# 从字节数组中的部分元素创建数组\n",
    "arr2 = np.frombuffer(byte_data, dtype='S1', count=4)\n",
    "print(arr2)\n",
    "\n",
    "# 使用偏移量创建数组\n",
    "arr3 = np.frombuffer(byte_data, dtype='S1', offset=2)\n",
    "print(arr3)\n"
   ]
  },
  {
   "cell_type": "markdown",
   "metadata": {},
   "source": [
    "`numpy.fromiter()` 函数用于从可迭代对象创建一个一维数组。其语法如下：\n",
    "\n",
    "```python\n",
    "numpy.fromiter(iterable, dtype, count=-1)\n",
    "```\n",
    "\n",
    "参数说明：\n",
    "- **`iterable`：** 可迭代对象，提供数据的来源。\n",
    "- **`dtype`：** 数组的数据类型。\n",
    "- **`count`：** 要从可迭代对象中读取的元素数量，可选参数。默认为 -1，表示读取所有元素。"
   ]
  },
  {
   "cell_type": "code",
   "execution_count": 16,
   "metadata": {},
   "outputs": [
    {
     "name": "stdout",
     "output_type": "stream",
     "text": [
      "<generator object <genexpr> at 0x000001E17A22F970>\n",
      "0 1 4 9 16 []\n",
      "[1. 2. 3. 4. 5.]\n",
      "[0 1 2 3 4]\n"
     ]
    }
   ],
   "source": [
    "import numpy as np\n",
    "\n",
    "# 从生成器表达式创建数组\n",
    "iterable_data = (x*x for x in range(5))\n",
    "print(iterable_data)\n",
    "for x in iterable_data:\n",
    "    print(x, end=' ')\n",
    "    \n",
    "arr1 = np.fromiter(iterable_data, dtype=int)\n",
    "print(arr1)\n",
    "\n",
    "# 从列表中创建数组\n",
    "arr2 = np.fromiter([1, 2, 3, 4, 5], dtype=float)\n",
    "print(arr2)\n",
    "\n",
    "# 从元组中读取部分元素创建数组\n",
    "arr3 = np.fromiter((x for x in range(10)), dtype=int, count=5)\n",
    "print(arr3)\n"
   ]
  },
  {
   "cell_type": "markdown",
   "metadata": {},
   "source": [
    "`numpy.empty_like()` 函数用于创建一个与给定数组具有相同形状（shape）和数据类型（dtype）的未初始化数组。它返回一个新的数组，该数组的元素值取决于内存状态。\n",
    "\n",
    "其语法如下：\n",
    "\n",
    "```python\n",
    "numpy.empty_like(prototype, dtype=None, order='K', subok=True, shape=None)\n",
    "```\n",
    "\n",
    "参数说明：\n",
    "- **`prototype`：** 用作形状和数据类型参考的数组。\n",
    "- **`dtype`：** 所需的输出数据类型，可选参数。如果未提供，则使用 `prototype` 的数据类型。\n",
    "- **`order`：** 数组元素的存储顺序，可选参数。默认为 'K'。\n",
    "- **`subok`：** 如果为 `True`，则返回一个与 `prototype` 相同的子类，否则返回基类。\n",
    "- **`shape`：** 输出数组的形状，可选参数。如果未提供，则使用 `prototype` 的形状。"
   ]
  },
  {
   "cell_type": "code",
   "execution_count": 17,
   "metadata": {},
   "outputs": [
    {
     "name": "stdout",
     "output_type": "stream",
     "text": [
      "[[1238553856        481          0]\n",
      " [         0     131074          0]]\n"
     ]
    }
   ],
   "source": [
    "import numpy as np\n",
    "\n",
    "# 创建一个形状为 (2, 3)、数据类型为 int 的数组\n",
    "arr = np.array([[1, 2, 3], [4, 5, 6]])\n",
    "\n",
    "# 使用 empty_like 创建一个与 arr 具有相同形状和数据类型的未初始化数组\n",
    "empty_arr = np.empty_like(arr)\n",
    "\n",
    "print(empty_arr)\n",
    "\n"
   ]
  },
  {
   "cell_type": "markdown",
   "metadata": {},
   "source": [
    "`numpy.zeros_like()` 函数用于创建一个与给定数组具有相同形状（shape）和数据类型（dtype）的数组，但所有元素的值都设置为零。\n",
    "\n",
    "```python\n",
    "numpy.zeros_like(prototype, dtype=None, order='K', subok=True, shape=None)\n",
    "```\n",
    "\n",
    "参数说明：\n",
    "- **`prototype`：** 用作形状和数据类型参考的数组。\n",
    "- **`dtype`：** 可选参数，新数组的数据类型。如果未提供，将使用 `prototype` 的数据类型。\n",
    "- **`order`：** 数组元素的存储顺序，可选参数。默认为 'K'（保留输入数组的顺序）。\n",
    "- **`subok`：** 如果为 True，则子类将被传递；否则，返回标准的数组。默认为 True。\n",
    "- **`shape`：** 可选参数，如果指定，则返回具有指定形状的数组。默认为 None，即返回与 `prototype` 相同形状的数组。\n",
    "\n",
    "`zeros_like` 主要用于创建一个与现有数组具有相同形状的数组，但所有元素的值都初始化为零。这在需要一个占位符数组，并希望初始化所有元素为零的情况下很有用。\n"
   ]
  },
  {
   "cell_type": "code",
   "execution_count": 18,
   "metadata": {},
   "outputs": [
    {
     "name": "stdout",
     "output_type": "stream",
     "text": [
      "Original Array:\n",
      "[[1 2 3]\n",
      " [4 5 6]]\n",
      "\n",
      "Zeros-like Array:\n",
      "[[0 0 0]\n",
      " [0 0 0]]\n"
     ]
    }
   ],
   "source": [
    "import numpy as np\n",
    "\n",
    "# 创建一个原始数组\n",
    "arr1 = np.array([[1, 2, 3], [4, 5, 6]])\n",
    "\n",
    "# 使用 zeros_like 创建具有相同形状的数组，但所有元素值都为零\n",
    "arr2 = np.zeros_like(arr1)\n",
    "\n",
    "print(\"Original Array:\")\n",
    "print(arr1)\n",
    "\n",
    "print(\"\\nZeros-like Array:\")\n",
    "print(arr2)\n"
   ]
  },
  {
   "cell_type": "markdown",
   "metadata": {},
   "source": [
    "`numpy.ones_like()` 函数用于创建一个与给定数组具有相同形状（shape）和数据类型（dtype）的数组，但所有元素的值都被初始化为1。\n",
    "\n",
    "```python\n",
    "numpy.ones_like(prototype, dtype=None, order='K', subok=True, shape=None)\n",
    "```\n",
    "\n",
    "参数说明：\n",
    "- **`prototype`：** 用作形状和数据类型参考的数组。\n",
    "- **`dtype`：** 可选参数，新数组的数据类型。如果未提供，将使用 `prototype` 的数据类型。\n",
    "- **`order`：** 数组元素的存储顺序，可选参数。默认为 'K'（保留输入数组的顺序）。\n",
    "- **`subok`：** 如果为 True，则子类将被传递；否则，返回标准的数组。默认为 True。\n",
    "- **`shape`：** 可选参数，如果指定，则返回具有指定形状的数组。默认为 None，即返回与 `prototype` 相同形状的数组。\n",
    "\n",
    "`ones_like` 主要用于创建一个与现有数组具有相同形状的数组，但是其所有元素的值都被初始化为1。这在需要一个占位符数组，并希望初始化所有元素为1的情况下很有用。\n"
   ]
  },
  {
   "cell_type": "code",
   "execution_count": 19,
   "metadata": {},
   "outputs": [
    {
     "name": "stdout",
     "output_type": "stream",
     "text": [
      "Original Array:\n",
      "[[1 2 3]\n",
      " [4 5 6]]\n",
      "\n",
      "Ones-like Array:\n",
      "[[1 1 1]\n",
      " [1 1 1]]\n"
     ]
    }
   ],
   "source": [
    "import numpy as np\n",
    "\n",
    "# 创建一个原始数组\n",
    "arr1 = np.array([[1, 2, 3], [4, 5, 6]])\n",
    "\n",
    "# 使用 ones_like 创建具有相同形状的数组，但所有元素值都为1\n",
    "arr2 = np.ones_like(arr1)\n",
    "\n",
    "print(\"Original Array:\")\n",
    "print(arr1)\n",
    "\n",
    "print(\"\\nOnes-like Array:\")\n",
    "print(arr2)\n"
   ]
  },
  {
   "cell_type": "markdown",
   "metadata": {},
   "source": [
    "`numpy.full_like()` 函数用于创建一个与给定数组具有相同形状（shape）和数据类型（dtype）的数组，但所有元素的值都被初始化为指定的常数值。\n",
    "\n",
    "```python\n",
    "numpy.full_like(prototype, fill_value, dtype=None, order='K', subok=True, shape=None)\n",
    "```\n",
    "\n",
    "参数说明：\n",
    "- **`prototype`：** 用作形状和数据类型参考的数组。\n",
    "- **`fill_value`：** 新数组中所有元素的初始值。\n",
    "- **`dtype`：** 可选参数，新数组的数据类型。如果未提供，将使用 `prototype` 的数据类型。\n",
    "- **`order`：** 数组元素的存储顺序，可选参数。默认为 'K'（保留输入数组的顺序）。\n",
    "- **`subok`：** 如果为 True，则子类将被传递；否则，返回标准的数组。默认为 True。\n",
    "- **`shape`：** 可选参数，如果指定，则返回具有指定形状的数组。默认为 None，即返回与 `prototype` 相同形状的数组。\n",
    "\n",
    "`full_like` 主要用于创建一个与现有数组具有相同形状的数组，但是其所有元素的值都被初始化为指定的常数值。这在需要一个占位符数组，并希望初始化所有元素为特定值的情况下很有用。\n"
   ]
  },
  {
   "cell_type": "code",
   "execution_count": 20,
   "metadata": {},
   "outputs": [
    {
     "name": "stdout",
     "output_type": "stream",
     "text": [
      "Original Array:\n",
      "[[1 2 3]\n",
      " [4 5 6]]\n",
      "\n",
      "Full-like Array:\n",
      "[[10 10 10]\n",
      " [10 10 10]]\n"
     ]
    }
   ],
   "source": [
    "import numpy as np\n",
    "\n",
    "# 创建一个原始数组\n",
    "arr1 = np.array([[1, 2, 3], [4, 5, 6]])\n",
    "\n",
    "# 使用 full_like 创建具有相同形状的数组，所有元素值都为指定的常数值\n",
    "arr2 = np.full_like(arr1, fill_value=10)\n",
    "\n",
    "print(\"Original Array:\")\n",
    "print(arr1)\n",
    "\n",
    "print(\"\\nFull-like Array:\")\n",
    "print(arr2)\n"
   ]
  }
 ],
 "metadata": {
  "kernelspec": {
   "display_name": "venv",
   "language": "python",
   "name": "python3"
  },
  "language_info": {
   "codemirror_mode": {
    "name": "ipython",
    "version": 3
   },
   "file_extension": ".py",
   "mimetype": "text/x-python",
   "name": "python",
   "nbconvert_exporter": "python",
   "pygments_lexer": "ipython3",
   "version": "3.9.13"
  }
 },
 "nbformat": 4,
 "nbformat_minor": 2
}
