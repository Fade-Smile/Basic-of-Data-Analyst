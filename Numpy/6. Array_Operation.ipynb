{
 "cells": [
  {
   "cell_type": "code",
   "execution_count": 1,
   "metadata": {},
   "outputs": [
    {
     "name": "stderr",
     "output_type": "stream",
     "text": [
      "d:\\Learning-Material\\pythonPractice\\venv\\lib\\site-packages\\numpy\\_distributor_init.py:30: UserWarning: loaded more than 1 DLL from .libs:\n",
      "d:\\Learning-Material\\pythonPractice\\venv\\lib\\site-packages\\numpy\\.libs\\libopenblas.FB5AE2TYXYH2IJRDKGDGQ3XBKLKTF43H.gfortran-win_amd64.dll\n",
      "d:\\Learning-Material\\pythonPractice\\venv\\lib\\site-packages\\numpy\\.libs\\libopenblas.WCDJNK7YVMPZQ2ME2ZZHJJRJ3JIKNDB7.gfortran-win_amd64.dll\n",
      "  warnings.warn(\"loaded more than 1 DLL from .libs:\"\n"
     ]
    }
   ],
   "source": [
    "import numpy as np"
   ]
  },
  {
   "cell_type": "code",
   "execution_count": 2,
   "metadata": {},
   "outputs": [
    {
     "name": "stdout",
     "output_type": "stream",
     "text": [
      "Addition: [5 7 9]\n",
      "Subtraction: [-3 -3 -3]\n",
      "Multiplication: [ 4 10 18]\n",
      "Division: [0.25 0.4  0.5 ]\n",
      "Power: [  1  32 729]\n"
     ]
    }
   ],
   "source": [
    "# 创建两个数组\n",
    "arr1 = np.array([1, 2, 3])\n",
    "arr2 = np.array([4, 5, 6])\n",
    "\n",
    "# 加法\n",
    "result_add = arr1 + arr2\n",
    "\n",
    "# 减法\n",
    "result_subtract = arr1 - arr2\n",
    "\n",
    "# 乘法\n",
    "result_multiply = arr1 * arr2\n",
    "\n",
    "# 除法\n",
    "result_divide = arr1 / arr2\n",
    "\n",
    "# 幂运算\n",
    "result_power = arr1 ** arr2\n",
    "\n",
    "print(\"Addition:\", result_add)\n",
    "print(\"Subtraction:\", result_subtract)\n",
    "print(\"Multiplication:\", result_multiply)\n",
    "print(\"Division:\", result_divide)\n",
    "print(\"Power:\", result_power)\n"
   ]
  },
  {
   "cell_type": "code",
   "execution_count": 7,
   "metadata": {},
   "outputs": [
    {
     "name": "stdout",
     "output_type": "stream",
     "text": [
      "[False False  True]\n",
      "[ True  True False]\n",
      "[ True  True False]\n",
      "[False False False]\n"
     ]
    }
   ],
   "source": [
    "# Comparasion \n",
    "a1 = np.array([12, 52, 60])\n",
    "a2 = np.array([11, 42, 60])\n",
    "\n",
    "print(a1 == a2)\n",
    "print(a1 != a2)\n",
    "print(a1 > a2)\n",
    "print(a1 < a2)"
   ]
  },
  {
   "cell_type": "code",
   "execution_count": 3,
   "metadata": {},
   "outputs": [
    {
     "name": "stdout",
     "output_type": "stream",
     "text": [
      "Logical AND: [False  True False]\n",
      "Logical OR: [ True  True False]\n",
      "Logical NOT: [False False  True]\n"
     ]
    }
   ],
   "source": [
    "# 创建两个布尔数组\n",
    "arr1 = np.array([True, True, False])\n",
    "arr2 = np.array([False, True, False])\n",
    "\n",
    "# 逻辑与\n",
    "result_and = arr1 & arr2\n",
    "\n",
    "# 逻辑或\n",
    "result_or = arr1 | arr2\n",
    "\n",
    "# 逻辑非\n",
    "result_not = ~arr1\n",
    "\n",
    "print(\"Logical AND:\", result_and)\n",
    "print(\"Logical OR:\", result_or)\n",
    "print(\"Logical NOT:\", result_not)\n"
   ]
  },
  {
   "cell_type": "code",
   "execution_count": 4,
   "metadata": {},
   "outputs": [
    {
     "name": "stdout",
     "output_type": "stream",
     "text": [
      "Sum: 21\n",
      "Mean: 3.5\n",
      "Max: 6\n",
      "Min: 1\n"
     ]
    }
   ],
   "source": [
    "# 创建一个数组\n",
    "arr = np.array([[1, 2, 3], [4, 5, 6]])\n",
    "\n",
    "# 求和\n",
    "sum_result = np.sum(arr)\n",
    "\n",
    "# 求平均值\n",
    "mean_result = np.mean(arr)\n",
    "\n",
    "# 求最大值\n",
    "max_result = np.max(arr)\n",
    "\n",
    "# 求最小值\n",
    "min_result = np.min(arr)\n",
    "\n",
    "print(\"Sum:\", sum_result)\n",
    "print(\"Mean:\", mean_result)\n",
    "print(\"Max:\", max_result)\n",
    "print(\"Min:\", min_result)\n"
   ]
  }
 ],
 "metadata": {
  "kernelspec": {
   "display_name": "venv",
   "language": "python",
   "name": "python3"
  },
  "language_info": {
   "codemirror_mode": {
    "name": "ipython",
    "version": 3
   },
   "file_extension": ".py",
   "mimetype": "text/x-python",
   "name": "python",
   "nbconvert_exporter": "python",
   "pygments_lexer": "ipython3",
   "version": "3.9.13"
  }
 },
 "nbformat": 4,
 "nbformat_minor": 2
}
