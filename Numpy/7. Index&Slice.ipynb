{
 "cells": [
  {
   "cell_type": "code",
   "execution_count": 1,
   "metadata": {},
   "outputs": [
    {
     "name": "stderr",
     "output_type": "stream",
     "text": [
      "d:\\Learning-Material\\pythonPractice\\venv\\lib\\site-packages\\numpy\\_distributor_init.py:30: UserWarning: loaded more than 1 DLL from .libs:\n",
      "d:\\Learning-Material\\pythonPractice\\venv\\lib\\site-packages\\numpy\\.libs\\libopenblas.FB5AE2TYXYH2IJRDKGDGQ3XBKLKTF43H.gfortran-win_amd64.dll\n",
      "d:\\Learning-Material\\pythonPractice\\venv\\lib\\site-packages\\numpy\\.libs\\libopenblas.WCDJNK7YVMPZQ2ME2ZZHJJRJ3JIKNDB7.gfortran-win_amd64.dll\n",
      "  warnings.warn(\"loaded more than 1 DLL from .libs:\"\n"
     ]
    }
   ],
   "source": [
    "import numpy as np"
   ]
  },
  {
   "cell_type": "code",
   "execution_count": 2,
   "metadata": {},
   "outputs": [
    {
     "name": "stdout",
     "output_type": "stream",
     "text": [
      "1\n",
      "4\n",
      "[[ 1  2  3  4  5]\n",
      " [ 6  7  8  9 10]]\n",
      "7\n",
      "7\n",
      "[ 6  7  8  9 10]\n",
      "[ 6  7  8  9 10]\n"
     ]
    }
   ],
   "source": [
    "# index: start with 0\n",
    "# 1D array\n",
    "a1 = np.array([1,2,3,4,5])\n",
    "\n",
    "print(a1[0])\n",
    "print(a1[-2])\n",
    "\n",
    "# 2D array\n",
    "a2 = np.array([[1,2,3,4,5],[6,7,8,9,10]])\n",
    "print(a2)\n",
    "print(a2[1][1])\n",
    "print(a2[1,1])\n",
    "print(a2[1])\n",
    "print(a2[-1])"
   ]
  },
  {
   "cell_type": "code",
   "execution_count": 3,
   "metadata": {},
   "outputs": [
    {
     "name": "stdout",
     "output_type": "stream",
     "text": [
      "[10 20 30]\n",
      "[40 50 60]\n",
      "[ 70  80  90 100]\n",
      "[10 30 50 70 90]\n",
      "[20 70]\n",
      "[ 10  20  30  40  50  60  70  80  90 100]\n",
      "[100  90  80  70  60  50  40  30  20  10]\n",
      "[100  70  40]\n",
      "[60 40]\n"
     ]
    }
   ],
   "source": [
    "# Slice   1D array\n",
    "a3 = np.array([10, 20, 30, 40, 50, 60, 70, 80, 90, 100])\n",
    "print(a3[:3])  # If the starting position is omitted, it defaults to 0. Including head but not tail[0,3), default step: 1\n",
    "print(a3[3: 6])\n",
    "print(a3[6:])  # If the ending position is omitted, it defaults to the length of the array. Including tail but not head[6,10)\n",
    "print(a3[::2])  # step: 2\n",
    "print(a3[1::5])  # step: 5\n",
    "print(a3[::])   # Get all elements in the array\n",
    "\n",
    "print(a3[::-1])  # reverse\n",
    "print(a3[-1:-9:-3])\n",
    "print(a3[-5:-8:-2])"
   ]
  },
  {
   "cell_type": "code",
   "execution_count": 4,
   "metadata": {},
   "outputs": [
    {
     "name": "stdout",
     "output_type": "stream",
     "text": [
      "List Slice: [2, 3, 4]\n",
      "Original List: [1, 2, 3, 4, 5]\n",
      "Modified List: [2, 101, 4]\n",
      "\n",
      "Array Slice: [2 3 4]\n",
      "Original Array: [  1   2 101   4   5]\n",
      "Modified Array: [  2 101   4]\n"
     ]
    }
   ],
   "source": [
    "# The difference between list slicing and array slicing\n",
    "\n",
    "# list slicing\n",
    "list1 = [1, 2, 3, 4, 5]\n",
    "list_slice = list1[1:4]\n",
    "print(\"List Slice:\", list_slice)\n",
    "\n",
    "# Modify the sliced list\n",
    "list_slice[1] = 101\n",
    "print(\"Original List:\", list1)\n",
    "print(\"Modified List:\", list_slice)\n",
    "\n",
    "print()\n",
    "\n",
    "# NumPy array slicing\n",
    "array1 = np.array([1, 2, 3, 4, 5])\n",
    "array_slice = array1[1:4]\n",
    "print(\"Array Slice:\", array_slice)\n",
    "\n",
    "# Modify the array after slicing\n",
    "array_slice[1] = 101\n",
    "print(\"Original Array:\", array1)\n",
    "print(\"Modified Array:\", array_slice)\n",
    "\n"
   ]
  },
  {
   "cell_type": "code",
   "execution_count": 5,
   "metadata": {},
   "outputs": [
    {
     "name": "stdout",
     "output_type": "stream",
     "text": [
      "Original: \n",
      "[[ 1  2  3  4]\n",
      " [ 5  6  7  8]\n",
      " [ 9 10 11 12]]\n",
      "\n",
      "Row 1, Column 2: 7\n",
      "\n",
      "Row 0-2 (Exnclude 2), Column 1 to the end: \n",
      "[[2 3 4]\n",
      " [6 7 8]]\n",
      "\n",
      "The line before the comma indicates the row with index 1 and ends with the column with index 2, excluding 2: [5 6]\n",
      "\n",
      "Start Row 0, end Row 2, and Column 2: [3 7]\n",
      "\n",
      "Select the first element of all rows: \n",
      "[[1]\n",
      " [5]\n",
      " [9]]\n",
      "\n"
     ]
    }
   ],
   "source": [
    "# 2D array slice\n",
    "\n",
    "arr1 = np.array([[1,2,3,4],[5,6,7,8], [9, 10,11,12]])\n",
    "print(f'Original: \\n{arr1}\\n')\n",
    "\n",
    "print(f'Row 1, Column 2: {arr1[1,2]}\\n')  \n",
    "print(f'Row 0-2 (Exnclude 2), Column 1 to the end: \\n{arr1[:2, 1:]}\\n')\n",
    "print(f'The line before the comma indicates the row with index 1 and ends with the column with index 2, excluding 2: {arr1[1,:2]}\\n')\n",
    "print(f'Start Row 0, end Row 2, and Column 2: {arr1[:2,2]}\\n')\n",
    "print(f'Select the first element of all rows: \\n{arr1[:,:1]}\\n')\n",
    "\n"
   ]
  }
 ],
 "metadata": {
  "kernelspec": {
   "display_name": "venv",
   "language": "python",
   "name": "python3"
  },
  "language_info": {
   "codemirror_mode": {
    "name": "ipython",
    "version": 3
   },
   "file_extension": ".py",
   "mimetype": "text/x-python",
   "name": "python",
   "nbconvert_exporter": "python",
   "pygments_lexer": "ipython3",
   "version": "3.9.13"
  }
 },
 "nbformat": 4,
 "nbformat_minor": 2
}
