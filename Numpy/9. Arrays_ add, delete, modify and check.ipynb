{
 "cells": [
  {
   "cell_type": "code",
   "execution_count": 1,
   "metadata": {},
   "outputs": [
    {
     "name": "stderr",
     "output_type": "stream",
     "text": [
      "d:\\Learning-Material\\pythonPractice\\venv\\lib\\site-packages\\numpy\\_distributor_init.py:30: UserWarning: loaded more than 1 DLL from .libs:\n",
      "d:\\Learning-Material\\pythonPractice\\venv\\lib\\site-packages\\numpy\\.libs\\libopenblas.FB5AE2TYXYH2IJRDKGDGQ3XBKLKTF43H.gfortran-win_amd64.dll\n",
      "d:\\Learning-Material\\pythonPractice\\venv\\lib\\site-packages\\numpy\\.libs\\libopenblas.WCDJNK7YVMPZQ2ME2ZZHJJRJ3JIKNDB7.gfortran-win_amd64.dll\n",
      "  warnings.warn(\"loaded more than 1 DLL from .libs:\"\n"
     ]
    }
   ],
   "source": [
    "import numpy as np"
   ]
  },
  {
   "cell_type": "markdown",
   "metadata": {},
   "source": [
    "### Add Element"
   ]
  },
  {
   "cell_type": "code",
   "execution_count": 2,
   "metadata": {},
   "outputs": [
    {
     "name": "stdout",
     "output_type": "stream",
     "text": [
      "Original Array:\n",
      "[1 2 3]\n",
      "\n",
      "Array after Append:\n",
      "[1 2 3 4]\n",
      "\n",
      "Array after Insert:\n",
      "[1 5 2 3]\n"
     ]
    }
   ],
   "source": [
    "arr = np.array([1, 2, 3])\n",
    "\n",
    "# 在数组末尾添加元素\n",
    "arr_append = np.append(arr, 4)\n",
    "\n",
    "# 在指定位置插入元素\n",
    "arr_insert = np.insert(arr, 1, 5)\n",
    "\n",
    "print(\"Original Array:\")\n",
    "print(arr)\n",
    "\n",
    "print(\"\\nArray after Append:\")\n",
    "print(arr_append)\n",
    "\n",
    "print(\"\\nArray after Insert:\")\n",
    "print(arr_insert)\n"
   ]
  },
  {
   "cell_type": "code",
   "execution_count": 16,
   "metadata": {},
   "outputs": [
    {
     "name": "stdout",
     "output_type": "stream",
     "text": [
      "Original array: \n",
      "[[1 2]\n",
      " [3 4]\n",
      " [5 6]]\n",
      "[[10 20]\n",
      " [30 40]\n",
      " [50 60]]\n",
      "\n",
      "Add data horizontally: \n",
      "[[ 1  2 10 20]\n",
      " [ 3  4 30 40]\n",
      " [ 5  6 50 60]]\n",
      "\n",
      "Add data vertically: \n",
      "[[ 1  2]\n",
      " [ 3  4]\n",
      " [ 5  6]\n",
      " [10 20]\n",
      " [30 40]\n",
      " [50 60]]\n"
     ]
    }
   ],
   "source": [
    "n1 = np.array([[1,2], [3,4], [5,6]])\n",
    "n2 = np.array([[10,20], [30,40], [50,60]])\n",
    "\n",
    "print('Original array: ')\n",
    "print(n1)\n",
    "print(n2)\n",
    "print()\n",
    "\n",
    "print('Add data horizontally: ')\n",
    "print(np.hstack((n1, n2)))\n",
    "\n",
    "print()\n",
    "\n",
    "print('Add data vertically: ')\n",
    "print(np.vstack((n1, n2)))"
   ]
  },
  {
   "cell_type": "markdown",
   "metadata": {},
   "source": [
    "### Delete Element\n",
    "\n",
    "<strong>axis: 0 means Row, 1 means Column</Strong   >"
   ]
  },
  {
   "cell_type": "code",
   "execution_count": 13,
   "metadata": {},
   "outputs": [
    {
     "name": "stdout",
     "output_type": "stream",
     "text": [
      "[[1 2]\n",
      " [3 4]\n",
      " [5 6]]\n",
      "\n",
      "After Delete Row 3: \n",
      " [[1 2]\n",
      " [3 4]]\n",
      "\n",
      "After Delete Column 2: \n",
      " [[1]\n",
      " [3]\n",
      " [5]]\n",
      "\n",
      "After Delete Row 2 and Row 3: \n",
      " [[1 2]]\n",
      "\n"
     ]
    }
   ],
   "source": [
    "n1 = np.array([[1,2], [3,4], [5,6]])\n",
    "print(n1)\n",
    "print()\n",
    "\n",
    "# Delete Row 3 \n",
    "n2 = np.delete(n1, 2, axis=0)\n",
    "print('After Delete Row 3: \\n', n2)\n",
    "print()\n",
    "\n",
    "# Delete Column 2\n",
    "n3 = np.delete(n1, 1, axis=1)\n",
    "print('After Delete Column 2: \\n', n3)\n",
    "print()\n",
    "\n",
    "# Delete Row 2 and Row 3\n",
    "n4 = np.delete(n1, [1,2], axis=0)\n",
    "print('After Delete Row 2 and Row 3: \\n',n4)\n",
    "print()\n",
    "\n",
    "# axis: 0 means Row, 1 means Column"
   ]
  },
  {
   "cell_type": "markdown",
   "metadata": {},
   "source": [
    "### Modify"
   ]
  },
  {
   "cell_type": "code",
   "execution_count": 20,
   "metadata": {},
   "outputs": [
    {
     "name": "stdout",
     "output_type": "stream",
     "text": [
      "Array before Modification: \n",
      "[[1 2]\n",
      " [3 4]\n",
      " [5 6]]\n",
      "Array after Modification: \n",
      "[[ 1  2]\n",
      " [ 3  4]\n",
      " [ 5 10]]\n"
     ]
    }
   ],
   "source": [
    "import numpy as np\n",
    "\n",
    "arr = np.array([[1,2], [3,4], [5,6]])\n",
    "print(\"Array before Modification: \")\n",
    "print(arr)\n",
    "\n",
    "# Modifying the element at Row 3, Column 2 to 10\n",
    "arr[2][1] = 10\n",
    "\n",
    "print(\"Array after Modification: \")\n",
    "print(arr)\n"
   ]
  },
  {
   "cell_type": "markdown",
   "metadata": {},
   "source": [
    "### Search\n",
    "\n",
    "`numpy.where()` 函数是 NumPy 中用于根据指定的条件返回数组中满足条件元素的索引的函数。该函数的基本语法如下：\n",
    "\n",
    "```python\n",
    "numpy.where(condition[, x, y])\n",
    "```\n",
    "\n",
    "- `condition`: 表示条件，是一个布尔数组或者可以被转换为布尔数组的表达式。\n",
    "- `x`, `y`（可选）: 是两个数组，表示满足条件和不满足条件时的替代值。如果未提供，则返回满足条件元素的索引。"
   ]
  },
  {
   "cell_type": "code",
   "execution_count": 28,
   "metadata": {},
   "outputs": [
    {
     "name": "stdout",
     "output_type": "stream",
     "text": [
      "[10 11 12 13 14 15 16 17 18 19 20]\n",
      "\n",
      "Indices where element > 5:\n",
      "(array([ 6,  7,  8,  9, 10], dtype=int64),)\n",
      "\n",
      "Element where element > 5:\n",
      "[16 17 18 19 20]\n",
      "[0 0 0 0 0 0 2 2 2 2 2]\n"
     ]
    }
   ],
   "source": [
    "n = np.arange(10, 21)\n",
    "print(n)\n",
    "\n",
    "# Find the element index large than 15\n",
    "index = np.where(n > 15)\n",
    "# Find the element index large than 15\n",
    "element = n[np.where(n > 15)]\n",
    "\n",
    "print(\"\\nIndices where element > 5:\")\n",
    "print(index)\n",
    "\n",
    "print()\n",
    "\n",
    "print(\"Element where element > 5:\")\n",
    "print(element)\n",
    "\n",
    "\n",
    "n3 = np.where(n>15, 2, 0)  # If the elements in the array are greater than 5, output 2, otherwise output 0\n",
    "print(n3)"
   ]
  }
 ],
 "metadata": {
  "kernelspec": {
   "display_name": "venv",
   "language": "python",
   "name": "python3"
  },
  "language_info": {
   "codemirror_mode": {
    "name": "ipython",
    "version": 3
   },
   "file_extension": ".py",
   "mimetype": "text/x-python",
   "name": "python",
   "nbconvert_exporter": "python",
   "pygments_lexer": "ipython3",
   "version": "3.9.13"
  }
 },
 "nbformat": 4,
 "nbformat_minor": 2
}
