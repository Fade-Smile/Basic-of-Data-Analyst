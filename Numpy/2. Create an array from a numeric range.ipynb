{
 "cells": [
  {
   "cell_type": "markdown",
   "metadata": {},
   "source": [
    "`np.arange()` 函数用于创建一个等差数列的一维数组。其语法如下：\n",
    "\n",
    "```python\n",
    "numpy.arange([start, ]stop, [step, ]dtype=None)\n",
    "```\n",
    "\n",
    "参数说明：\n",
    "- **`start`：** 起始值，可选参数。默认为 0。\n",
    "- **`stop`：** 结束值（不包含在范围内）。\n",
    "- **`step`：** 步长，可选参数。默认为 1。\n",
    "- **`dtype`：** 数据类型，可选参数。如果未指定，将根据输入参数推断。\n",
    "\n",
    "`np.arange()` 返回一个包含从 `start` 到 `stop` 之间以 `step` 为步长的数列的数组。注意，`stop` 不包含在结果数组中。\n",
    "\n"
   ]
  },
  {
   "cell_type": "code",
   "execution_count": 1,
   "metadata": {},
   "outputs": [
    {
     "name": "stdout",
     "output_type": "stream",
     "text": [
      "[1 3 5 7 9]\n"
     ]
    },
    {
     "name": "stderr",
     "output_type": "stream",
     "text": [
      "d:\\Learning-Material\\pythonPractice\\venv\\lib\\site-packages\\numpy\\_distributor_init.py:30: UserWarning: loaded more than 1 DLL from .libs:\n",
      "d:\\Learning-Material\\pythonPractice\\venv\\lib\\site-packages\\numpy\\.libs\\libopenblas.FB5AE2TYXYH2IJRDKGDGQ3XBKLKTF43H.gfortran-win_amd64.dll\n",
      "d:\\Learning-Material\\pythonPractice\\venv\\lib\\site-packages\\numpy\\.libs\\libopenblas.WCDJNK7YVMPZQ2ME2ZZHJJRJ3JIKNDB7.gfortran-win_amd64.dll\n",
      "  warnings.warn(\"loaded more than 1 DLL from .libs:\"\n"
     ]
    }
   ],
   "source": [
    "#从数值范围创建数组\n",
    "\n",
    "import numpy as np\n",
    "\n",
    "a = np.arange(1,11, 2)\n",
    "print(a)"
   ]
  },
  {
   "cell_type": "markdown",
   "metadata": {},
   "source": [
    "`np.linspace()` 函数用于创建一个在指定范围内等间隔的一维数组 【等差数列】。其语法如下：\n",
    "\n",
    "```python\n",
    "numpy.linspace(start, stop, num=50, endpoint=True, retstep=False, dtype=None, axis=0)\n",
    "```\n",
    "\n",
    "参数说明：\n",
    "- **`start`：** 序列的起始值。\n",
    "- **`stop`：** 序列的结束值。\n",
    "- **`num`：** 生成的样本数，默认为 50。\n",
    "- **`endpoint`：** 如果为 `True`，则 `stop` 是最后一个值。如果为 `False`，则不包含在序列中。默认为 `True`。\n",
    "- **`retstep`：** 如果为 `True`，返回 (samples, step)，其中 `step` 是样本之间的间隔。\n",
    "- **`dtype`：** 返回数组的数据类型。\n",
    "- **`axis`：** 指定生成的数组是按行（0）还是按列（1）排列。\n"
   ]
  },
  {
   "cell_type": "code",
   "execution_count": 2,
   "metadata": {},
   "outputs": [
    {
     "name": "stdout",
     "output_type": "stream",
     "text": [
      "[ 7500.  8000.  8500.  9000.  9500. 10000.]\n"
     ]
    }
   ],
   "source": [
    "b = np.linspace(7500, 10000, 6)   # 默认 endpoint = True 表示包含 stop (终止值)， 6 表示是 创建6个\n",
    "print(b)"
   ]
  },
  {
   "cell_type": "markdown",
   "metadata": {},
   "source": [
    "`np.logspace()` 函数用于创建一个以对数刻度均匀分布的一维数组【等比数列】。其语法如下：\n",
    "\n",
    "```python\n",
    "numpy.logspace(start, stop, num=50, endpoint=True, base=10.0, dtype=None, axis=0)\n",
    "```\n",
    "\n",
    "参数说明：\n",
    "- **`start`：** 序列的起始值。表示 $10^{start}$。\n",
    "- **`stop`：** 序列的结束值。表示 $10^{stop}$。\n",
    "- **`num`：** 生成的样本数，默认为 50。\n",
    "- **`endpoint`：** 如果为 `True`，则 `stop` 是最后一个值。如果为 `False`，则不包含在序列中。默认为 `True`。\n",
    "- **`base`：** 对数的底数，默认为 10。可以设置为其他值，比如 2、e 等。\n",
    "- **`dtype`：** 返回数组的数据类型。\n",
    "- **`axis`：** 指定生成的数组是按行（0）还是按列（1）排列。\n"
   ]
  }
 ],
 "metadata": {
  "kernelspec": {
   "display_name": "venv",
   "language": "python",
   "name": "python3"
  },
  "language_info": {
   "codemirror_mode": {
    "name": "ipython",
    "version": 3
   },
   "file_extension": ".py",
   "mimetype": "text/x-python",
   "name": "python",
   "nbconvert_exporter": "python",
   "pygments_lexer": "ipython3",
   "version": "3.9.13"
  }
 },
 "nbformat": 4,
 "nbformat_minor": 2
}
