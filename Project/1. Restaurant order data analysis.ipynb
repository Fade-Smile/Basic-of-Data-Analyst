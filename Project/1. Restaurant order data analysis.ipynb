{
 "cells": [
  {
   "cell_type": "markdown",
   "metadata": {},
   "source": [
    "分析:\n",
    "\n",
    "1. 订单表的长度, shape, columns\n",
    "2. 统计菜名的平均菜价(amounts)\n",
    "3. 什么菜最受欢迎\n",
    "4. 哪个订单ID点的菜最多"
   ]
  },
  {
   "cell_type": "code",
   "execution_count": 3,
   "metadata": {},
   "outputs": [
    {
     "name": "stdout",
     "output_type": "stream",
     "text": [
      "<class 'pandas.core.frame.DataFrame'>\n",
      "RangeIndex: 2779 entries, 0 to 2778\n",
      "Data columns (total 19 columns):\n",
      " #   Column             Non-Null Count  Dtype         \n",
      "---  ------             --------------  -----         \n",
      " 0   detail_id          2779 non-null   int64         \n",
      " 1   order_id           2779 non-null   int64         \n",
      " 2   dishes_id          2779 non-null   int64         \n",
      " 3   logicprn_name      0 non-null      float64       \n",
      " 4   parent_class_name  0 non-null      float64       \n",
      " 5   dishes_name        2779 non-null   object        \n",
      " 6   itemis_add         2779 non-null   int64         \n",
      " 7   counts             2779 non-null   int64         \n",
      " 8   amounts            2779 non-null   int64         \n",
      " 9   cost               0 non-null      float64       \n",
      " 10  place_order_time   2779 non-null   datetime64[ns]\n",
      " 11  discount_amt       0 non-null      float64       \n",
      " 12  discount_reason    0 non-null      float64       \n",
      " 13  kick_back          0 non-null      float64       \n",
      " 14  add_inprice        2779 non-null   int64         \n",
      " 15  add_info           0 non-null      float64       \n",
      " 16  bar_code           0 non-null      float64       \n",
      " 17  picture_file       2779 non-null   object        \n",
      " 18  emp_id             2779 non-null   int64         \n",
      "dtypes: datetime64[ns](1), float64(8), int64(8), object(2)\n",
      "memory usage: 412.6+ KB\n"
     ]
    }
   ],
   "source": [
    "import pandas as pd \n",
    "import matplotlib.pyplot as plt\n",
    "\n",
    "# 1. Load Data\n",
    "df = pd.read_excel('data/meal_order_detail.xlsx')\n",
    "df.info()\n",
    "\n",
    "# 2. Data Preprocessing (NA)\n",
    "\n",
    "# 3. Data Visualisation\n",
    "\n",
    "\n",
    "\n"
   ]
  }
 ],
 "metadata": {
  "kernelspec": {
   "display_name": "venv",
   "language": "python",
   "name": "python3"
  },
  "language_info": {
   "codemirror_mode": {
    "name": "ipython",
    "version": 3
   },
   "file_extension": ".py",
   "mimetype": "text/x-python",
   "name": "python",
   "nbconvert_exporter": "python",
   "pygments_lexer": "ipython3",
   "version": "3.9.13"
  }
 },
 "nbformat": 4,
 "nbformat_minor": 2
}
