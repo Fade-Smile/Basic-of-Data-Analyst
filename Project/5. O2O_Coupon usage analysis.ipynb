{
 "cells": [
  {
   "cell_type": "code",
   "execution_count": 1,
   "metadata": {},
   "outputs": [],
   "source": [
    "import pandas as pd \n",
    "import numpy as np \n",
    "import matplotlib.pyplot as plt\n",
    "import datetime as datetime \n",
    "%matplotlib inline \n",
    "\n",
    "#  将 Matplotlib 绘制的图表嵌入到 Jupyter Notebook 中的输出区域，\n",
    "#  并使得图表能够在代码单元格下方直接显示，而不是在新窗口中显示。"
   ]
  },
  {
   "cell_type": "markdown",
   "metadata": {},
   "source": [
    "    1. 数据加载"
   ]
  },
  {
   "cell_type": "code",
   "execution_count": 2,
   "metadata": {},
   "outputs": [],
   "source": [
    "plt.rcParams['font.sans-serif'] = ['Microsoft YaHei']   \n",
    "plt.rcParams['axes.unicode_minus'] = False  # 用于正常显示负号    "
   ]
  },
  {
   "cell_type": "code",
   "execution_count": 3,
   "metadata": {},
   "outputs": [
    {
     "name": "stdout",
     "output_type": "stream",
     "text": [
      "<class 'pandas.core.frame.DataFrame'>\n",
      "RangeIndex: 1754884 entries, 0 to 1754883\n",
      "Data columns (total 7 columns):\n",
      " #   Column         Dtype         \n",
      "---  ------         -----         \n",
      " 0   User_id        int64         \n",
      " 1   Merchant_id    int64         \n",
      " 2   Coupon_id      float64       \n",
      " 3   Discount_rate  object        \n",
      " 4   Distance       float64       \n",
      " 5   Date_received  datetime64[ns]\n",
      " 6   Date           datetime64[ns]\n",
      "dtypes: datetime64[ns](2), float64(2), int64(2), object(1)\n",
      "memory usage: 93.7+ MB\n"
     ]
    }
   ],
   "source": [
    "#  parse_date： 将指定的列加载成 日期的格式\n",
    "df= pd.read_csv('data/ccf_offline_stage1_train.csv', parse_dates=['Date_received', 'Date'])\n",
    "df.info()  # 175万+ 条数据 "
   ]
  },
  {
   "cell_type": "code",
   "execution_count": 4,
   "metadata": {},
   "outputs": [
    {
     "data": {
      "text/html": [
       "<div>\n",
       "<style scoped>\n",
       "    .dataframe tbody tr th:only-of-type {\n",
       "        vertical-align: middle;\n",
       "    }\n",
       "\n",
       "    .dataframe tbody tr th {\n",
       "        vertical-align: top;\n",
       "    }\n",
       "\n",
       "    .dataframe thead th {\n",
       "        text-align: right;\n",
       "    }\n",
       "</style>\n",
       "<table border=\"1\" class=\"dataframe\">\n",
       "  <thead>\n",
       "    <tr style=\"text-align: right;\">\n",
       "      <th></th>\n",
       "      <th>User_id</th>\n",
       "      <th>Merchant_id</th>\n",
       "      <th>Coupon_id</th>\n",
       "      <th>Discount_rate</th>\n",
       "      <th>Distance</th>\n",
       "      <th>Date_received</th>\n",
       "      <th>Date</th>\n",
       "    </tr>\n",
       "  </thead>\n",
       "  <tbody>\n",
       "    <tr>\n",
       "      <th>0</th>\n",
       "      <td>1439408</td>\n",
       "      <td>2632</td>\n",
       "      <td>NaN</td>\n",
       "      <td>NaN</td>\n",
       "      <td>0.0</td>\n",
       "      <td>NaT</td>\n",
       "      <td>2016-02-17</td>\n",
       "    </tr>\n",
       "    <tr>\n",
       "      <th>1</th>\n",
       "      <td>1439408</td>\n",
       "      <td>4663</td>\n",
       "      <td>11002.0</td>\n",
       "      <td>150:20</td>\n",
       "      <td>1.0</td>\n",
       "      <td>2016-05-28</td>\n",
       "      <td>NaT</td>\n",
       "    </tr>\n",
       "    <tr>\n",
       "      <th>2</th>\n",
       "      <td>1439408</td>\n",
       "      <td>2632</td>\n",
       "      <td>8591.0</td>\n",
       "      <td>20:1</td>\n",
       "      <td>0.0</td>\n",
       "      <td>2016-02-17</td>\n",
       "      <td>NaT</td>\n",
       "    </tr>\n",
       "    <tr>\n",
       "      <th>3</th>\n",
       "      <td>1439408</td>\n",
       "      <td>2632</td>\n",
       "      <td>1078.0</td>\n",
       "      <td>20:1</td>\n",
       "      <td>0.0</td>\n",
       "      <td>2016-03-19</td>\n",
       "      <td>NaT</td>\n",
       "    </tr>\n",
       "    <tr>\n",
       "      <th>4</th>\n",
       "      <td>1439408</td>\n",
       "      <td>2632</td>\n",
       "      <td>8591.0</td>\n",
       "      <td>20:1</td>\n",
       "      <td>0.0</td>\n",
       "      <td>2016-06-13</td>\n",
       "      <td>NaT</td>\n",
       "    </tr>\n",
       "    <tr>\n",
       "      <th>5</th>\n",
       "      <td>1439408</td>\n",
       "      <td>2632</td>\n",
       "      <td>NaN</td>\n",
       "      <td>NaN</td>\n",
       "      <td>0.0</td>\n",
       "      <td>NaT</td>\n",
       "      <td>2016-05-16</td>\n",
       "    </tr>\n",
       "    <tr>\n",
       "      <th>6</th>\n",
       "      <td>1439408</td>\n",
       "      <td>2632</td>\n",
       "      <td>8591.0</td>\n",
       "      <td>20:1</td>\n",
       "      <td>0.0</td>\n",
       "      <td>2016-05-16</td>\n",
       "      <td>2016-06-13</td>\n",
       "    </tr>\n",
       "    <tr>\n",
       "      <th>7</th>\n",
       "      <td>1832624</td>\n",
       "      <td>3381</td>\n",
       "      <td>7610.0</td>\n",
       "      <td>200:20</td>\n",
       "      <td>0.0</td>\n",
       "      <td>2016-04-29</td>\n",
       "      <td>NaT</td>\n",
       "    </tr>\n",
       "    <tr>\n",
       "      <th>8</th>\n",
       "      <td>2029232</td>\n",
       "      <td>3381</td>\n",
       "      <td>11951.0</td>\n",
       "      <td>200:20</td>\n",
       "      <td>1.0</td>\n",
       "      <td>2016-01-29</td>\n",
       "      <td>NaT</td>\n",
       "    </tr>\n",
       "    <tr>\n",
       "      <th>9</th>\n",
       "      <td>2029232</td>\n",
       "      <td>450</td>\n",
       "      <td>1532.0</td>\n",
       "      <td>30:5</td>\n",
       "      <td>0.0</td>\n",
       "      <td>2016-05-30</td>\n",
       "      <td>NaT</td>\n",
       "    </tr>\n",
       "  </tbody>\n",
       "</table>\n",
       "</div>"
      ],
      "text/plain": [
       "   User_id  Merchant_id  Coupon_id Discount_rate  Distance Date_received  \\\n",
       "0  1439408         2632        NaN           NaN       0.0           NaT   \n",
       "1  1439408         4663    11002.0        150:20       1.0    2016-05-28   \n",
       "2  1439408         2632     8591.0          20:1       0.0    2016-02-17   \n",
       "3  1439408         2632     1078.0          20:1       0.0    2016-03-19   \n",
       "4  1439408         2632     8591.0          20:1       0.0    2016-06-13   \n",
       "5  1439408         2632        NaN           NaN       0.0           NaT   \n",
       "6  1439408         2632     8591.0          20:1       0.0    2016-05-16   \n",
       "7  1832624         3381     7610.0        200:20       0.0    2016-04-29   \n",
       "8  2029232         3381    11951.0        200:20       1.0    2016-01-29   \n",
       "9  2029232          450     1532.0          30:5       0.0    2016-05-30   \n",
       "\n",
       "        Date  \n",
       "0 2016-02-17  \n",
       "1        NaT  \n",
       "2        NaT  \n",
       "3        NaT  \n",
       "4        NaT  \n",
       "5 2016-05-16  \n",
       "6 2016-06-13  \n",
       "7        NaT  \n",
       "8        NaT  \n",
       "9        NaT  "
      ]
     },
     "execution_count": 4,
     "metadata": {},
     "output_type": "execute_result"
    }
   ],
   "source": [
    "df.head(10)  # NaT: 时间日期格式的空值"
   ]
  },
  {
   "cell_type": "markdown",
   "metadata": {},
   "source": [
    "    2. 数据的规整"
   ]
  },
  {
   "cell_type": "code",
   "execution_count": 5,
   "metadata": {},
   "outputs": [
    {
     "data": {
      "text/plain": [
       "User_id               0\n",
       "Merchant_id           0\n",
       "Coupon_id        701602\n",
       "Discount_rate    701602\n",
       "Distance         106003\n",
       "Date_received    701602\n",
       "Date             977900\n",
       "dtype: int64"
      ]
     },
     "execution_count": 5,
     "metadata": {},
     "output_type": "execute_result"
    }
   ],
   "source": [
    "#  判断每一列有多少空值\n",
    "df.isnull().sum()\n",
    "\n",
    "# 优惠券id, 折扣率， 领券日期， 三者可能存在同时==null的情况 "
   ]
  },
  {
   "cell_type": "markdown",
   "metadata": {},
   "source": [
    "    2.1 把“Discount_rate”列中的满减政策转化成折扣率"
   ]
  },
  {
   "cell_type": "code",
   "execution_count": 6,
   "metadata": {},
   "outputs": [
    {
     "data": {
      "text/html": [
       "<div>\n",
       "<style scoped>\n",
       "    .dataframe tbody tr th:only-of-type {\n",
       "        vertical-align: middle;\n",
       "    }\n",
       "\n",
       "    .dataframe tbody tr th {\n",
       "        vertical-align: top;\n",
       "    }\n",
       "\n",
       "    .dataframe thead th {\n",
       "        text-align: right;\n",
       "    }\n",
       "</style>\n",
       "<table border=\"1\" class=\"dataframe\">\n",
       "  <thead>\n",
       "    <tr style=\"text-align: right;\">\n",
       "      <th></th>\n",
       "      <th>User_id</th>\n",
       "      <th>Merchant_id</th>\n",
       "      <th>Coupon_id</th>\n",
       "      <th>Discount_rate</th>\n",
       "      <th>Distance</th>\n",
       "      <th>Date_received</th>\n",
       "      <th>Date</th>\n",
       "    </tr>\n",
       "  </thead>\n",
       "  <tbody>\n",
       "    <tr>\n",
       "      <th>0</th>\n",
       "      <td>1439408</td>\n",
       "      <td>2632</td>\n",
       "      <td>NaN</td>\n",
       "      <td>null</td>\n",
       "      <td>0.0</td>\n",
       "      <td>NaT</td>\n",
       "      <td>2016-02-17</td>\n",
       "    </tr>\n",
       "    <tr>\n",
       "      <th>1</th>\n",
       "      <td>1439408</td>\n",
       "      <td>4663</td>\n",
       "      <td>11002.0</td>\n",
       "      <td>150:20</td>\n",
       "      <td>1.0</td>\n",
       "      <td>2016-05-28</td>\n",
       "      <td>NaT</td>\n",
       "    </tr>\n",
       "    <tr>\n",
       "      <th>2</th>\n",
       "      <td>1439408</td>\n",
       "      <td>2632</td>\n",
       "      <td>8591.0</td>\n",
       "      <td>20:1</td>\n",
       "      <td>0.0</td>\n",
       "      <td>2016-02-17</td>\n",
       "      <td>NaT</td>\n",
       "    </tr>\n",
       "    <tr>\n",
       "      <th>3</th>\n",
       "      <td>1439408</td>\n",
       "      <td>2632</td>\n",
       "      <td>1078.0</td>\n",
       "      <td>20:1</td>\n",
       "      <td>0.0</td>\n",
       "      <td>2016-03-19</td>\n",
       "      <td>NaT</td>\n",
       "    </tr>\n",
       "    <tr>\n",
       "      <th>4</th>\n",
       "      <td>1439408</td>\n",
       "      <td>2632</td>\n",
       "      <td>8591.0</td>\n",
       "      <td>20:1</td>\n",
       "      <td>0.0</td>\n",
       "      <td>2016-06-13</td>\n",
       "      <td>NaT</td>\n",
       "    </tr>\n",
       "  </tbody>\n",
       "</table>\n",
       "</div>"
      ],
      "text/plain": [
       "   User_id  Merchant_id  Coupon_id Discount_rate  Distance Date_received  \\\n",
       "0  1439408         2632        NaN          null       0.0           NaT   \n",
       "1  1439408         4663    11002.0        150:20       1.0    2016-05-28   \n",
       "2  1439408         2632     8591.0          20:1       0.0    2016-02-17   \n",
       "3  1439408         2632     1078.0          20:1       0.0    2016-03-19   \n",
       "4  1439408         2632     8591.0          20:1       0.0    2016-06-13   \n",
       "\n",
       "        Date  \n",
       "0 2016-02-17  \n",
       "1        NaT  \n",
       "2        NaT  \n",
       "3        NaT  \n",
       "4        NaT  "
      ]
     },
     "execution_count": 6,
     "metadata": {},
     "output_type": "execute_result"
    }
   ],
   "source": [
    "df['Discount_rate'] = df['Discount_rate'].fillna('null')\n",
    "df.head()"
   ]
  },
  {
   "cell_type": "code",
   "execution_count": 7,
   "metadata": {},
   "outputs": [],
   "source": [
    "def discount_rate_opt(s):  # s 代表每一个元素\n",
    "    if ':' in s:\n",
    "        split = s.split(':')\n",
    "        discount_rate = (int(split[0])-int(split[1]))/int(split[0])\n",
    "        return round(discount_rate, 2)    # 折扣率保留2位小数\n",
    "    elif s == 'null':\n",
    "        return np.NaN\n",
    "    else:\n",
    "        return float(s)"
   ]
  },
  {
   "cell_type": "code",
   "execution_count": 8,
   "metadata": {},
   "outputs": [
    {
     "data": {
      "text/html": [
       "<div>\n",
       "<style scoped>\n",
       "    .dataframe tbody tr th:only-of-type {\n",
       "        vertical-align: middle;\n",
       "    }\n",
       "\n",
       "    .dataframe tbody tr th {\n",
       "        vertical-align: top;\n",
       "    }\n",
       "\n",
       "    .dataframe thead th {\n",
       "        text-align: right;\n",
       "    }\n",
       "</style>\n",
       "<table border=\"1\" class=\"dataframe\">\n",
       "  <thead>\n",
       "    <tr style=\"text-align: right;\">\n",
       "      <th></th>\n",
       "      <th>User_id</th>\n",
       "      <th>Merchant_id</th>\n",
       "      <th>Coupon_id</th>\n",
       "      <th>Discount_rate</th>\n",
       "      <th>Distance</th>\n",
       "      <th>Date_received</th>\n",
       "      <th>Date</th>\n",
       "    </tr>\n",
       "  </thead>\n",
       "  <tbody>\n",
       "    <tr>\n",
       "      <th>0</th>\n",
       "      <td>1439408</td>\n",
       "      <td>2632</td>\n",
       "      <td>NaN</td>\n",
       "      <td>NaN</td>\n",
       "      <td>0.0</td>\n",
       "      <td>NaT</td>\n",
       "      <td>2016-02-17</td>\n",
       "    </tr>\n",
       "    <tr>\n",
       "      <th>1</th>\n",
       "      <td>1439408</td>\n",
       "      <td>4663</td>\n",
       "      <td>11002.0</td>\n",
       "      <td>0.87</td>\n",
       "      <td>1.0</td>\n",
       "      <td>2016-05-28</td>\n",
       "      <td>NaT</td>\n",
       "    </tr>\n",
       "    <tr>\n",
       "      <th>2</th>\n",
       "      <td>1439408</td>\n",
       "      <td>2632</td>\n",
       "      <td>8591.0</td>\n",
       "      <td>0.95</td>\n",
       "      <td>0.0</td>\n",
       "      <td>2016-02-17</td>\n",
       "      <td>NaT</td>\n",
       "    </tr>\n",
       "    <tr>\n",
       "      <th>3</th>\n",
       "      <td>1439408</td>\n",
       "      <td>2632</td>\n",
       "      <td>1078.0</td>\n",
       "      <td>0.95</td>\n",
       "      <td>0.0</td>\n",
       "      <td>2016-03-19</td>\n",
       "      <td>NaT</td>\n",
       "    </tr>\n",
       "    <tr>\n",
       "      <th>4</th>\n",
       "      <td>1439408</td>\n",
       "      <td>2632</td>\n",
       "      <td>8591.0</td>\n",
       "      <td>0.95</td>\n",
       "      <td>0.0</td>\n",
       "      <td>2016-06-13</td>\n",
       "      <td>NaT</td>\n",
       "    </tr>\n",
       "  </tbody>\n",
       "</table>\n",
       "</div>"
      ],
      "text/plain": [
       "   User_id  Merchant_id  Coupon_id  Discount_rate  Distance Date_received  \\\n",
       "0  1439408         2632        NaN            NaN       0.0           NaT   \n",
       "1  1439408         4663    11002.0           0.87       1.0    2016-05-28   \n",
       "2  1439408         2632     8591.0           0.95       0.0    2016-02-17   \n",
       "3  1439408         2632     1078.0           0.95       0.0    2016-03-19   \n",
       "4  1439408         2632     8591.0           0.95       0.0    2016-06-13   \n",
       "\n",
       "        Date  \n",
       "0 2016-02-17  \n",
       "1        NaT  \n",
       "2        NaT  \n",
       "3        NaT  \n",
       "4        NaT  "
      ]
     },
     "execution_count": 8,
     "metadata": {},
     "output_type": "execute_result"
    }
   ],
   "source": [
    "df['Discount_rate'] = df['Discount_rate'].map(discount_rate_opt)\n",
    "df.head()"
   ]
  },
  {
   "cell_type": "markdown",
   "metadata": {},
   "source": [
    "    2.2 Coupon_id 字段: null 代表无优惠券， 此时 Discount_rate 与 Date_received 字段无意义\n",
    "\n",
    "检查Coupon_id和Discount_rate与Date_received判断空值和非空值是否一一对应。"
   ]
  },
  {
   "cell_type": "code",
   "execution_count": 9,
   "metadata": {},
   "outputs": [
    {
     "name": "stdout",
     "output_type": "stream",
     "text": [
      "True\n",
      "False\n"
     ]
    }
   ],
   "source": [
    "#  np.all(): 判断一个可迭代数据中是否都为 True, 如果是返回 True, 否则返回 False. \n",
    "a = np.all([True, True, True])\n",
    "print(a)\n",
    "\n",
    "b = np.all([True, False, True])\n",
    "print(b)"
   ]
  },
  {
   "cell_type": "code",
   "execution_count": 10,
   "metadata": {},
   "outputs": [
    {
     "data": {
      "text/plain": [
       "True"
      ]
     },
     "execution_count": 10,
     "metadata": {},
     "output_type": "execute_result"
    }
   ],
   "source": [
    "nan1 = df['Coupon_id'].isnull()         # 判断优惠券是否为空\n",
    "nan2 = df['Date_received'].isnull()     # 判断领券日期是为空\n",
    "# print(nan1)\n",
    "# print(nan2)\n",
    "\n",
    "np.all(nan1 == nan2)    # 如果结果 = True, 说明之前的猜测:  Coupoun_id 与 Date_received 空值与非空值是一一对应的关系"
   ]
  },
  {
   "cell_type": "code",
   "execution_count": 11,
   "metadata": {},
   "outputs": [
    {
     "data": {
      "text/plain": [
       "True"
      ]
     },
     "execution_count": 11,
     "metadata": {},
     "output_type": "execute_result"
    }
   ],
   "source": [
    "nan3 = df['Discount_rate'].isnull()\n",
    "np.all(nan1 == nan3)  # 如果结果为 True, 说明之前的猜测:  Coupoun_id 与 Discount_rate 空值与非空值是一一对应的关系"
   ]
  },
  {
   "cell_type": "markdown",
   "metadata": {},
   "source": [
    "    2.3  分类\n",
    "    \n",
    "    如果 Date = null & Coupon_id != null, 有券未消费 (cpon_no_consume)\n",
    "    如果 Date = null & Coupin_id = null, 无券未消费(no_cpon_no_consume)\n",
    "    如果 Date != null & Coupon_id = null, 无券消费 (no_cpon_consume)\n",
    "    如果 Date ！= null & Coupon_id = null, 有券消费 (cpon_consume)\n"
   ]
  },
  {
   "cell_type": "code",
   "execution_count": 12,
   "metadata": {},
   "outputs": [],
   "source": [
    "cpon_no_consume = df[(df['Date'].isnull() & df['Coupon_id'].notnull())]\n",
    "no_cpon_no_consume = df[(df['Date'].isnull() & df['Coupon_id'].isnull())]\n",
    "no_cpon_consume = df[(df['Date'].notnull() & df['Coupon_id'].isnull())]\n",
    "cpon_consume = df[(df['Date'].notnull() & df['Coupon_id'].notnull())]"
   ]
  },
  {
   "cell_type": "code",
   "execution_count": 13,
   "metadata": {},
   "outputs": [
    {
     "name": "stdout",
     "output_type": "stream",
     "text": [
      "有券未消费: 977900\n",
      "无券未消费: 0\n",
      "无券消费: 701602\n",
      "有券消费: 75382\n"
     ]
    }
   ],
   "source": [
    "print('有券未消费: {}'.format(len(cpon_no_consume)))\n",
    "print('无券未消费: {}'.format(len(no_cpon_no_consume)))    # 无意义, 不需分析\n",
    "print('无券消费: {}'.format(len(no_cpon_consume)))\n",
    "print('有券消费: {}'.format(len(cpon_consume)))\n",
    "\n",
    "#   用优惠券消费的用户 有 7万人, 相比其他用户来说 占比较少"
   ]
  },
  {
   "cell_type": "markdown",
   "metadata": {},
   "source": [
    "    3. 数据分析"
   ]
  },
  {
   "cell_type": "code",
   "execution_count": 14,
   "metadata": {},
   "outputs": [],
   "source": [
    "#  绘制饼图\n",
    "consume_status_dict = {'cpon_no_consume': len(cpon_no_consume),\n",
    "                       'no_cpon_consume': len(no_cpon_consume),\n",
    "                       'cpon_consume': len(cpon_consume)}\n",
    "consume_status = pd.Series(consume_status_dict)"
   ]
  },
  {
   "cell_type": "code",
   "execution_count": 16,
   "metadata": {},
   "outputs": [
    {
     "data": {
      "text/plain": [
       "Text(0.5, 1.0, '消费占比情况')"
      ]
     },
     "execution_count": 16,
     "metadata": {},
     "output_type": "execute_result"
    },
    {
     "data": {
      "image/png": "[encoded data removed]",
      "text/plain": [
       "<Figure size 800x1000 with 1 Axes>"
      ]
     },
     "metadata": {},
     "output_type": "display_data"
    }
   ],
   "source": [
    "#  消费方式构成的饼图(figure: 画布； axes: 代表画布内的多个坐标系)\n",
    "fig,ax = plt.subplots(1, 1, figsize=(8, 10))\n",
    "consume_status.plot.pie(y='count',                      \n",
    "                        ax=ax, \n",
    "                        autopct='%1.1f%%', \n",
    "                        shadow=True,\n",
    "                        explode=[0.02, 0.05, 0.02],   # 间距\n",
    "                        textprops={'fontsize': 10, 'color': 'blue'},           # 字号， 字体颜色\n",
    "                        wedgeprops={'linewidth': 2, 'edgecolor': 'white'},     # 线宽， 线的颜色\n",
    "                        labels=['有券未消费\\n({})'.format(len(cpon_no_consume)),\n",
    "                                '无券消费\\n({})'.format(len(no_cpon_consume)),\n",
    "                                '用券消费\\n({})'.format(len(cpon_consume)),\n",
    "                                ] ,    \n",
    "                        startangle=90)\n",
    "\n",
    "ax.set_ylabel('')      # 去除 ylable\n",
    "plt.legend(loc='upper right', fontsize=8)\n",
    "ax.set_title('消费占比情况')\n",
    "\n",
    "\n",
    "#  有券未消费  占比55.7%  最大,  说明大多数人拿完券之后， 尚未使用\n",
    "#  无券消费用户占比 40% , 说明很多人没有使用优惠券, \n",
    "#                       可能优惠券的吸引力不大, 顾客没在意; \n",
    "#                       也可能是, 新用户较多\n",
    "\n",
    "#  用券消费用户占比较小 4.3%， 说明优惠券使用率不高， 可以考虑是否加大优惠券力度"
   ]
  }
 ],
 "metadata": {
  "kernelspec": {
   "display_name": "venv",
   "language": "python",
   "name": "python3"
  },
  "language_info": {
   "codemirror_mode": {
    "name": "ipython",
    "version": 3
   },
   "file_extension": ".py",
   "mimetype": "text/x-python",
   "name": "python",
   "nbconvert_exporter": "python",
   "pygments_lexer": "ipython3",
   "version": "3.9.13"
  }
 },
 "nbformat": 4,
 "nbformat_minor": 2
}
