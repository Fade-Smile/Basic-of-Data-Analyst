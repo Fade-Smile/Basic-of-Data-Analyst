{
 "cells": [
  {
   "cell_type": "code",
   "execution_count": 1,
   "metadata": {},
   "outputs": [],
   "source": [
    "import pandas as pd "
   ]
  },
  {
   "cell_type": "markdown",
   "metadata": {},
   "source": [
    "## 合并"
   ]
  },
  {
   "cell_type": "markdown",
   "metadata": {},
   "source": [
    "### merge方法一对一数据合并"
   ]
  },
  {
   "cell_type": "code",
   "execution_count": 2,
   "metadata": {},
   "outputs": [
    {
     "data": {
      "text/html": [
       "<div>\n",
       "<style scoped>\n",
       "    .dataframe tbody tr th:only-of-type {\n",
       "        vertical-align: middle;\n",
       "    }\n",
       "\n",
       "    .dataframe tbody tr th {\n",
       "        vertical-align: top;\n",
       "    }\n",
       "\n",
       "    .dataframe thead th {\n",
       "        text-align: right;\n",
       "    }\n",
       "</style>\n",
       "<table border=\"1\" class=\"dataframe\">\n",
       "  <thead>\n",
       "    <tr style=\"text-align: right;\">\n",
       "      <th></th>\n",
       "      <th>编号</th>\n",
       "      <th>语文</th>\n",
       "      <th>数学</th>\n",
       "      <th>英语</th>\n",
       "      <th>体育</th>\n",
       "    </tr>\n",
       "  </thead>\n",
       "  <tbody>\n",
       "    <tr>\n",
       "      <th>0</th>\n",
       "      <td>msb1001</td>\n",
       "      <td>145</td>\n",
       "      <td>150</td>\n",
       "      <td>134</td>\n",
       "      <td>35.4</td>\n",
       "    </tr>\n",
       "    <tr>\n",
       "      <th>1</th>\n",
       "      <td>msb1002</td>\n",
       "      <td>146</td>\n",
       "      <td>145</td>\n",
       "      <td>143</td>\n",
       "      <td>23.5</td>\n",
       "    </tr>\n",
       "  </tbody>\n",
       "</table>\n",
       "</div>"
      ],
      "text/plain": [
       "        编号   语文   数学   英语    体育\n",
       "0  msb1001  145  150  134  35.4\n",
       "1  msb1002  146  145  143  23.5"
      ]
     },
     "execution_count": 2,
     "metadata": {},
     "output_type": "execute_result"
    }
   ],
   "source": [
    "# 相同的列进行合并\n",
    "import pandas as pd \n",
    "df1 = pd.read_excel('data/student1.xlsx')\n",
    "df2 = pd.read_excel('data/student2.xlsx')\n",
    "\n",
    "new_df = pd.merge(df1, df2, on='编号')\n",
    "new_df"
   ]
  },
  {
   "cell_type": "code",
   "execution_count": 3,
   "metadata": {},
   "outputs": [
    {
     "data": {
      "text/html": [
       "<div>\n",
       "<style scoped>\n",
       "    .dataframe tbody tr th:only-of-type {\n",
       "        vertical-align: middle;\n",
       "    }\n",
       "\n",
       "    .dataframe tbody tr th {\n",
       "        vertical-align: top;\n",
       "    }\n",
       "\n",
       "    .dataframe thead th {\n",
       "        text-align: right;\n",
       "    }\n",
       "</style>\n",
       "<table border=\"1\" class=\"dataframe\">\n",
       "  <thead>\n",
       "    <tr style=\"text-align: right;\">\n",
       "      <th></th>\n",
       "      <th>编号_x</th>\n",
       "      <th>语文</th>\n",
       "      <th>数学</th>\n",
       "      <th>英语</th>\n",
       "      <th>编号_y</th>\n",
       "      <th>体育</th>\n",
       "    </tr>\n",
       "  </thead>\n",
       "  <tbody>\n",
       "    <tr>\n",
       "      <th>0</th>\n",
       "      <td>msb1001</td>\n",
       "      <td>145</td>\n",
       "      <td>150</td>\n",
       "      <td>134</td>\n",
       "      <td>msb1001</td>\n",
       "      <td>35.4</td>\n",
       "    </tr>\n",
       "    <tr>\n",
       "      <th>1</th>\n",
       "      <td>msb1002</td>\n",
       "      <td>146</td>\n",
       "      <td>145</td>\n",
       "      <td>143</td>\n",
       "      <td>msb1002</td>\n",
       "      <td>23.5</td>\n",
       "    </tr>\n",
       "    <tr>\n",
       "      <th>2</th>\n",
       "      <td>msb1003</td>\n",
       "      <td>150</td>\n",
       "      <td>134</td>\n",
       "      <td>135</td>\n",
       "      <td>msb1004</td>\n",
       "      <td>45.5</td>\n",
       "    </tr>\n",
       "  </tbody>\n",
       "</table>\n",
       "</div>"
      ],
      "text/plain": [
       "      编号_x   语文   数学   英语     编号_y    体育\n",
       "0  msb1001  145  150  134  msb1001  35.4\n",
       "1  msb1002  146  145  143  msb1002  23.5\n",
       "2  msb1003  150  134  135  msb1004  45.5"
      ]
     },
     "execution_count": 3,
     "metadata": {},
     "output_type": "execute_result"
    }
   ],
   "source": [
    "# 通过索引列进行合并数据\n",
    "import pandas as pd \n",
    "df1 = pd.read_excel('data/student1.xlsx')\n",
    "df2 = pd.read_excel('data/student2.xlsx')\n",
    "\n",
    "new_df = pd.merge(df1, df2, left_index=True, right_index=True)\n",
    "new_df"
   ]
  },
  {
   "cell_type": "code",
   "execution_count": 4,
   "metadata": {},
   "outputs": [
    {
     "data": {
      "text/html": [
       "<div>\n",
       "<style scoped>\n",
       "    .dataframe tbody tr th:only-of-type {\n",
       "        vertical-align: middle;\n",
       "    }\n",
       "\n",
       "    .dataframe tbody tr th {\n",
       "        vertical-align: top;\n",
       "    }\n",
       "\n",
       "    .dataframe thead th {\n",
       "        text-align: right;\n",
       "    }\n",
       "</style>\n",
       "<table border=\"1\" class=\"dataframe\">\n",
       "  <thead>\n",
       "    <tr style=\"text-align: right;\">\n",
       "      <th></th>\n",
       "      <th>编号</th>\n",
       "      <th>语文</th>\n",
       "      <th>数学</th>\n",
       "      <th>英语</th>\n",
       "      <th>体育</th>\n",
       "    </tr>\n",
       "  </thead>\n",
       "  <tbody>\n",
       "    <tr>\n",
       "      <th>0</th>\n",
       "      <td>msb1001</td>\n",
       "      <td>145</td>\n",
       "      <td>150</td>\n",
       "      <td>134</td>\n",
       "      <td>35.4</td>\n",
       "    </tr>\n",
       "    <tr>\n",
       "      <th>1</th>\n",
       "      <td>msb1002</td>\n",
       "      <td>146</td>\n",
       "      <td>145</td>\n",
       "      <td>143</td>\n",
       "      <td>23.5</td>\n",
       "    </tr>\n",
       "    <tr>\n",
       "      <th>2</th>\n",
       "      <td>msb1003</td>\n",
       "      <td>150</td>\n",
       "      <td>134</td>\n",
       "      <td>135</td>\n",
       "      <td>NaN</td>\n",
       "    </tr>\n",
       "  </tbody>\n",
       "</table>\n",
       "</div>"
      ],
      "text/plain": [
       "        编号   语文   数学   英语    体育\n",
       "0  msb1001  145  150  134  35.4\n",
       "1  msb1002  146  145  143  23.5\n",
       "2  msb1003  150  134  135   NaN"
      ]
     },
     "execution_count": 4,
     "metadata": {},
     "output_type": "execute_result"
    }
   ],
   "source": [
    "# 数据合并之后，去掉重复数据\n",
    "import pandas as pd \n",
    "df1 = pd.read_excel('data/student1.xlsx')\n",
    "df2 = pd.read_excel('data/student2.xlsx')\n",
    "\n",
    "new_df = pd.merge(df1, df2, how='left', on ='编号')\n",
    "new_df"
   ]
  },
  {
   "cell_type": "code",
   "execution_count": 5,
   "metadata": {},
   "outputs": [
    {
     "data": {
      "text/html": [
       "<div>\n",
       "<style scoped>\n",
       "    .dataframe tbody tr th:only-of-type {\n",
       "        vertical-align: middle;\n",
       "    }\n",
       "\n",
       "    .dataframe tbody tr th {\n",
       "        vertical-align: top;\n",
       "    }\n",
       "\n",
       "    .dataframe thead th {\n",
       "        text-align: right;\n",
       "    }\n",
       "</style>\n",
       "<table border=\"1\" class=\"dataframe\">\n",
       "  <thead>\n",
       "    <tr style=\"text-align: right;\">\n",
       "      <th></th>\n",
       "      <th>编号</th>\n",
       "      <th>语文</th>\n",
       "      <th>数学</th>\n",
       "      <th>英语</th>\n",
       "      <th>体育</th>\n",
       "    </tr>\n",
       "  </thead>\n",
       "  <tbody>\n",
       "    <tr>\n",
       "      <th>0</th>\n",
       "      <td>msb1001</td>\n",
       "      <td>145.0</td>\n",
       "      <td>150.0</td>\n",
       "      <td>134.0</td>\n",
       "      <td>35.4</td>\n",
       "    </tr>\n",
       "    <tr>\n",
       "      <th>1</th>\n",
       "      <td>msb1002</td>\n",
       "      <td>146.0</td>\n",
       "      <td>145.0</td>\n",
       "      <td>143.0</td>\n",
       "      <td>23.5</td>\n",
       "    </tr>\n",
       "    <tr>\n",
       "      <th>2</th>\n",
       "      <td>msb1004</td>\n",
       "      <td>NaN</td>\n",
       "      <td>NaN</td>\n",
       "      <td>NaN</td>\n",
       "      <td>45.5</td>\n",
       "    </tr>\n",
       "  </tbody>\n",
       "</table>\n",
       "</div>"
      ],
      "text/plain": [
       "        编号     语文     数学     英语    体育\n",
       "0  msb1001  145.0  150.0  134.0  35.4\n",
       "1  msb1002  146.0  145.0  143.0  23.5\n",
       "2  msb1004    NaN    NaN    NaN  45.5"
      ]
     },
     "execution_count": 5,
     "metadata": {},
     "output_type": "execute_result"
    }
   ],
   "source": [
    "import pandas as pd \n",
    "df1 = pd.read_excel('data/student1.xlsx')\n",
    "df2 = pd.read_excel('data/student2.xlsx')\n",
    "\n",
    "new_df = pd.merge(df1, df2, how='right', on ='编号')\n",
    "new_df"
   ]
  },
  {
   "cell_type": "code",
   "execution_count": 6,
   "metadata": {},
   "outputs": [
    {
     "data": {
      "text/html": [
       "<div>\n",
       "<style scoped>\n",
       "    .dataframe tbody tr th:only-of-type {\n",
       "        vertical-align: middle;\n",
       "    }\n",
       "\n",
       "    .dataframe tbody tr th {\n",
       "        vertical-align: top;\n",
       "    }\n",
       "\n",
       "    .dataframe thead th {\n",
       "        text-align: right;\n",
       "    }\n",
       "</style>\n",
       "<table border=\"1\" class=\"dataframe\">\n",
       "  <thead>\n",
       "    <tr style=\"text-align: right;\">\n",
       "      <th></th>\n",
       "      <th>编号</th>\n",
       "      <th>语文</th>\n",
       "      <th>数学</th>\n",
       "      <th>英语</th>\n",
       "      <th>体育</th>\n",
       "    </tr>\n",
       "  </thead>\n",
       "  <tbody>\n",
       "    <tr>\n",
       "      <th>0</th>\n",
       "      <td>msb1001</td>\n",
       "      <td>145</td>\n",
       "      <td>150</td>\n",
       "      <td>134</td>\n",
       "      <td>35.4</td>\n",
       "    </tr>\n",
       "    <tr>\n",
       "      <th>1</th>\n",
       "      <td>msb1002</td>\n",
       "      <td>146</td>\n",
       "      <td>145</td>\n",
       "      <td>143</td>\n",
       "      <td>23.5</td>\n",
       "    </tr>\n",
       "  </tbody>\n",
       "</table>\n",
       "</div>"
      ],
      "text/plain": [
       "        编号   语文   数学   英语    体育\n",
       "0  msb1001  145  150  134  35.4\n",
       "1  msb1002  146  145  143  23.5"
      ]
     },
     "execution_count": 6,
     "metadata": {},
     "output_type": "execute_result"
    }
   ],
   "source": [
    "import pandas as pd \n",
    "df1 = pd.read_excel('data/student1.xlsx')\n",
    "df2 = pd.read_excel('data/student2.xlsx')\n",
    "\n",
    "new_df = pd.merge(df1, df2, how='inner', on ='编号')\n",
    "new_df"
   ]
  },
  {
   "cell_type": "code",
   "execution_count": 7,
   "metadata": {},
   "outputs": [
    {
     "data": {
      "text/html": [
       "<div>\n",
       "<style scoped>\n",
       "    .dataframe tbody tr th:only-of-type {\n",
       "        vertical-align: middle;\n",
       "    }\n",
       "\n",
       "    .dataframe tbody tr th {\n",
       "        vertical-align: top;\n",
       "    }\n",
       "\n",
       "    .dataframe thead th {\n",
       "        text-align: right;\n",
       "    }\n",
       "</style>\n",
       "<table border=\"1\" class=\"dataframe\">\n",
       "  <thead>\n",
       "    <tr style=\"text-align: right;\">\n",
       "      <th></th>\n",
       "      <th>编号</th>\n",
       "      <th>语文</th>\n",
       "      <th>数学</th>\n",
       "      <th>英语</th>\n",
       "      <th>体育</th>\n",
       "    </tr>\n",
       "  </thead>\n",
       "  <tbody>\n",
       "    <tr>\n",
       "      <th>0</th>\n",
       "      <td>msb1001</td>\n",
       "      <td>145.0</td>\n",
       "      <td>150.0</td>\n",
       "      <td>134.0</td>\n",
       "      <td>35.4</td>\n",
       "    </tr>\n",
       "    <tr>\n",
       "      <th>1</th>\n",
       "      <td>msb1002</td>\n",
       "      <td>146.0</td>\n",
       "      <td>145.0</td>\n",
       "      <td>143.0</td>\n",
       "      <td>23.5</td>\n",
       "    </tr>\n",
       "    <tr>\n",
       "      <th>2</th>\n",
       "      <td>msb1003</td>\n",
       "      <td>150.0</td>\n",
       "      <td>134.0</td>\n",
       "      <td>135.0</td>\n",
       "      <td>NaN</td>\n",
       "    </tr>\n",
       "    <tr>\n",
       "      <th>3</th>\n",
       "      <td>msb1004</td>\n",
       "      <td>NaN</td>\n",
       "      <td>NaN</td>\n",
       "      <td>NaN</td>\n",
       "      <td>45.5</td>\n",
       "    </tr>\n",
       "  </tbody>\n",
       "</table>\n",
       "</div>"
      ],
      "text/plain": [
       "        编号     语文     数学     英语    体育\n",
       "0  msb1001  145.0  150.0  134.0  35.4\n",
       "1  msb1002  146.0  145.0  143.0  23.5\n",
       "2  msb1003  150.0  134.0  135.0   NaN\n",
       "3  msb1004    NaN    NaN    NaN  45.5"
      ]
     },
     "execution_count": 7,
     "metadata": {},
     "output_type": "execute_result"
    }
   ],
   "source": [
    "import pandas as pd \n",
    "df1 = pd.read_excel('data/student1.xlsx')\n",
    "df2 = pd.read_excel('data/student2.xlsx')\n",
    "\n",
    "new_df = pd.merge(df1, df2, how='outer', on ='编号')\n",
    "new_df"
   ]
  },
  {
   "cell_type": "markdown",
   "metadata": {},
   "source": [
    "### merge方法多对一数据合并"
   ]
  },
  {
   "cell_type": "code",
   "execution_count": 8,
   "metadata": {},
   "outputs": [
    {
     "name": "stdout",
     "output_type": "stream",
     "text": [
      "     ID name  国家 元素力     武器\n",
      "0  1001   七七  璃月   冰    祭礼剑\n",
      "1  1001   七七  蒙德   风  天目影打刀\n",
      "2  1003  提纳里  须弥   草   猎人之径\n"
     ]
    }
   ],
   "source": [
    "import pandas as pd\n",
    "\n",
    "df1 = pd.DataFrame({\n",
    "    'ID': ['1001', '1002', '1003'],\n",
    "    'name': ['七七', '琴团长', '提纳里'],\n",
    "})\n",
    "\n",
    "df2 = pd.DataFrame({\n",
    "    'ID': ['1001', '1001', '1003'],\n",
    "    '国家': ['璃月', '蒙德', '须弥'],\n",
    "    '元素力': ['冰', '风', '草'],\n",
    "    '武器' :['祭礼剑', '天目影打刀','猎人之径']\n",
    "})\n",
    "\n",
    "# 多对一的数据合并\n",
    "new_df = pd.merge(df1, df2, on='ID')\n",
    "print(new_df)"
   ]
  },
  {
   "cell_type": "markdown",
   "metadata": {},
   "source": [
    "### merge方法多对多数据合并"
   ]
  },
  {
   "cell_type": "code",
   "execution_count": 9,
   "metadata": {},
   "outputs": [
    {
     "data": {
      "text/html": [
       "<div>\n",
       "<style scoped>\n",
       "    .dataframe tbody tr th:only-of-type {\n",
       "        vertical-align: middle;\n",
       "    }\n",
       "\n",
       "    .dataframe tbody tr th {\n",
       "        vertical-align: top;\n",
       "    }\n",
       "\n",
       "    .dataframe thead th {\n",
       "        text-align: right;\n",
       "    }\n",
       "</style>\n",
       "<table border=\"1\" class=\"dataframe\">\n",
       "  <thead>\n",
       "    <tr style=\"text-align: right;\">\n",
       "      <th></th>\n",
       "      <th>ID</th>\n",
       "      <th>English</th>\n",
       "      <th>Math</th>\n",
       "    </tr>\n",
       "  </thead>\n",
       "  <tbody>\n",
       "    <tr>\n",
       "      <th>0</th>\n",
       "      <td>1001</td>\n",
       "      <td>145</td>\n",
       "      <td>34.5</td>\n",
       "    </tr>\n",
       "    <tr>\n",
       "      <th>1</th>\n",
       "      <td>1001</td>\n",
       "      <td>145</td>\n",
       "      <td>34.6</td>\n",
       "    </tr>\n",
       "    <tr>\n",
       "      <th>2</th>\n",
       "      <td>1001</td>\n",
       "      <td>145</td>\n",
       "      <td>45.5</td>\n",
       "    </tr>\n",
       "    <tr>\n",
       "      <th>3</th>\n",
       "      <td>1002</td>\n",
       "      <td>134</td>\n",
       "      <td>28.4</td>\n",
       "    </tr>\n",
       "    <tr>\n",
       "      <th>4</th>\n",
       "      <td>1003</td>\n",
       "      <td>143</td>\n",
       "      <td>39.6</td>\n",
       "    </tr>\n",
       "    <tr>\n",
       "      <th>5</th>\n",
       "      <td>1003</td>\n",
       "      <td>145</td>\n",
       "      <td>39.6</td>\n",
       "    </tr>\n",
       "    <tr>\n",
       "      <th>6</th>\n",
       "      <td>1003</td>\n",
       "      <td>147</td>\n",
       "      <td>39.6</td>\n",
       "    </tr>\n",
       "  </tbody>\n",
       "</table>\n",
       "</div>"
      ],
      "text/plain": [
       "     ID  English  Math\n",
       "0  1001      145  34.5\n",
       "1  1001      145  34.6\n",
       "2  1001      145  45.5\n",
       "3  1002      134  28.4\n",
       "4  1003      143  39.6\n",
       "5  1003      145  39.6\n",
       "6  1003      147  39.6"
      ]
     },
     "execution_count": 9,
     "metadata": {},
     "output_type": "execute_result"
    }
   ],
   "source": [
    "import pandas as pd \n",
    "\n",
    "df1 = pd.DataFrame({\n",
    "    'ID': [1001,1002,1003,1003,1003],\n",
    "    'English':[145, 134, 143, 145, 147]\n",
    "    })\n",
    "\n",
    "df2 = pd.DataFrame({\n",
    "    'ID': [1001,1002,1003,1001,1001],\n",
    "    'Math':[34.5, 28.4, 39.6, 34.6, 45.5]\n",
    "    })\n",
    "\n",
    "new_df = pd.merge(df1, df2)\n",
    "new_df"
   ]
  },
  {
   "cell_type": "markdown",
   "metadata": {},
   "source": [
    "### concat方法纵向合并"
   ]
  },
  {
   "cell_type": "code",
   "execution_count": 10,
   "metadata": {},
   "outputs": [
    {
     "name": "stdout",
     "output_type": "stream",
     "text": [
      "        A    B    C    D\n",
      "表1 0   11   22   33   44\n",
      "   1   12   23   34   45\n",
      "表2 0   99   88   77   66\n",
      "   1   55   44   33   22\n",
      "   2   11   23  345   35\n",
      "表3 0  333  222  444  555\n",
      "     A    B    C    D\n",
      "0   11   22   33   44\n",
      "1   12   23   34   45\n",
      "2   99   88   77   66\n",
      "3   55   44   33   22\n",
      "4   11   23  345   35\n",
      "5  333  222  444  555\n"
     ]
    }
   ],
   "source": [
    "import pandas as pd\n",
    "\n",
    "df1 = pd.read_excel('data/数据合并concat.xlsx', sheet_name='Sheet1')\n",
    "df2 = pd.read_excel('data/数据合并concat.xlsx', sheet_name='Sheet2')\n",
    "df3 = pd.read_excel('data/数据合并concat.xlsx', sheet_name='Sheet3')\n",
    "\n",
    "# 合并\n",
    "new_df1 = pd.concat([df1, df2, df3], keys=['表1', '表2', '表3'])\n",
    "new_df2 = pd.concat([df1, df2, df3], keys=['表1', '表2', '表3'], ignore_index=True)\n",
    "# ignore_index=True 忽略忽略原始索引， 重新生成索引\n",
    "print(new_df1)\n",
    "print(new_df2)"
   ]
  },
  {
   "cell_type": "markdown",
   "metadata": {},
   "source": [
    "###  concat方法横向合并-交叉合并"
   ]
  },
  {
   "cell_type": "code",
   "execution_count": 11,
   "metadata": {},
   "outputs": [
    {
     "data": {
      "text/html": [
       "<div>\n",
       "<style scoped>\n",
       "    .dataframe tbody tr th:only-of-type {\n",
       "        vertical-align: middle;\n",
       "    }\n",
       "\n",
       "    .dataframe tbody tr th {\n",
       "        vertical-align: top;\n",
       "    }\n",
       "\n",
       "    .dataframe thead th {\n",
       "        text-align: right;\n",
       "    }\n",
       "</style>\n",
       "<table border=\"1\" class=\"dataframe\">\n",
       "  <thead>\n",
       "    <tr style=\"text-align: right;\">\n",
       "      <th></th>\n",
       "      <th>A</th>\n",
       "      <th>B</th>\n",
       "      <th>C</th>\n",
       "      <th>D</th>\n",
       "      <th>D</th>\n",
       "      <th>E</th>\n",
       "      <th>F</th>\n",
       "    </tr>\n",
       "  </thead>\n",
       "  <tbody>\n",
       "    <tr>\n",
       "      <th>0</th>\n",
       "      <td>11.0</td>\n",
       "      <td>22.0</td>\n",
       "      <td>33.0</td>\n",
       "      <td>44.0</td>\n",
       "      <td>44</td>\n",
       "      <td>world1</td>\n",
       "      <td>python1</td>\n",
       "    </tr>\n",
       "    <tr>\n",
       "      <th>1</th>\n",
       "      <td>12.0</td>\n",
       "      <td>23.0</td>\n",
       "      <td>34.0</td>\n",
       "      <td>45.0</td>\n",
       "      <td>45</td>\n",
       "      <td>world2</td>\n",
       "      <td>python2</td>\n",
       "    </tr>\n",
       "    <tr>\n",
       "      <th>2</th>\n",
       "      <td>NaN</td>\n",
       "      <td>NaN</td>\n",
       "      <td>NaN</td>\n",
       "      <td>NaN</td>\n",
       "      <td>hello3</td>\n",
       "      <td>world3</td>\n",
       "      <td>python3</td>\n",
       "    </tr>\n",
       "    <tr>\n",
       "      <th>3</th>\n",
       "      <td>NaN</td>\n",
       "      <td>NaN</td>\n",
       "      <td>NaN</td>\n",
       "      <td>NaN</td>\n",
       "      <td>hello4</td>\n",
       "      <td>world4</td>\n",
       "      <td>python4</td>\n",
       "    </tr>\n",
       "    <tr>\n",
       "      <th>4</th>\n",
       "      <td>NaN</td>\n",
       "      <td>NaN</td>\n",
       "      <td>NaN</td>\n",
       "      <td>NaN</td>\n",
       "      <td>hello5</td>\n",
       "      <td>world5</td>\n",
       "      <td>python5</td>\n",
       "    </tr>\n",
       "  </tbody>\n",
       "</table>\n",
       "</div>"
      ],
      "text/plain": [
       "      A     B     C     D       D       E        F\n",
       "0  11.0  22.0  33.0  44.0      44  world1  python1\n",
       "1  12.0  23.0  34.0  45.0      45  world2  python2\n",
       "2   NaN   NaN   NaN   NaN  hello3  world3  python3\n",
       "3   NaN   NaN   NaN   NaN  hello4  world4  python4\n",
       "4   NaN   NaN   NaN   NaN  hello5  world5  python5"
      ]
     },
     "execution_count": 11,
     "metadata": {},
     "output_type": "execute_result"
    }
   ],
   "source": [
    "# concact 横向表连接方式\n",
    "import pandas as pd\n",
    "\n",
    "df1 = pd.read_excel('data/数据合并concat.xlsx', sheet_name='Sheet1')\n",
    "df2 = pd.read_excel('data/数据合并concat.xlsx', sheet_name='Sheet4')\n",
    "\n",
    "# 合并\n",
    "df = pd.concat([df1, df2], axis=1)\n",
    "df"
   ]
  },
  {
   "cell_type": "code",
   "execution_count": 12,
   "metadata": {},
   "outputs": [
    {
     "data": {
      "text/html": [
       "<div>\n",
       "<style scoped>\n",
       "    .dataframe tbody tr th:only-of-type {\n",
       "        vertical-align: middle;\n",
       "    }\n",
       "\n",
       "    .dataframe tbody tr th {\n",
       "        vertical-align: top;\n",
       "    }\n",
       "\n",
       "    .dataframe thead th {\n",
       "        text-align: right;\n",
       "    }\n",
       "</style>\n",
       "<table border=\"1\" class=\"dataframe\">\n",
       "  <thead>\n",
       "    <tr style=\"text-align: right;\">\n",
       "      <th></th>\n",
       "      <th>A</th>\n",
       "      <th>B</th>\n",
       "      <th>C</th>\n",
       "      <th>D</th>\n",
       "      <th>D</th>\n",
       "      <th>E</th>\n",
       "      <th>F</th>\n",
       "    </tr>\n",
       "  </thead>\n",
       "  <tbody>\n",
       "    <tr>\n",
       "      <th>0</th>\n",
       "      <td>11</td>\n",
       "      <td>22</td>\n",
       "      <td>33</td>\n",
       "      <td>44</td>\n",
       "      <td>44</td>\n",
       "      <td>world1</td>\n",
       "      <td>python1</td>\n",
       "    </tr>\n",
       "    <tr>\n",
       "      <th>1</th>\n",
       "      <td>12</td>\n",
       "      <td>23</td>\n",
       "      <td>34</td>\n",
       "      <td>45</td>\n",
       "      <td>45</td>\n",
       "      <td>world2</td>\n",
       "      <td>python2</td>\n",
       "    </tr>\n",
       "  </tbody>\n",
       "</table>\n",
       "</div>"
      ],
      "text/plain": [
       "    A   B   C   D   D       E        F\n",
       "0  11  22  33  44  44  world1  python1\n",
       "1  12  23  34  45  45  world2  python2"
      ]
     },
     "execution_count": 12,
     "metadata": {},
     "output_type": "execute_result"
    }
   ],
   "source": [
    "# concact   inner 内连接: 内连接是指只保留两个数据集共有的行或列，而丢弃其他不共有的部分\n",
    "#           outer 外连接是指保留两个数据集中所有的行或列，其中一个数据集中没有的部分用 NaN 或缺失值填充。\n",
    "import pandas as pd\n",
    "\n",
    "df1 = pd.read_excel('data/数据合并concat.xlsx', sheet_name='Sheet1')\n",
    "df2 = pd.read_excel('data/数据合并concat.xlsx', sheet_name='Sheet4')\n",
    "\n",
    "# 合并\n",
    "df = pd.concat([df1, df2], axis=1, join='inner')\n",
    "df"
   ]
  },
  {
   "cell_type": "markdown",
   "metadata": {},
   "source": [
    "## 导出"
   ]
  },
  {
   "cell_type": "markdown",
   "metadata": {},
   "source": [
    "### 数据导出到Excel文件"
   ]
  },
  {
   "cell_type": "code",
   "execution_count": 13,
   "metadata": {},
   "outputs": [],
   "source": [
    "import pandas as pd\n",
    "\n",
    "df=pd.DataFrame({\n",
    "    'ID':['Ice-1', 'Ice-2', 'Fire-1', 'Fire-2', 'Thunder-1', 'Thunder-2', 'Rock-1', 'Rock-2'],\n",
    "    'Name':['莱欧斯利','甘雨','可莉','迪卢克','八重神子','雷电将军','娜维娅','钟离'],\n",
    "    'Location':['枫丹', '璃月', '蒙德', '蒙德','稻妻', '稻妻', '枫丹','璃月']\n",
    "})\n",
    "\n",
    "df.to_excel('data/数据导出-提瓦特.xlsx', index=False, sheet_name='提瓦特角色')\n",
    "# index=False:不输出索引"
   ]
  },
  {
   "cell_type": "markdown",
   "metadata": {},
   "source": [
    "###  数据导出到多sheet表"
   ]
  },
  {
   "cell_type": "code",
   "execution_count": 14,
   "metadata": {},
   "outputs": [],
   "source": [
    "import pandas as pd\n",
    "\n",
    "df=pd.DataFrame({\n",
    "    'ID':['Ice-1', 'Ice-2', 'Fire-1', 'Fire-2', 'Thunder-1', 'Thunder-2', 'Rock-1', 'Rock-2'],\n",
    "    'Name':['莱欧斯利','甘雨','可莉','迪卢克','八重神子','雷电将军','娜维娅','钟离'],\n",
    "    'Location':['枫丹', '璃月', '蒙德', '蒙德','稻妻', '稻妻', '枫丹','璃月'],\n",
    "    'Weapon':['金流监督', '阿莫斯职弓', '四风原典','狼的末路', '神乐舞', '薙草之稻光', '尘世之锁', '贯虹之槊']\n",
    "})\n",
    "\n",
    "with pd.ExcelWriter('data/数据导出-提瓦特-多sheet.xlsx') as work:\n",
    "    df.to_excel(work, sheet_name='提瓦特总', index=False)  # 将 DataFrame 导出到 名称为 \"提瓦特总\" 的页\n",
    "    df[['Name', 'Weapon']].to_excel(work, sheet_name='武器', index=False)  # 将 DataFrame 导出到 名称为 \"武器\" 的页\n",
    "\n"
   ]
  },
  {
   "cell_type": "markdown",
   "metadata": {},
   "source": [
    "### 数据导出到CSV文件"
   ]
  },
  {
   "cell_type": "code",
   "execution_count": 15,
   "metadata": {},
   "outputs": [],
   "source": [
    "import pandas as pd\n",
    "\n",
    "df=pd.DataFrame({\n",
    "    'ID':['Ice-1', 'Ice-2', 'Fire-1', 'Fire-2', 'Thunder-1', 'Thunder-2', 'Rock-1', 'Rock-2'],\n",
    "    'Name':['莱欧斯利','甘雨','可莉','迪卢克','八重神子','雷电将军','娜维娅','钟离'],\n",
    "    'Location':['枫丹', '璃月', '蒙德', '蒙德','稻妻', '稻妻', '枫丹','璃月'],\n",
    "    'Weapon':['金流监督', '阿莫斯职弓', '四风原典','狼的末路', '神乐舞', '薙草之稻光', '尘世之锁', '贯虹之槊'],\n",
    "    'Score':[77.83, 79.65, 80, 82, 75.69, 72.63, 74.56, 85.23]\n",
    "})\n",
    "df.to_csv('Data/提瓦特.csv', index=False, columns=['ID', 'Name', 'Location', 'Weapon', 'Score'], float_format='%.1f')"
   ]
  }
 ],
 "metadata": {
  "kernelspec": {
   "display_name": "venv",
   "language": "python",
   "name": "python3"
  },
  "language_info": {
   "codemirror_mode": {
    "name": "ipython",
    "version": 3
   },
   "file_extension": ".py",
   "mimetype": "text/x-python",
   "name": "python",
   "nbconvert_exporter": "python",
   "pygments_lexer": "ipython3",
   "version": "3.9.13"
  }
 },
 "nbformat": 4,
 "nbformat_minor": 2
}
