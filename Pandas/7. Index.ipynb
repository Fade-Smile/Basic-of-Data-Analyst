{
 "cells": [
  {
   "cell_type": "code",
   "execution_count": 1,
   "metadata": {},
   "outputs": [
    {
     "name": "stdout",
     "output_type": "stream",
     "text": [
      "a    12\n",
      "b    23\n",
      "c    34\n",
      "dtype: int64\n"
     ]
    }
   ],
   "source": [
    "import pandas as pd\n",
    "\n",
    "s1 = pd.Series([10, 20, 30], index=['a', 'b', 'c'])\n",
    "s2 = pd.Series([2, 3, 4], index=['a', 'b', 'c'])\n",
    "print(s1 + s2)"
   ]
  },
  {
   "cell_type": "markdown",
   "metadata": {},
   "source": [
    "### 修改索引\n",
    "\n",
    "`df.reindex()` 是 Pandas 中用于重新索引（Reindexing）的方法。重新索引是指根据指定的新索引标签，对数据结构进行重新排序和调整。\n",
    "\n",
    "方法签名为：\n",
    "```python\n",
    "DataFrame.reindex(labels=None, index=None, columns=None, axis=None, method=None, copy=True, level=None, fill_value=nan, limit=None, tolerance=None)\n",
    "```\n",
    "\n",
    "其中一些重要的参数包括：\n",
    "\n",
    "- **labels/index/columns：** 指定新的行索引、列索引，或同时指定行列索引。\n",
    "  \n",
    "- **axis：** 指定重新索引的轴，0表示行索引，1表示列索引。\n",
    "\n",
    "- **method：** 指定填充缺失值的方法，例如'ffill'表示向前填充，'bfill'表示向后填充。\n",
    "\n",
    "- **fill_value：** 指定填充缺失值的具体数值。\n",
    "\n",
    "- **copy：** 默认为 True，表示是否返回一个新的对象，如果为 False，则可能修改原始对象。\n"
   ]
  },
  {
   "cell_type": "code",
   "execution_count": 2,
   "metadata": {},
   "outputs": [
    {
     "name": "stdout",
     "output_type": "stream",
     "text": [
      "Original Series:\n",
      " 1    11\n",
      "2    22\n",
      "3    33\n",
      "dtype: int64 \n",
      "\n",
      "1    11.0\n",
      "2    22.0\n",
      "3    33.0\n",
      "4     NaN\n",
      "5     NaN\n",
      "dtype: float64 \n",
      "\n",
      "Fill value with 0:\n",
      " 1    11\n",
      "2    22\n",
      "3    33\n",
      "4     0\n",
      "5     0\n",
      "dtype: int64\n",
      "\n",
      "Fill Forward:\n",
      " 1    11\n",
      "2    22\n",
      "3    33\n",
      "4    33\n",
      "5    33\n",
      "dtype: int64 \n",
      "\n",
      "Fill Backward:\n",
      " 1    11.0\n",
      "2    22.0\n",
      "3    33.0\n",
      "4     NaN\n",
      "5     NaN\n",
      "dtype: float64 \n",
      "\n"
     ]
    }
   ],
   "source": [
    "import pandas as pd\n",
    "\n",
    "# 创建一个示例 DataFrame\n",
    "s=pd.Series([11,22,33], index=[1, 2, 3])\n",
    "\n",
    "print(\"Original Series:\\n\", s, '\\n')\n",
    "\n",
    "# Reset index\n",
    "print(s.reindex(range(1,6)), '\\n') \n",
    "print('Fill value with 0:\\n', s.reindex(range(1,6), fill_value=0))\n",
    "print('\\nFill Forward:\\n', s.reindex(range(1,6), method='ffill'), '\\n')\n",
    "print('Fill Backward:\\n', s.reindex(range(1,6), method='bfill'), '\\n')\n",
    "\n"
   ]
  },
  {
   "cell_type": "code",
   "execution_count": 10,
   "metadata": {},
   "outputs": [
    {
     "name": "stdout",
     "output_type": "stream",
     "text": [
      "      Math  English  Literature\n",
      "c3-1    90      100          90\n",
      "c3-2   100       39          89\n",
      "c3-3    49       79          87 \n",
      "\n",
      "       Math  English  Literature\n",
      "c3-1   90.0    100.0        90.0\n",
      "c3-2  100.0     39.0        89.0\n",
      "c3-3   49.0     79.0        87.0\n",
      "c3-4    NaN      NaN         NaN\n",
      "c3-5    NaN      NaN         NaN \n",
      "\n",
      "      Math  English  Science  History\n",
      "c3-1    90      100      NaN      NaN\n",
      "c3-2   100       39      NaN      NaN\n",
      "c3-3    49       79      NaN      NaN \n",
      "\n",
      "      Math  English  Science  History\n",
      "c3-1    90      100        0        0\n",
      "c3-2   100       39        0        0\n",
      "c3-3    49       79        0        0\n",
      "c3-4     0        0        0        0\n",
      "c3-5     0        0        0        0 \n",
      "\n"
     ]
    }
   ],
   "source": [
    "import pandas as pd\n",
    "\n",
    "pd.set_option('display.unicode.east_asian_width',  True)\n",
    "\n",
    "score = [[90, 100, 90], [100, 39, 89], [49,79, 87]]\n",
    "class_name = ['c3-1', 'c3-2', 'c3-3']\n",
    "subject = ['Math', 'English', 'Literature']\n",
    "\n",
    "df = pd.DataFrame(score, columns=subject, index=class_name)\n",
    "print(df, '\\n')\n",
    "\n",
    "\n",
    "# Reset Row index\n",
    "print(df.reindex(['c3-1', 'c3-2', 'c3-3', 'c3-4', 'c3-5']), '\\n')\n",
    "\n",
    "# Reset Column index\n",
    "print(df.reindex(columns=['Math', 'English', 'Science', 'History']), '\\n')\n",
    "\n",
    "# Reset Row and Column index\n",
    "print(df.reindex(['c3-1', 'c3-2', 'c3-3', 'c3-4', 'c3-5'], columns=['Math', 'English', 'Science', 'History'], fill_value=0), '\\n')"
   ]
  },
  {
   "cell_type": "markdown",
   "metadata": {},
   "source": [
    "### 设置某列为行索引"
   ]
  },
  {
   "cell_type": "code",
   "execution_count": 13,
   "metadata": {},
   "outputs": [
    {
     "name": "stdout",
     "output_type": "stream",
     "text": [
      "   买家会员名  买家实际支付金额  课程总数量             课程标题   类别  \\\n",
      "0      msb001          30960.00         2.0  Java互联网高级架构师  课程   \n",
      "1      msb002              1.00         1.0    金三银四面试突击班   NaN   \n",
      "2      msb003           9980.00         1.0    GoLang从入门到精通  课程   \n",
      "3      msb004           9980.00         NaN  算法与数据结构进阶班  课程   \n",
      "4      msb005              9.90         1.0       大前端VIP体验营   NaN   \n",
      "5      msb006              0.02         1.0  零基础速成班HTML+CSS  课程   \n",
      "6      msb007           2400.00         1.0              操作系统  课程   \n",
      "7      msb008              1.00         NaN            自定义注解  课程   \n",
      "8      msb009           2980.00         1.0        多线程与高并发  课程   \n",
      "9      msb010           1980.00         1.0              科技英语  课程   \n",
      "10     msb010           1980.00         1.0              科技英语  课程   \n",
      "\n",
      "          订单付款时间  \n",
      "0  2020-10-09 22:54:26  \n",
      "1  2020-10-09 22:52:42  \n",
      "2  2020-01-19 12:53:01  \n",
      "3  2020-06-30 11:46:14  \n",
      "4  2020-03-23 18:25:45  \n",
      "5  2020-03-24 19:25:45  \n",
      "6  2020-03-25 11:00:45  \n",
      "7  2020-03-26 23:11:11  \n",
      "8  2020-03-27 07:25:30  \n",
      "9  2020-03-28 18:09:12  \n",
      "10 2020-03-28 18:09:12  \n",
      "\n",
      "            买家实际支付金额  课程总数量             课程标题   类别  \\\n",
      "买家会员名                                                             \n",
      "msb001              30960.00         2.0  Java互联网高级架构师  课程   \n",
      "msb002                  1.00         1.0    金三银四面试突击班   NaN   \n",
      "msb003               9980.00         1.0    GoLang从入门到精通  课程   \n",
      "msb004               9980.00         NaN  算法与数据结构进阶班  课程   \n",
      "msb005                  9.90         1.0       大前端VIP体验营   NaN   \n",
      "msb006                  0.02         1.0  零基础速成班HTML+CSS  课程   \n",
      "msb007               2400.00         1.0              操作系统  课程   \n",
      "msb008                  1.00         NaN            自定义注解  课程   \n",
      "msb009               2980.00         1.0        多线程与高并发  课程   \n",
      "msb010               1980.00         1.0              科技英语  课程   \n",
      "msb010               1980.00         1.0              科技英语  课程   \n",
      "\n",
      "                  订单付款时间  \n",
      "买家会员名                      \n",
      "msb001     2020-10-09 22:54:26  \n",
      "msb002     2020-10-09 22:52:42  \n",
      "msb003     2020-01-19 12:53:01  \n",
      "msb004     2020-06-30 11:46:14  \n",
      "msb005     2020-03-23 18:25:45  \n",
      "msb006     2020-03-24 19:25:45  \n",
      "msb007     2020-03-25 11:00:45  \n",
      "msb008     2020-03-26 23:11:11  \n",
      "msb009     2020-03-27 07:25:30  \n",
      "msb010     2020-03-28 18:09:12  \n",
      "msb010     2020-03-28 18:09:12  \n"
     ]
    }
   ],
   "source": [
    "import pandas as pd \n",
    "\n",
    "df = pd.read_excel('data/msb课程记录.xls')\n",
    "print(df)\n",
    "\n",
    "print()\n",
    "df.set_index('买家会员名', inplace=True)\n",
    "print(df)"
   ]
  },
  {
   "cell_type": "markdown",
   "metadata": {},
   "source": [
    "#### 数据清洗后重新设置连续索引"
   ]
  },
  {
   "cell_type": "code",
   "execution_count": 20,
   "metadata": {},
   "outputs": [
    {
     "name": "stdout",
     "output_type": "stream",
     "text": [
      "  买家会员名  买家实际支付金额  课程总数量             课程标题   类别  \\\n",
      "0     msb001          30960.00         2.0  Java互联网高级架构师  课程   \n",
      "1     msb003           9980.00         1.0    GoLang从入门到精通  课程   \n",
      "2     msb006              0.02         1.0  零基础速成班HTML+CSS  课程   \n",
      "3     msb007           2400.00         1.0              操作系统  课程   \n",
      "4     msb009           2980.00         1.0        多线程与高并发  课程   \n",
      "5     msb010           1980.00         1.0              科技英语  课程   \n",
      "6     msb010           1980.00         1.0              科技英语  课程   \n",
      "\n",
      "         订单付款时间  \n",
      "0 2020-10-09 22:54:26  \n",
      "1 2020-01-19 12:53:01  \n",
      "2 2020-03-24 19:25:45  \n",
      "3 2020-03-25 11:00:45  \n",
      "4 2020-03-27 07:25:30  \n",
      "5 2020-03-28 18:09:12  \n",
      "6 2020-03-28 18:09:12  \n"
     ]
    }
   ],
   "source": [
    "import pandas as pd \n",
    "\n",
    "df = pd.read_excel('data/msb课程记录.xls')\n",
    "# print(df)\n",
    "\n",
    "df = df.dropna(axis=0, how='any').reset_index(drop=True)\n",
    "print(df)"
   ]
  }
 ],
 "metadata": {
  "kernelspec": {
   "display_name": "venv",
   "language": "python",
   "name": "python3"
  },
  "language_info": {
   "codemirror_mode": {
    "name": "ipython",
    "version": 3
   },
   "file_extension": ".py",
   "mimetype": "text/x-python",
   "name": "python",
   "nbconvert_exporter": "python",
   "pygments_lexer": "ipython3",
   "version": "3.9.13"
  }
 },
 "nbformat": 4,
 "nbformat_minor": 2
}
