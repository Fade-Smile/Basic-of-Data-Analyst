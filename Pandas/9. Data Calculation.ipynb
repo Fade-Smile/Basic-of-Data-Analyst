{
 "cells": [
  {
   "cell_type": "code",
   "execution_count": 1,
   "metadata": {},
   "outputs": [],
   "source": [
    "import pandas as pd "
   ]
  },
  {
   "cell_type": "code",
   "execution_count": 2,
   "metadata": {},
   "outputs": [
    {
     "name": "stdout",
     "output_type": "stream",
     "text": [
      "      Math  English  Literature\n",
      "Tom    100       90          80\n",
      "Jack    97       98          96\n",
      "Mary    56       56          45\n",
      "\n",
      "      Math  English  Literature  Total\n",
      "Tom    100       90          80    270\n",
      "Jack    97       98          96    291\n",
      "Mary    56       56          45    157\n"
     ]
    }
   ],
   "source": [
    "# 求和\n",
    "import pandas as pd \n",
    "\n",
    "data  = [[100, 90, 80], [97, 98, 96], [56, 56,45]]\n",
    "df = pd.DataFrame(data, columns=['Math', 'English', 'Literature'], index=['Tom', 'Jack', 'Mary'])\n",
    "\n",
    "print(df)\n",
    "print()\n",
    "\n",
    "df['Total'] = df.sum(axis=1)\n",
    "print(df)\n"
   ]
  },
  {
   "cell_type": "code",
   "execution_count": 3,
   "metadata": {},
   "outputs": [
    {
     "name": "stdout",
     "output_type": "stream",
     "text": [
      "      Math  English  Literature\n",
      "Tom    100       90          80\n",
      "Jack    98       67          56\n",
      "Mary    56       56          45\n",
      "     Math  English  Literature\n",
      "0  100.00     90.0       80.00\n",
      "1   98.00     67.0       56.00\n",
      "2   56.00     56.0       45.00\n",
      "3   84.67     71.0       60.33\n"
     ]
    }
   ],
   "source": [
    "# 无空值 求平均\n",
    "import pandas as pd \n",
    "\n",
    "data  = [[100, 90, 80], [98, 67, 56], [56, 56,45]]\n",
    "df = pd.DataFrame(data, columns=['Math', 'English', 'Literature'], index=['Tom', 'Jack', 'Mary'])\n",
    "print(df)\n",
    "\n",
    "mean_values = pd.DataFrame(df.mean()).transpose()\n",
    "\n",
    "df = pd.concat([df, mean_values], ignore_index=True)    # 默认按照列计算平均值\n",
    "df = df.round({'Math': 2, 'English': 2, 'Literature': 2})\n",
    "\n",
    "print(df)"
   ]
  },
  {
   "cell_type": "code",
   "execution_count": 7,
   "metadata": {},
   "outputs": [
    {
     "name": "stdout",
     "output_type": "stream",
     "text": [
      "      Math  English  Literature\n",
      "Tom    100       90        80.0\n",
      "Jack    98       67        56.0\n",
      "Mary    56       56         NaN\n",
      "           Math  English  Literature\n",
      "Tom      100.00     90.0        80.0\n",
      "Jack      98.00     67.0        56.0\n",
      "Mary      56.00     56.0         NaN\n",
      "Average   84.67     71.0        68.0\n"
     ]
    }
   ],
   "source": [
    "# 计算平均值(NaN)\n",
    "import pandas as pd \n",
    "\n",
    "data  = [[100, 90, 80], [98, 67, 56], [56, 56]]\n",
    "df = pd.DataFrame(data, columns=['Math', 'English', 'Literature'], index=['Tom', 'Jack', 'Mary'])\n",
    "print(df)\n",
    "\n",
    "mean_v = pd.DataFrame(df.mean(axis=0), columns=['Average']).transpose().round(2)\n",
    "df = pd.concat([df, mean_v])\n",
    "print(df)"
   ]
  },
  {
   "cell_type": "code",
   "execution_count": 6,
   "metadata": {},
   "outputs": [
    {
     "name": "stdout",
     "output_type": "stream",
     "text": [
      "      Math  English  Literature\n",
      "Tom    100       90        80.0\n",
      "Jack    98       67        56.0\n",
      "Mary    56       56         NaN\n",
      "       Math  English  Literature\n",
      "Tom   100.0     90.0        80.0\n",
      "Jack   98.0     67.0        56.0\n",
      "Mary   56.0     56.0         NaN\n",
      "Max   100.0     90.0        80.0\n",
      "Min    56.0     56.0        56.0\n"
     ]
    }
   ],
   "source": [
    "# 最大-最小值\n",
    "import pandas as pd \n",
    "\n",
    "data  = [[100, 90, 80], [98, 67, 56], [56, 56]]\n",
    "df = pd.DataFrame(data, columns=['Math', 'English', 'Literature'], index=['Tom', 'Jack', 'Mary'])\n",
    "print(df)\n",
    "\n",
    "max_v = pd.DataFrame(df.max(axis=0), columns=['Max']).transpose()\n",
    "df = pd.concat([df, max_v])\n",
    "\n",
    "min_v = pd.DataFrame(df.min(axis=0), columns=['Min']).transpose()\n",
    "df = pd.concat([df, min_v])\n",
    "\n",
    "\n",
    "print(df)"
   ]
  },
  {
   "cell_type": "code",
   "execution_count": 8,
   "metadata": {},
   "outputs": [
    {
     "name": "stdout",
     "output_type": "stream",
     "text": [
      "      Math  English  Literature\n",
      "Tom    100       90        80.0\n",
      "Jack    98       67        56.0\n",
      "Mary    56       56         NaN\n",
      "         Math  English  Literature\n",
      "Tom     100.0     90.0        80.0\n",
      "Jack     98.0     67.0        56.0\n",
      "Mary     56.0     56.0         NaN\n",
      "Median   98.0     67.0        68.0\n"
     ]
    }
   ],
   "source": [
    "# 中位数\n",
    "\n",
    "import pandas as pd \n",
    "\n",
    "data  = [[100, 90, 80], [98, 67, 56], [56, 56]]\n",
    "df = pd.DataFrame(data, columns=['Math', 'English', 'Literature'], index=['Tom', 'Jack', 'Mary'])\n",
    "print(df)\n",
    "\n",
    "median_v = pd.DataFrame(df.median(axis=0), columns=['Median']).transpose()\n",
    "df = pd.concat([df, median_v])\n",
    "\n",
    "print(df)\n"
   ]
  },
  {
   "cell_type": "code",
   "execution_count": 17,
   "metadata": {},
   "outputs": [
    {
     "name": "stdout",
     "output_type": "stream",
     "text": [
      "      Math  English  Literature\n",
      "Tom    100      100         100\n",
      "Jack   100       76          76\n",
      "Mary    76       56          56\n",
      "\n",
      "        0\n",
      "Tom   100\n",
      "Jack   76\n",
      "Mary   56\n",
      "\n",
      "    Math  English  Literature\n",
      "0  100.0       56          56\n",
      "1    NaN       76          76\n",
      "2    NaN      100         100\n",
      "\n",
      "0    100\n",
      "Name: Math, dtype: int64\n"
     ]
    }
   ],
   "source": [
    "# 众数\n",
    "import pandas as pd \n",
    "\n",
    "data  = [[100, 100, 100], [100, 76, 76], [76, 56, 56]]\n",
    "df = pd.DataFrame(data, columns=['Math', 'English', 'Literature'], index=['Tom', 'Jack', 'Mary'])\n",
    "print(df)\n",
    "print()\n",
    "\n",
    "# 行中的众数\n",
    "print(df.mode(axis=1))\n",
    "print()\n",
    "\n",
    "# 列中的众数\n",
    "print(df.mode(axis=0))\n",
    "print()\n",
    "\n",
    "# 数学的众数\n",
    "print(df['Math'].mode())"
   ]
  },
  {
   "cell_type": "code",
   "execution_count": 23,
   "metadata": {},
   "outputs": [
    {
     "name": "stdout",
     "output_type": "stream",
     "text": [
      "      一模  二模  三模  四模  五模\n",
      "赵云   135   140   138   145   140\n",
      "郭嘉   140   145   139   142   132\n",
      "赵云    13.3\n",
      "郭嘉    23.3\n",
      "dtype: float64\n"
     ]
    }
   ],
   "source": [
    "# 方差\n",
    "import pandas as pd\n",
    "\n",
    "pd.set_option('display.unicode.east_asian_width', True)\n",
    "\n",
    "score = [[135, 140, 138, 145, 140], [140, 145, 139, 142, 132]]\n",
    "stn_name = ['赵云', '郭嘉'] \n",
    "moni= ['一模', '二模', '三模', '四模', '五模']\n",
    "df = pd.DataFrame(data, index=stn_name, columns=moni)\n",
    "\n",
    "print(df)\n",
    "\n",
    "print(df.var(axis=1))     #Pandas采用的是无偏样式方差     方差和/样本数-1"
   ]
  },
  {
   "attachments": {
    "image-2.png": {
     "image/png": "[encoded data removed]"
    },
    "image.png": {
     "image/png": "[encoded data removed]"
    }
   },
   "cell_type": "markdown",
   "metadata": {},
   "source": [
    "在Pandas中，方差通常是指样本方差（sample variance），而在数学中的方差可能涉及到样本方差或总体方差。下面对这两者进行简要的中文解释：\n",
    "\n",
    "1. **Pandas中的样本方差（sample variance）：**\n",
    "   - **定义：** 样本方差是衡量数据集中数值变异程度的一种统计指标。它是每个数据点与样本均值的差的平方和的平均值。\n",
    "   - **计算公式：** 对于样本数据集 $X$，其样本方差 $\\sigma^2$ 的计算公式为：\n",
    "   \n",
    "        ![image.png](attachment:image.png)\n",
    "    \n",
    "     其中，$n$ 是样本大小，$X_i$ 是第 $i$ 个数据点，$\\bar{X}$ 是样本均值。\n",
    "\n",
    "2. **数学中的方差：**\n",
    "   - **样本方差 vs 总体方差：** 在数学中，方差的概念可以分为样本方差和总体方差。样本方差通常用于对样本数据的变异程度进行估计，而总体方差则是对整个总体数据的变异程度进行估计。\n",
    "   - **计算公式：** 总体方差 $\\sigma^2$ 的计算公式为：\n",
    "\n",
    "        ![image-2.png](attachment:image-2.png)\n",
    "     \n",
    "     其中，$N$ 是总体大小，$X_i$ 是第 $i$ 个数据点，$\\mu$ 是总体均值。\n",
    "\n",
    "在Pandas中，使用`DataFrame.var()`函数默认计算样本方差。如果想要计算总体方差，可以使用`DataFrame.var(ddof=0)`，其中`ddof`参数表示自由度的调整。如果 `ddof=0`，则计算总体方差，如果 `ddof=1`，则计算样本方差。"
   ]
  }
 ],
 "metadata": {
  "kernelspec": {
   "display_name": "venv",
   "language": "python",
   "name": "python3"
  },
  "language_info": {
   "codemirror_mode": {
    "name": "ipython",
    "version": 3
   },
   "file_extension": ".py",
   "mimetype": "text/x-python",
   "name": "python",
   "nbconvert_exporter": "python",
   "pygments_lexer": "ipython3",
   "version": "3.9.13"
  }
 },
 "nbformat": 4,
 "nbformat_minor": 2
}
