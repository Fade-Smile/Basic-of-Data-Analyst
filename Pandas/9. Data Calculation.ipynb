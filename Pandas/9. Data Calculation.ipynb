{
 "cells": [
  {
   "cell_type": "code",
   "execution_count": 1,
   "metadata": {},
   "outputs": [],
   "source": [
    "import pandas as pd "
   ]
  },
  {
   "cell_type": "markdown",
   "metadata": {},
   "source": [
    "## Pandas中的数据计算"
   ]
  },
  {
   "cell_type": "markdown",
   "metadata": {},
   "source": [
    "### 求和"
   ]
  },
  {
   "cell_type": "code",
   "execution_count": 2,
   "metadata": {},
   "outputs": [
    {
     "name": "stdout",
     "output_type": "stream",
     "text": [
      "      Math  English  Literature\n",
      "Tom    100       90          80\n",
      "Jack    97       98          96\n",
      "Mary    56       56          45\n",
      "\n",
      "      Math  English  Literature  Total\n",
      "Tom    100       90          80    270\n",
      "Jack    97       98          96    291\n",
      "Mary    56       56          45    157\n"
     ]
    }
   ],
   "source": [
    "import pandas as pd \n",
    "\n",
    "data  = [[100, 90, 80], [97, 98, 96], [56, 56,45]]\n",
    "df = pd.DataFrame(data, columns=['Math', 'English', 'Literature'], index=['Tom', 'Jack', 'Mary'])\n",
    "\n",
    "print(df)\n",
    "print()\n",
    "\n",
    "df['Total'] = df.sum(axis=1)\n",
    "print(df)\n"
   ]
  },
  {
   "cell_type": "markdown",
   "metadata": {},
   "source": [
    "### 求平均"
   ]
  },
  {
   "cell_type": "code",
   "execution_count": 3,
   "metadata": {},
   "outputs": [
    {
     "name": "stdout",
     "output_type": "stream",
     "text": [
      "      Math  English  Literature\n",
      "Tom    100       90          80\n",
      "Jack    98       67          56\n",
      "Mary    56       56          45\n",
      "     Math  English  Literature\n",
      "0  100.00     90.0       80.00\n",
      "1   98.00     67.0       56.00\n",
      "2   56.00     56.0       45.00\n",
      "3   84.67     71.0       60.33\n"
     ]
    }
   ],
   "source": [
    "import pandas as pd \n",
    "\n",
    "data  = [[100, 90, 80], [98, 67, 56], [56, 56,45]]\n",
    "df = pd.DataFrame(data, columns=['Math', 'English', 'Literature'], index=['Tom', 'Jack', 'Mary'])\n",
    "print(df)\n",
    "\n",
    "mean_values = pd.DataFrame(df.mean()).transpose()\n",
    "\n",
    "df = pd.concat([df, mean_values], ignore_index=True)    # 默认按照列计算平均值\n",
    "df = df.round({'Math': 2, 'English': 2, 'Literature': 2})\n",
    "\n",
    "print(df)"
   ]
  },
  {
   "cell_type": "markdown",
   "metadata": {},
   "source": [
    "### 计算平均值(NaN)"
   ]
  },
  {
   "cell_type": "code",
   "execution_count": 4,
   "metadata": {},
   "outputs": [
    {
     "name": "stdout",
     "output_type": "stream",
     "text": [
      "      Math  English  Literature\n",
      "Tom    100       90        80.0\n",
      "Jack    98       67        56.0\n",
      "Mary    56       56         NaN\n",
      "           Math  English  Literature\n",
      "Tom      100.00     90.0        80.0\n",
      "Jack      98.00     67.0        56.0\n",
      "Mary      56.00     56.0         NaN\n",
      "Average   84.67     71.0        68.0\n"
     ]
    }
   ],
   "source": [
    "import pandas as pd \n",
    "\n",
    "data  = [[100, 90, 80], [98, 67, 56], [56, 56]]\n",
    "df = pd.DataFrame(data, columns=['Math', 'English', 'Literature'], index=['Tom', 'Jack', 'Mary'])\n",
    "print(df)\n",
    "\n",
    "mean_v = pd.DataFrame(df.mean(axis=0), columns=['Average']).transpose().round(2)\n",
    "df = pd.concat([df, mean_v])\n",
    "print(df)"
   ]
  },
  {
   "cell_type": "markdown",
   "metadata": {},
   "source": [
    "### 求最大-最小值"
   ]
  },
  {
   "cell_type": "code",
   "execution_count": 5,
   "metadata": {},
   "outputs": [
    {
     "name": "stdout",
     "output_type": "stream",
     "text": [
      "      Math  English  Literature\n",
      "Tom    100       90        80.0\n",
      "Jack    98       67        56.0\n",
      "Mary    56       56         NaN\n",
      "       Math  English  Literature\n",
      "Tom   100.0     90.0        80.0\n",
      "Jack   98.0     67.0        56.0\n",
      "Mary   56.0     56.0         NaN\n",
      "Max   100.0     90.0        80.0\n",
      "Min    56.0     56.0        56.0\n"
     ]
    }
   ],
   "source": [
    "import pandas as pd \n",
    "\n",
    "data  = [[100, 90, 80], [98, 67, 56], [56, 56]]\n",
    "df = pd.DataFrame(data, columns=['Math', 'English', 'Literature'], index=['Tom', 'Jack', 'Mary'])\n",
    "print(df)\n",
    "\n",
    "max_v = pd.DataFrame(df.max(axis=0), columns=['Max']).transpose()\n",
    "df = pd.concat([df, max_v])\n",
    "\n",
    "min_v = pd.DataFrame(df.min(axis=0), columns=['Min']).transpose()\n",
    "df = pd.concat([df, min_v])\n",
    "\n",
    "\n",
    "print(df)"
   ]
  },
  {
   "cell_type": "markdown",
   "metadata": {},
   "source": [
    "### 求中位数"
   ]
  },
  {
   "cell_type": "code",
   "execution_count": 6,
   "metadata": {},
   "outputs": [
    {
     "name": "stdout",
     "output_type": "stream",
     "text": [
      "      Math  English  Literature\n",
      "Tom    100       90        80.0\n",
      "Jack    98       67        56.0\n",
      "Mary    56       56         NaN\n",
      "         Math  English  Literature\n",
      "Tom     100.0     90.0        80.0\n",
      "Jack     98.0     67.0        56.0\n",
      "Mary     56.0     56.0         NaN\n",
      "Median   98.0     67.0        68.0\n"
     ]
    }
   ],
   "source": [
    "import pandas as pd \n",
    "\n",
    "data  = [[100, 90, 80], [98, 67, 56], [56, 56]]\n",
    "df = pd.DataFrame(data, columns=['Math', 'English', 'Literature'], index=['Tom', 'Jack', 'Mary'])\n",
    "print(df)\n",
    "\n",
    "median_v = pd.DataFrame(df.median(axis=0), columns=['Median']).transpose()\n",
    "df = pd.concat([df, median_v])\n",
    "\n",
    "print(df)\n"
   ]
  },
  {
   "cell_type": "markdown",
   "metadata": {},
   "source": [
    "### 求众数"
   ]
  },
  {
   "cell_type": "code",
   "execution_count": 7,
   "metadata": {},
   "outputs": [
    {
     "name": "stdout",
     "output_type": "stream",
     "text": [
      "      Math  English  Literature\n",
      "Tom    100      100         100\n",
      "Jack   100       76          76\n",
      "Mary    76       56          56\n",
      "\n",
      "        0\n",
      "Tom   100\n",
      "Jack   76\n",
      "Mary   56\n",
      "\n",
      "    Math  English  Literature\n",
      "0  100.0       56          56\n",
      "1    NaN       76          76\n",
      "2    NaN      100         100\n",
      "\n",
      "0    100\n",
      "Name: Math, dtype: int64\n"
     ]
    }
   ],
   "source": [
    "import pandas as pd \n",
    "\n",
    "data  = [[100, 100, 100], [100, 76, 76], [76, 56, 56]]\n",
    "df = pd.DataFrame(data, columns=['Math', 'English', 'Literature'], index=['Tom', 'Jack', 'Mary'])\n",
    "print(df)\n",
    "print()\n",
    "\n",
    "# 行中的众数\n",
    "print(df.mode(axis=1))\n",
    "print()\n",
    "\n",
    "# 列中的众数\n",
    "print(df.mode(axis=0))\n",
    "print()\n",
    "\n",
    "# 数学的众数\n",
    "print(df['Math'].mode())"
   ]
  },
  {
   "cell_type": "markdown",
   "metadata": {},
   "source": [
    "### 求方差"
   ]
  },
  {
   "cell_type": "code",
   "execution_count": 8,
   "metadata": {},
   "outputs": [
    {
     "name": "stdout",
     "output_type": "stream",
     "text": [
      "      一模  二模  三模  四模  五模\n",
      "赵云   135   140   138   145   140\n",
      "郭嘉   140   145   139   142   132\n",
      "赵云    13.3\n",
      "郭嘉    23.3\n",
      "dtype: float64\n"
     ]
    }
   ],
   "source": [
    "import pandas as pd\n",
    "\n",
    "pd.set_option('display.unicode.east_asian_width', True)\n",
    "\n",
    "score = [[135, 140, 138, 145, 140], [140, 145, 139, 142, 132]]\n",
    "stn_name = ['赵云', '郭嘉'] \n",
    "moni= ['一模', '二模', '三模', '四模', '五模']\n",
    "df = pd.DataFrame(data=score, index=stn_name, columns=moni)\n",
    "\n",
    "print(df)\n",
    "\n",
    "print(df.var(axis=1))     #Pandas采用的是无偏样式方差     方差和/样本数-1"
   ]
  },
  {
   "attachments": {
    "image-2.png": {
     "image/png": "[encoded data removed]"
    },
    "image.png": {
     "image/png": "[encoded data removed]"
    }
   },
   "cell_type": "markdown",
   "metadata": {},
   "source": [
    "在Pandas中，方差通常是指样本方差（sample variance），而在数学中的方差可能涉及到样本方差或总体方差。下面对这两者进行简要的中文解释：\n",
    "\n",
    "1. **Pandas中的样本方差（sample variance）：**\n",
    "   - **定义：** 样本方差是衡量数据集中数值变异程度的一种统计指标。它是每个数据点与样本均值的差的平方和的平均值。\n",
    "   - **计算公式：** 对于样本数据集 $X$，其样本方差 $\\sigma^2$ 的计算公式为：\n",
    "   \n",
    "        ![image.png](attachment:image.png)\n",
    "    \n",
    "     其中，$n$ 是样本大小，$X_i$ 是第 $i$ 个数据点，$\\bar{X}$ 是样本均值。\n",
    "\n",
    "2. **数学中的方差：**\n",
    "   - **样本方差 vs 总体方差：** 在数学中，方差的概念可以分为样本方差和总体方差。样本方差通常用于对样本数据的变异程度进行估计，而总体方差则是对整个总体数据的变异程度进行估计。\n",
    "   - **计算公式：** 总体方差 $\\sigma^2$ 的计算公式为：\n",
    "\n",
    "        ![image-2.png](attachment:image-2.png)\n",
    "     \n",
    "     其中，$N$ 是总体大小，$X_i$ 是第 $i$ 个数据点，$\\mu$ 是总体均值。\n",
    "\n",
    "在Pandas中，使用`DataFrame.var()`函数默认计算样本方差。如果想要计算总体方差，可以使用`DataFrame.var(ddof=0)`，其中`ddof`参数表示自由度的调整。如果 `ddof=0`，则计算总体方差，如果 `ddof=1`，则计算样本方差。"
   ]
  },
  {
   "cell_type": "markdown",
   "metadata": {},
   "source": [
    "###  求标准差"
   ]
  },
  {
   "cell_type": "code",
   "execution_count": 9,
   "metadata": {},
   "outputs": [
    {
     "name": "stdout",
     "output_type": "stream",
     "text": [
      "      Math  English  Literature\n",
      "Tom    100       90         100\n",
      "Jack   100       76          76\n",
      "Mary    76       90          76\n",
      "\n",
      "Math          13.856406\n",
      "English        8.082904\n",
      "Literature    13.856406\n",
      "dtype: float64\n"
     ]
    }
   ],
   "source": [
    "import pandas as pd \n",
    "\n",
    "data  = [[100, 90, 100], [100, 76, 76], [76, 90, 76]]\n",
    "df = pd.DataFrame(data, columns=['Math', 'English', 'Literature'], index=['Tom', 'Jack', 'Mary'])\n",
    "print(df)\n",
    "print()\n",
    "\n",
    "print(df.std())\n"
   ]
  },
  {
   "cell_type": "markdown",
   "metadata": {},
   "source": [
    "### 求分位数"
   ]
  },
  {
   "cell_type": "markdown",
   "metadata": {},
   "source": [
    "`quantile()` 函数是用于计算数据集的分位数（quantiles）的方法。在 Pandas 中，`quantile()` 函数可以用于计算指定分位数的值。\n",
    "\n",
    "语法如下：\n",
    "```python\n",
    "DataFrame.quantile(q=0.5, axis=0, numeric_only=True, interpolation='linear')\n",
    "```\n",
    "\n",
    "参数说明：\n",
    "- `q`：指定要计算的分位数，可以是单个分位数的值（如 0.5 表示中位数），也可以是包含多个分位数的列表。\n",
    "- `axis`：指定计算的方向，0表示按列计算，1表示按行计算。\n",
    "- `numeric_only`：如果为 True，则只考虑数字类型的列。\n",
    "- `interpolation`：指定插值方法，可选值包括 'linear'、'lower'、'higher'、'midpoint' 和 'nearest'。\n"
   ]
  },
  {
   "cell_type": "code",
   "execution_count": 10,
   "metadata": {},
   "outputs": [
    {
     "name": "stdout",
     "output_type": "stream",
     "text": [
      "   Math\n",
      "0   120\n",
      "1   110\n",
      "2   112\n",
      "3   100\n",
      "4    98\n",
      "5    34\n",
      "6   123\n",
      "7   115\n",
      "104.5\n",
      "   Math\n",
      "3   100\n",
      "4    98\n",
      "5    34\n"
     ]
    }
   ],
   "source": [
    "# 分位数\n",
    "\n",
    "import pandas as pd\n",
    "from pandas import DataFrame\n",
    "\n",
    "data = [120, 110, 112, 100, 98, 34, 123, 115]\n",
    "columns = ['Math']\n",
    "df = DataFrame(data, columns=columns)\n",
    "print(df)\n",
    "\n",
    "x_35 = df['Math'].quantile(0.35)\n",
    "print(x_35)\n",
    "\n",
    "print(df[df['Math'] < x_35])"
   ]
  },
  {
   "cell_type": "code",
   "execution_count": 11,
   "metadata": {},
   "outputs": [
    {
     "name": "stdout",
     "output_type": "stream",
     "text": [
      "A                    1.5\n",
      "B    2020-07-02 00:00:00\n",
      "C        1 days 12:00:00\n",
      "Name: 0.5, dtype: object\n"
     ]
    }
   ],
   "source": [
    "# 分位数， numeric_only = False\n",
    "\n",
    "import pandas as pd \n",
    "\n",
    "df = pd.DataFrame(\n",
    "    {\n",
    "        'A':[1, 2],\n",
    "        'B':[pd.Timestamp('2020'), pd.Timestamp('2021')],\n",
    "        'C':[pd.Timedelta('1 days'), pd.Timedelta('2 days')]\n",
    "    })\n",
    "\n",
    "print(df.quantile(0.5, numeric_only=False))"
   ]
  },
  {
   "cell_type": "markdown",
   "metadata": {},
   "source": [
    "## Pandas 中的数据格式化"
   ]
  },
  {
   "cell_type": "markdown",
   "metadata": {},
   "source": [
    "### 设置小数位置"
   ]
  },
  {
   "cell_type": "markdown",
   "metadata": {},
   "source": [
    "`round()` 方法用于 Pandas DataFrame 中的浮点数列，它将浮点数舍入到指定的小数位数。该方法返回一个新的 DataFrame，其中的浮点数列被舍入。\n",
    "\n",
    "语法如下：\n",
    "```python\n",
    "DataFrame.round(decimals=0, *args, **kwargs)\n",
    "```\n",
    "\n",
    "参数说明：\n",
    "- `decimals`：指定要保留的小数位数。默认值为0，表示舍入到整数。\n",
    "\n"
   ]
  },
  {
   "cell_type": "code",
   "execution_count": 19,
   "metadata": {},
   "outputs": [
    {
     "name": "stdout",
     "output_type": "stream",
     "text": [
      "         A1        A2        A3        A4        A5\n",
      "0  0.527350  0.410396  0.131101  0.565818  0.322695\n",
      "1  0.007817  0.663029  0.480029  0.551382  0.603932\n",
      "2  0.123241  0.935813  0.052935  0.207342  0.183324\n",
      "3  0.405295  0.623856  0.254653  0.368602  0.751753\n",
      "4  0.195120  0.623856  0.477747  0.592885  0.751753\n",
      "------------------------------------------------------------\n",
      "     A1    A2    A3    A4    A5\n",
      "0  0.53  0.41  0.13  0.57  0.32\n",
      "1  0.01  0.66  0.48  0.55  0.60\n",
      "2  0.12  0.94  0.05  0.21  0.18\n",
      "3  0.41  0.62  0.25  0.37  0.75\n",
      "4  0.20  0.62  0.48  0.59  0.75\n",
      "------------------------------------------------------------\n",
      "    A1    A2        A3        A4        A5\n",
      "0  0.5  0.41  0.131101  0.565818  0.322695\n",
      "1  0.0  0.66  0.480029  0.551382  0.603932\n",
      "2  0.1  0.94  0.052935  0.207342  0.183324\n",
      "3  0.4  0.62  0.254653  0.368602  0.751753\n",
      "4  0.2  0.62  0.477747  0.592885  0.751753\n",
      "------------------------------------------------------------\n",
      "A1    1\n",
      "A2    0\n",
      "A3    2\n",
      "A4    1\n",
      "A5    2\n",
      "dtype: int64\n",
      "    A1   A2    A3   A4    A5\n",
      "0  0.5  0.0  0.13  0.6  0.32\n",
      "1  0.0  1.0  0.48  0.6  0.60\n",
      "2  0.1  1.0  0.05  0.2  0.18\n",
      "3  0.4  1.0  0.25  0.4  0.75\n",
      "4  0.2  1.0  0.48  0.6  0.75\n",
      "------------------------------------------------------------\n",
      "     A1    A2    A3    A4    A5\n",
      "0  0.53  0.41  0.13  0.57  0.32\n",
      "1  0.01  0.66  0.48  0.55  0.60\n",
      "2  0.12  0.94  0.05  0.21  0.18\n",
      "3  0.41  0.62  0.25  0.37  0.75\n",
      "4  0.20  0.62  0.48  0.59  0.75\n"
     ]
    }
   ],
   "source": [
    "import pandas as pd\n",
    "\n",
    "df = pd.read_excel('data/格式化数据.xlsx')\n",
    "print(df)\n",
    "print('--'*30)\n",
    "\n",
    "print(df.round(2))      # 对df的所有元素起作用round中的参数是一个整数\n",
    "print('--'*30)\n",
    "\n",
    "# 对指定列保留小数位置\n",
    "print(df.round({'A1':1, 'A2':2}))    # round中的参数是一个字典\n",
    "print('--'*30)\n",
    "\n",
    "s1 = pd.Series([1,0,2,1,2], index=['A1','A2','A3','A4','A5'])       # round中的参数是一个Series对象\n",
    "print(s1)\n",
    "df2=df.round(s1)\n",
    "print(df2)\n",
    "print('--'*30)\n",
    "\n",
    "# 还可以使用自定义函数实现保留小数位数\n",
    "df3=df.map(lambda x : '{:.2f}'.format(x))\n",
    "print(df3)\n"
   ]
  },
  {
   "cell_type": "markdown",
   "metadata": {},
   "source": [
    "### 设置百分比"
   ]
  },
  {
   "cell_type": "code",
   "execution_count": 24,
   "metadata": {},
   "outputs": [
    {
     "name": "stdout",
     "output_type": "stream",
     "text": [
      "         A1        A2        A3        A4        A5\n",
      "0  0.527350  0.410396  0.131101  0.565818  0.322695\n",
      "1  0.007817  0.663029  0.480029  0.551382  0.603932\n",
      "2  0.123241  0.935813  0.052935  0.207342  0.183324\n",
      "3  0.405295  0.623856  0.254653  0.368602  0.751753\n",
      "4  0.195120  0.623856  0.477747  0.592885  0.751753\n",
      "------------------------------------------------------------\n",
      "         A1        A2        A3        A4        A5 百分比\n",
      "0  0.527350  0.410396  0.131101  0.565818  0.322695    53%\n",
      "1  0.007817  0.663029  0.480029  0.551382  0.603932     1%\n",
      "2  0.123241  0.935813  0.052935  0.207342  0.183324    12%\n",
      "3  0.405295  0.623856  0.254653  0.368602  0.751753    41%\n",
      "4  0.195120  0.623856  0.477747  0.592885  0.751753    20%\n",
      "------------------------------------------------------------\n",
      "         A1        A2        A3        A4        A5  百分比\n",
      "0  0.527350  0.410396  0.131101  0.565818  0.322695  52.73%\n",
      "1  0.007817  0.663029  0.480029  0.551382  0.603932   0.78%\n",
      "2  0.123241  0.935813  0.052935  0.207342  0.183324  12.32%\n",
      "3  0.405295  0.623856  0.254653  0.368602  0.751753  40.53%\n",
      "4  0.195120  0.623856  0.477747  0.592885  0.751753  19.51%\n",
      "------------------------------------------------------------\n",
      "         A1        A2        A3        A4        A5  百分比\n",
      "0  0.527350  0.410396  0.131101  0.565818  0.322695  52.73%\n",
      "1  0.007817  0.663029  0.480029  0.551382  0.603932   0.78%\n",
      "2  0.123241  0.935813  0.052935  0.207342  0.183324  12.32%\n",
      "3  0.405295  0.623856  0.254653  0.368602  0.751753  40.53%\n",
      "4  0.195120  0.623856  0.477747  0.592885  0.751753  19.51%\n",
      "<class 'pandas.core.frame.DataFrame'>\n",
      "RangeIndex: 5 entries, 0 to 4\n",
      "Data columns (total 6 columns):\n",
      " #   Column  Non-Null Count  Dtype  \n",
      "---  ------  --------------  -----  \n",
      " 0   A1      5 non-null      float64\n",
      " 1   A2      5 non-null      float64\n",
      " 2   A3      5 non-null      float64\n",
      " 3   A4      5 non-null      float64\n",
      " 4   A5      5 non-null      float64\n",
      " 5   百分比     5 non-null      object \n",
      "dtypes: float64(5), object(1)\n",
      "memory usage: 368.0+ bytes\n"
     ]
    }
   ],
   "source": [
    "import pandas as pd\n",
    "\n",
    "df = pd.read_excel('data/格式化数据.xlsx')\n",
    "print(df)\n",
    "print('--'*30)\n",
    "\n",
    "df['百分比']=df['A1'].apply(lambda x:format(x, '.0%'))    # 对 A1 列进行百分比设置\n",
    "print(df)\n",
    "print('--'*30)\n",
    "\n",
    "df['百分比']=df['A1'].apply(lambda x:format(x, '.2%'))    # 对 A1 列进行百分比设置\n",
    "print(df)\n",
    "print('--'*30)\n",
    "\n",
    "df['百分比']=df['A1'].map(lambda x:format(x, '.2%'))    # 对 A1 列进行百分比设置\n",
    "print(df)\n",
    "\n",
    "df.info()"
   ]
  },
  {
   "cell_type": "markdown",
   "metadata": {},
   "source": [
    "### 设置千分位分隔符"
   ]
  },
  {
   "cell_type": "code",
   "execution_count": 31,
   "metadata": {},
   "outputs": [
    {
     "name": "stdout",
     "output_type": "stream",
     "text": [
      "   买家会员名  买家实际支付金额  课程总数量             课程标题   类别  \\\n",
      "0      msb001          30960.00         2.0  Java互联网高级架构师  课程   \n",
      "1      msb002              1.00         1.0    金三银四面试突击班   NaN   \n",
      "2      msb003           9980.00         1.0    GoLang从入门到精通  课程   \n",
      "3      msb004           9980.00         NaN  算法与数据结构进阶班  课程   \n",
      "4      msb005              9.90         1.0       大前端VIP体验营   NaN   \n",
      "5      msb006              0.02         1.0  零基础速成班HTML+CSS  课程   \n",
      "6      msb007           2400.00         1.0              操作系统  课程   \n",
      "7      msb008              1.00         NaN            自定义注解  课程   \n",
      "8      msb009           2980.00         1.0        多线程与高并发  课程   \n",
      "9      msb010           1980.00         1.0              科技英语  课程   \n",
      "10     msb010           1980.00         1.0              科技英语  课程   \n",
      "\n",
      "          订单付款时间  \n",
      "0  2020-10-09 22:54:26  \n",
      "1  2020-10-09 22:52:42  \n",
      "2  2020-01-19 12:53:01  \n",
      "3  2020-06-30 11:46:14  \n",
      "4  2020-03-23 18:25:45  \n",
      "5  2020-03-24 19:25:45  \n",
      "6  2020-03-25 11:00:45  \n",
      "7  2020-03-26 23:11:11  \n",
      "8  2020-03-27 07:25:30  \n",
      "9  2020-03-28 18:09:12  \n",
      "10 2020-03-28 18:09:12  \n",
      "<class 'pandas.core.frame.DataFrame'>\n",
      "RangeIndex: 11 entries, 0 to 10\n",
      "Data columns (total 6 columns):\n",
      " #   Column    Non-Null Count  Dtype         \n",
      "---  ------    --------------  -----         \n",
      " 0   买家会员名     11 non-null     object        \n",
      " 1   买家实际支付金额  11 non-null     float64       \n",
      " 2   课程总数量     9 non-null      float64       \n",
      " 3   课程标题      11 non-null     object        \n",
      " 4   类别        9 non-null      object        \n",
      " 5   订单付款时间    11 non-null     datetime64[ns]\n",
      "dtypes: datetime64[ns](1), float64(2), object(3)\n",
      "memory usage: 656.0+ bytes\n",
      "None\n",
      "------------------------------------------------------------------------\n",
      "   买家会员名 买家实际支付金额  课程总数量             课程标题   类别  \\\n",
      "0      msb001           30,960         2.0  Java互联网高级架构师  课程   \n",
      "1      msb002                1         1.0    金三银四面试突击班   NaN   \n",
      "2      msb003            9,980         1.0    GoLang从入门到精通  课程   \n",
      "3      msb004            9,980         NaN  算法与数据结构进阶班  课程   \n",
      "4      msb005                9         1.0       大前端VIP体验营   NaN   \n",
      "5      msb006                0         1.0  零基础速成班HTML+CSS  课程   \n",
      "6      msb007            2,400         1.0              操作系统  课程   \n",
      "7      msb008                1         NaN            自定义注解  课程   \n",
      "8      msb009            2,980         1.0        多线程与高并发  课程   \n",
      "9      msb010            1,980         1.0              科技英语  课程   \n",
      "10     msb010            1,980         1.0              科技英语  课程   \n",
      "\n",
      "          订单付款时间  \n",
      "0  2020-10-09 22:54:26  \n",
      "1  2020-10-09 22:52:42  \n",
      "2  2020-01-19 12:53:01  \n",
      "3  2020-06-30 11:46:14  \n",
      "4  2020-03-23 18:25:45  \n",
      "5  2020-03-24 19:25:45  \n",
      "6  2020-03-25 11:00:45  \n",
      "7  2020-03-26 23:11:11  \n",
      "8  2020-03-27 07:25:30  \n",
      "9  2020-03-28 18:09:12  \n",
      "10 2020-03-28 18:09:12  \n",
      "<class 'pandas.core.frame.DataFrame'>\n",
      "RangeIndex: 11 entries, 0 to 10\n",
      "Data columns (total 6 columns):\n",
      " #   Column    Non-Null Count  Dtype         \n",
      "---  ------    --------------  -----         \n",
      " 0   买家会员名     11 non-null     object        \n",
      " 1   买家实际支付金额  11 non-null     object        \n",
      " 2   课程总数量     9 non-null      float64       \n",
      " 3   课程标题      11 non-null     object        \n",
      " 4   类别        9 non-null      object        \n",
      " 5   订单付款时间    11 non-null     datetime64[ns]\n",
      "dtypes: datetime64[ns](1), float64(1), object(4)\n",
      "memory usage: 656.0+ bytes\n",
      "None\n"
     ]
    }
   ],
   "source": [
    "import pandas as pd\n",
    "pd.set_option('display.unicode.east_asian_width', True)\n",
    "\n",
    "df = pd.read_excel('data/msb课程记录.xls')\n",
    "print(df)\n",
    "print(df.info())\n",
    "\n",
    "print('------------------------------------------------------------------------')\n",
    "\n",
    "df['买家实际支付金额'] = df['买家实际支付金额'].apply(lambda x:format(int(x), ','))\n",
    "print(df)\n",
    "print(df.info())"
   ]
  },
  {
   "cell_type": "markdown",
   "metadata": {},
   "source": [
    "## apply() 、map()、 applymap()的区别"
   ]
  },
  {
   "cell_type": "code",
   "execution_count": 45,
   "metadata": {},
   "outputs": [
    {
     "name": "stdout",
     "output_type": "stream",
     "text": [
      "a    11\n",
      "b    22\n",
      "c    33\n",
      "d    44\n",
      "dtype: int64\n",
      "========================================================\n",
      "a    22\n",
      "b    44\n",
      "c    66\n",
      "d    88\n",
      "dtype: int64\n",
      "========================================================\n",
      "    A   B   C   D\n",
      "a  10  20  30  40\n",
      "b  44  55  66  77\n",
      "========================================================\n",
      "A     54\n",
      "B     75\n",
      "C     96\n",
      "D    117\n",
      "dtype: int64\n",
      "========================================================\n",
      "a    100\n",
      "b    242\n",
      "dtype: int64\n"
     ]
    }
   ],
   "source": [
    "# apply() 可以在Series, 也可以再DataFrame中起作用\n",
    "#   对 Series的每一个元素都执行一次函数\n",
    "#   对 DataFrame中的某一行或某一列中的每一个元素执行一次函数+\n",
    "\n",
    "import pandas as pd\n",
    "\n",
    "s1 = pd.Series(data=[11, 22, 33, 44], index=['a', 'b', 'c', 'd'])\n",
    "print(s1)\n",
    "print('========================================================')\n",
    "\n",
    "s1 = s1.apply(lambda x: x*2)\n",
    "print(s1)\n",
    "print('========================================================')\n",
    "\n",
    "df = pd.DataFrame(data=[[10, 20, 30, 40], [44, 55, 66, 77]], index=['a', 'b'], columns=['A', 'B', 'C', 'D'])\n",
    "print(df)\n",
    "print('========================================================')\n",
    "\n",
    "df1 = df.apply(lambda x:x.sum(), axis=0)   # 0 表示行， 1 表示列， 默认行\n",
    "print(df1)\n",
    "\n",
    "print('========================================================')\n",
    "\n",
    "df2 = df.apply(lambda x:x.sum(), axis=1)   # 0 表示行， 1 表示列， 默认行\n",
    "print(df2)"
   ]
  },
  {
   "cell_type": "code",
   "execution_count": 54,
   "metadata": {},
   "outputs": [
    {
     "name": "stdout",
     "output_type": "stream",
     "text": [
      "         Sex\n",
      "John    Male\n",
      "Lily  Female\n",
      "Mike    Male\n",
      "Bob     Male\n",
      "========================================================\n",
      "<class 'pandas.core.series.Series'>\n",
      "========================================================\n",
      "John    0\n",
      "Lily    1\n",
      "Mike    0\n",
      "Bob     0\n",
      "Name: Sex, dtype: int64\n",
      "========================================================\n",
      "John    0\n",
      "Lily    1\n",
      "Mike    0\n",
      "Bob     0\n",
      "Name: Sex, dtype: int64\n"
     ]
    }
   ],
   "source": [
    "# map() 只能应用在Series的每个元素上\n",
    "df = pd.DataFrame(data=[['Male'], ['Female'], ['Male'], ['Male']], index=['John', 'Lily', 'Mike', 'Bob'], columns=['Sex'])\n",
    "print(df)\n",
    "print('========================================================')\n",
    "\n",
    "def gender(g):\n",
    "    if g=='Male':\n",
    "        return 0\n",
    "    else:\n",
    "        return 1\n",
    "\n",
    "\n",
    "print(type(df['Sex']))   #b <class 'pandas.core.series.Series'>\n",
    "\n",
    "print('========================================================')\n",
    "df2 = df['Sex'].map(gender)   # map() 的参数是一个函数\n",
    "print(df2)\n",
    "\n",
    "print('========================================================')\n",
    "# map() 的参数 还可以是一个字典\n",
    "df3= df['Sex'].map({'Male':0, 'Female':1})\n",
    "print(df3)"
   ]
  },
  {
   "cell_type": "code",
   "execution_count": 56,
   "metadata": {},
   "outputs": [
    {
     "name": "stdout",
     "output_type": "stream",
     "text": [
      "    A   B   C   D\n",
      "a  10  20  30  40\n",
      "b  44  55  66  77\n",
      "    A   B   C   D\n",
      "a  20  30  40  50\n",
      "b  54  65  76  87\n"
     ]
    },
    {
     "name": "stderr",
     "output_type": "stream",
     "text": [
      "C:\\Users\\Rainbow\\AppData\\Local\\Temp\\ipykernel_25700\\1965762484.py:7: FutureWarning: DataFrame.applymap has been deprecated. Use DataFrame.map instead.\n",
      "  df4 = df.applymap(lambda x: x+10)\n"
     ]
    }
   ],
   "source": [
    "# applymap()  将函数 应用到 DataFrame中的每一个元素中, 与apply()的区别, apply()是针对某行或某列\n",
    "\n",
    "import pandas as pd\n",
    "df = pd.DataFrame(data=[[10, 20, 30, 40], [44, 55, 66, 77]], index=['a', 'b'], columns=['A', 'B', 'C', 'D'])\n",
    "print(df)\n",
    "\n",
    "df4 = df.applymap(lambda x: x+10)\n",
    "\n",
    "print(df4)"
   ]
  }
 ],
 "metadata": {
  "kernelspec": {
   "display_name": "venv",
   "language": "python",
   "name": "python3"
  },
  "language_info": {
   "codemirror_mode": {
    "name": "ipython",
    "version": 3
   },
   "file_extension": ".py",
   "mimetype": "text/x-python",
   "name": "python",
   "nbconvert_exporter": "python",
   "pygments_lexer": "ipython3",
   "version": "3.9.13"
  }
 },
 "nbformat": 4,
 "nbformat_minor": 2
}
