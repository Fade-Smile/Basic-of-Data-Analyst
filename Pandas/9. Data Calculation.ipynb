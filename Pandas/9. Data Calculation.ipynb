{
 "cells": [
  {
   "cell_type": "code",
   "execution_count": 6,
   "metadata": {},
   "outputs": [
    {
     "name": "stdout",
     "output_type": "stream",
     "text": [
      "   Math  English  Literature\n",
      "0   100       90          80\n",
      "1    97       98          96\n",
      "2    56       56          45\n",
      "\n",
      "   Math  English  Literature  Total\n",
      "0   100       90          80    270\n",
      "1    97       98          96    291\n",
      "2    56       56          45    157\n",
      "   Math  English  Literature  Total  Average\n",
      "0   100       90          80    270      NaN\n",
      "1    97       98          96    291      NaN\n",
      "2    56       56          45    157      NaN\n"
     ]
    }
   ],
   "source": [
    "import pandas as pd \n",
    "\n",
    "data  = [[100, 90, 80], [97, 98, 96], [56, 56,45]]\n",
    "df = pd.DataFrame(data, columns=['Math', 'English', 'Literature'])\n",
    "\n",
    "print(df)\n",
    "print()\n",
    "\n",
    "df['Total'] = df.sum(axis=1)\n",
    "print(df)\n",
    "\n",
    "\n",
    "df['Average'] = df.mean(axis=0)\n",
    "print(df)"
   ]
  },
  {
   "cell_type": "markdown",
   "metadata": {},
   "source": []
  }
 ],
 "metadata": {
  "kernelspec": {
   "display_name": "venv",
   "language": "python",
   "name": "python3"
  },
  "language_info": {
   "codemirror_mode": {
    "name": "ipython",
    "version": 3
   },
   "file_extension": ".py",
   "mimetype": "text/x-python",
   "name": "python",
   "nbconvert_exporter": "python",
   "pygments_lexer": "ipython3",
   "version": "3.9.13"
  }
 },
 "nbformat": 4,
 "nbformat_minor": 2
}
