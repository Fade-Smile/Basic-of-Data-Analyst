{
 "cells": [
  {
   "cell_type": "code",
   "execution_count": 1,
   "metadata": {},
   "outputs": [],
   "source": [
    "import pandas as pd"
   ]
  },
  {
   "cell_type": "markdown",
   "metadata": {},
   "source": [
    "### 数据位移"
   ]
  },
  {
   "cell_type": "code",
   "execution_count": 2,
   "metadata": {},
   "outputs": [
    {
     "name": "stdout",
     "output_type": "stream",
     "text": [
      "     OPPO\n",
      "Jan  7532\n",
      "Feb  3937\n",
      "Mar  9447\n",
      "Apr  8765\n",
      "May  4564\n",
      "\n",
      "     OPPO     销量差\n",
      "Jan  7532     NaN\n",
      "Feb  3937 -3595.0\n",
      "Mar  9447  5510.0\n",
      "Apr  8765  -682.0\n",
      "May  4564 -4201.0\n"
     ]
    }
   ],
   "source": [
    "import pandas as pd\n",
    "\n",
    "data = [7532, 3937, 9447, 8765, 4564]\n",
    "index = ['Jan', 'Feb', 'Mar', 'Apr', 'May']\n",
    "\n",
    "df = pd.DataFrame(data, index, columns=['OPPO'])\n",
    "print(df)\n",
    "print()\n",
    "\n",
    "df['销量差'] = df['OPPO'] - df['OPPO'].shift()\n",
    "print(df)"
   ]
  },
  {
   "cell_type": "markdown",
   "metadata": {},
   "source": [
    "### 数据的转换"
   ]
  },
  {
   "cell_type": "markdown",
   "metadata": {},
   "source": [
    "#### 将一列数据转换成多列"
   ]
  },
  {
   "cell_type": "code",
   "execution_count": 3,
   "metadata": {},
   "outputs": [
    {
     "name": "stdout",
     "output_type": "stream",
     "text": [
      "<class 'pandas.core.series.Series'>\n",
      "  客户名称                                          快递地址      省         市             区\n",
      "0   李明玉  陕西省 西安市 长安中路888号 西安音乐学院教研中心  陕西省     西安市  长安中路888号\n",
      "1   张凤香                河北省 唐山市 乐亭县 财富大街990号  河北省     唐山市         乐亭县\n",
      "2   王红军   上海市 浦东‭新区 快乐路867 快乐城市1111号8808室  上海市  浦东‭新区      快乐路867\n",
      "3     牛犇                  河北省 唐山市 开发区 喜庆道100号  河北省     唐山市         开发区\n",
      "4     马明                  台湾省 台北市 开发区 经济路101号  台湾省     台北市         开发区\n",
      "5     张刚       湖北省 武汉市 青山区 建设1路特新东方大厦802  湖北省     武汉市         青山区\n",
      "6   吴尹明      辽宁省 抚顺市 顺城区 太重阳北路1号楼2单元606  辽宁省     抚顺市         顺城区\n",
      "7   欧阳丽       山东省 临沂市 河东区 正阳北路国科石油分公司  山东省     临沂市         河东区\n",
      "8   佐成明                 山西省 大同市 城区 吉安里75#9-3-2  山西省     大同市           城区\n"
     ]
    }
   ],
   "source": [
    "import pandas as pd \n",
    "\n",
    "pd.set_option('display.unicode.east_asian', True)\n",
    "pd.set_option('display.width', 1000)\n",
    "pd.set_option('display.max_columns', 500)\n",
    "\n",
    "df = pd.read_excel('data/快递发货单.xlsx', usecols=['客户名称', '快递地址'])\n",
    "print(type(df['快递地址']))    # <class 'pandas.core.series.Series'>\n",
    "\n",
    "new_df = df['快递地址'].str.split(' ', expand=True)       # expand=True 表示将字符串转换为DataFrame\n",
    "# print(new_df)\n",
    "df['省'] = new_df[0]\n",
    "df['市'] = new_df[1]\n",
    "df['区'] = new_df[2]\n",
    "\n",
    "print(df)"
   ]
  },
  {
   "cell_type": "code",
   "execution_count": 4,
   "metadata": {},
   "outputs": [
    {
     "name": "stdout",
     "output_type": "stream",
     "text": [
      "A     14\n",
      "B     77\n",
      "C    194\n",
      "dtype: int64\n"
     ]
    }
   ],
   "source": [
    "import pandas as pd\n",
    "\n",
    "# 创建一个简单的DataFrame\n",
    "data = {'A': [1, 2, 3], 'B': [4, 5, 6], 'C': [7, 8, 9]}\n",
    "df = pd.DataFrame(data)\n",
    "\n",
    "# 定义一个函数，计算每列的平方和\n",
    "def square_sum(column):\n",
    "    return sum(column ** 2)\n",
    "\n",
    "# 在每列上应用函数\n",
    "result = df.apply(square_sum)\n",
    "print(result)\n"
   ]
  },
  {
   "cell_type": "markdown",
   "metadata": {},
   "source": [
    "#### 将元组数据进行分割"
   ]
  },
  {
   "cell_type": "code",
   "execution_count": 5,
   "metadata": {},
   "outputs": [
    {
     "name": "stdout",
     "output_type": "stream",
     "text": [
      "   a        b\n",
      "0  1   (1, 2)\n",
      "1  2   (3, 4)\n",
      "2  3   (5, 6)\n",
      "3  4   (7, 8)\n",
      "4  5  (9, 10)\n",
      "\n",
      "   a        b  b1  b2\n",
      "0  1   (1, 2)   1   2\n",
      "1  2   (3, 4)   3   4\n",
      "2  3   (5, 6)   5   6\n",
      "3  4   (7, 8)   7   8\n",
      "4  5  (9, 10)   9  10\n"
     ]
    }
   ],
   "source": [
    "import pandas as pd\n",
    "data = {\n",
    "        'a':[1, 2,3,4,5],\n",
    "        'b':[(1,2), (3,4), (5,6), (7,8), (9, 10)]\n",
    "}\n",
    "\n",
    "df = pd.DataFrame(data)\n",
    "print(df)\n",
    "print()\n",
    "\n",
    "df[['b1', 'b2']] = df['b'].apply(pd.Series)\n",
    "# 首先，apply(pd.Series) 将每个元组拆分成一个新的 DataFrame，\n",
    "# 然后使用 join() 将这个新的 DataFrame 连接到原始 DataFrame 中。\n",
    "\n",
    "print(df)\n"
   ]
  },
  {
   "cell_type": "markdown",
   "metadata": {},
   "source": [
    "#### join() 与 apply()"
   ]
  },
  {
   "cell_type": "code",
   "execution_count": 6,
   "metadata": {},
   "outputs": [
    {
     "name": "stdout",
     "output_type": "stream",
     "text": [
      "   a        b\n",
      "0  1   (1, 2)\n",
      "1  2   (3, 4)\n",
      "2  3   (5, 6)\n",
      "3  4   (7, 8)\n",
      "4  5  (9, 10)\n",
      "\n",
      "   a        b  0   1\n",
      "0  1   (1, 2)  1   2\n",
      "1  2   (3, 4)  3   4\n",
      "2  3   (5, 6)  5   6\n",
      "3  4   (7, 8)  7   8\n",
      "4  5  (9, 10)  9  10\n"
     ]
    }
   ],
   "source": [
    "import pandas as pd\n",
    "data = {\n",
    "        'a':[1, 2,3,4,5],\n",
    "        'b':[(1,2), (3,4), (5,6), (7,8), (9, 10)]\n",
    "}\n",
    "\n",
    "df = pd.DataFrame(data)\n",
    "print(df)\n",
    "print()\n",
    "\n",
    "df = df.join(df['b'].apply(pd.Series))\n",
    "print(df)"
   ]
  },
  {
   "cell_type": "markdown",
   "metadata": {},
   "source": [
    "#### 行列转换stack_unstack"
   ]
  },
  {
   "cell_type": "code",
   "execution_count": 7,
   "metadata": {},
   "outputs": [
    {
     "name": "stdout",
     "output_type": "stream",
     "text": [
      "            姓名  得分  排名\n",
      "班级 序号                   \n",
      "1班  1     王*亮    84    11\n",
      "     2      杨**    82    17\n",
      "     3     王*彬    78    37\n",
      "2班  4     赛*琪    77    51\n",
      "     5      刘**    76    64\n",
      "\n",
      "班级  序号    \n",
      "1班   1     姓名    王*亮\n",
      "            得分       84\n",
      "            排名       11\n",
      "      2     姓名     杨**\n",
      "            得分       82\n",
      "            排名       17\n",
      "dtype: object\n"
     ]
    }
   ],
   "source": [
    "import pandas as pd\n",
    "\n",
    "df = pd.read_excel('data/grade.xlsx')\n",
    "# print(df)\n",
    "df = df.set_index(['班级', '序号'])\n",
    "print(df.head())\n",
    "print()\n",
    "\n",
    "df = df.stack()\n",
    "print(df.head(6))"
   ]
  },
  {
   "cell_type": "code",
   "execution_count": 8,
   "metadata": {},
   "outputs": [
    {
     "name": "stdout",
     "output_type": "stream",
     "text": [
      "  班级  序号 Unnamed: 2 Unnamed: 3\n",
      "0  1班     1       姓名      王*亮\n",
      "1  1班     1       得分         84\n",
      "2  1班     1       排名         11\n",
      "3  1班     2       姓名       杨**\n",
      "4  1班     2       得分         82\n",
      "*************************************************\n",
      "           Unnamed: 3          \n",
      "Unnamed: 2       姓名 得分 排名\n",
      "班级 序号                      \n",
      "1班  1          王*亮   84   11\n",
      "     2           杨**   82   17\n",
      "     3          王*彬   78   37\n",
      "2班  4          赛*琪   77   51\n",
      "     5           刘**   76   64\n",
      "     6          刘*彤   74   89\n"
     ]
    }
   ],
   "source": [
    "import pandas as pd\n",
    "\n",
    "df = pd.read_excel('data/grade2.xls', sheet_name='英语2')\n",
    "print(df.head())\n",
    "print('*************************************************')\n",
    "\n",
    "df = df.set_index(['班级', '序号', 'Unnamed: 2'])\n",
    "print(df.unstack())\n"
   ]
  },
  {
   "cell_type": "markdown",
   "metadata": {},
   "source": [
    "#### 行列转换pivot"
   ]
  },
  {
   "cell_type": "code",
   "execution_count": 9,
   "metadata": {},
   "outputs": [
    {
     "name": "stdout",
     "output_type": "stream",
     "text": [
      "班级  1班  2班  3班  4班  5班\n",
      "序号                         \n",
      "1      84   77   72   72   70\n",
      "2      82   76   72   72   68\n",
      "3      78   74   72   70   68\n"
     ]
    }
   ],
   "source": [
    "import pandas as pd\n",
    "\n",
    "df = pd.read_excel('data/grade3.xlsx')\n",
    "# print(df.head())\n",
    "\n",
    "print(df.pivot(index='序号', columns='班级', values='得分'))\n"
   ]
  },
  {
   "cell_type": "code",
   "execution_count": 10,
   "metadata": {},
   "outputs": [
    {
     "name": "stdout",
     "output_type": "stream",
     "text": [
      "Original df\n",
      "    Name  Subject  Score\n",
      "0  Alice     Math     90\n",
      "1    Bob     Math     85\n",
      "2  Alice  English     88\n",
      "3    Bob  English     92\n",
      "\n",
      "pivot_table\n",
      "Subject  English  Math\n",
      "Name                  \n",
      "Alice       88.0  90.0\n",
      "Bob         92.0  85.0\n",
      "\n",
      "pivot result:\n",
      "Subject  English  Math\n",
      "Name                  \n",
      "Alice         88    90\n",
      "Bob           92    85\n"
     ]
    }
   ],
   "source": [
    "import pandas as pd\n",
    "\n",
    "data = {\n",
    "    'Name': ['Alice', 'Bob', 'Alice', 'Bob'],\n",
    "    'Subject': ['Math', 'Math', 'English', 'English'],\n",
    "    'Score': [90, 85, 88, 92],\n",
    "}\n",
    "\n",
    "df = pd.DataFrame(data)\n",
    "print('Original df')\n",
    "print(df)\n",
    "print()\n",
    "# 使用 pivot_table() 创建透视表\n",
    "pivot_table = pd.pivot_table(df, values='Score', index='Name', columns='Subject', aggfunc='mean', fill_value=0)\n",
    "print('pivot_table')\n",
    "print(pivot_table)\n",
    "print()\n",
    "\n",
    "# 使用 pivot() 创建透视表\n",
    "pivot_result = df.pivot(index='Name', columns='Subject', values='Score')\n",
    "print('pivot result:')\n",
    "print(pivot_result)"
   ]
  },
  {
   "cell_type": "markdown",
   "metadata": {},
   "source": [
    "#### DataFrame转成字典_列表_元组"
   ]
  },
  {
   "cell_type": "code",
   "execution_count": 11,
   "metadata": {},
   "outputs": [
    {
     "name": "stdout",
     "output_type": "stream",
     "text": [
      "DVD光驱 : 150\n",
      "SD存储卡 : 44\n",
      "手写板 : 57\n",
      "无线网卡 : 40\n",
      "蓝牙适配器 : 322\n",
      "键盘 : 140\n",
      "麦克风 : 178\n",
      "鼠标 : 166\n"
     ]
    }
   ],
   "source": [
    "# DataFrame 转换成 字典\n",
    "\n",
    "import pandas as pd\n",
    "\n",
    "df = pd.read_excel('data/电脑配件销售记录.xlsx') \n",
    "df1=df.groupby('产品名称')['数量'].sum()     # 根据产品名称分组，统计数量 \n",
    "dict1 = df1.to_dict()                       # 转换成字典\n",
    "\n",
    "for item in dict1:\n",
    "    print(item,':', dict1[item])\n"
   ]
  },
  {
   "cell_type": "code",
   "execution_count": 12,
   "metadata": {},
   "outputs": [
    {
     "name": "stdout",
     "output_type": "stream",
     "text": [
      "<class 'pandas.core.frame.DataFrame'>\n",
      "<class 'numpy.ndarray'>\n",
      "[['无线网卡'], ['无线网卡'], ['鼠标'], ['鼠标'], ['鼠标'], ['鼠标'], ['鼠标'], ['手写板'], ['手写板'], ['麦克风'], ['麦克风'], ['麦克风'], ['麦克风'], ['麦克风'], ['蓝牙适配器'], ['蓝牙适配器'], ['蓝牙适配器'], ['蓝牙适配器'], ['蓝牙适配器'], ['蓝牙适配器'], ['键盘'], ['键盘'], ['SD存储卡'], ['SD存储卡'], ['SD存储卡'], ['DVD光驱'], ['DVD光驱'], ['DVD光驱'], ['DVD光驱']]\n",
      "<class 'list'>\n",
      "<class 'pandas.core.series.Series'>\n",
      "['无线网卡', '无线网卡', '鼠标', '鼠标', '鼠标', '鼠标', '鼠标', '手写板', '手写板', '麦克风', '麦克风', '麦克风', '麦克风', '麦克风', '蓝牙适配器', '蓝牙适配器', '蓝牙适配器', '蓝牙适配器', '蓝牙适配器', '蓝牙适配器', '键盘', '键盘', 'SD存储卡', 'SD存储卡', 'SD存储卡', 'DVD光驱', 'DVD光驱', 'DVD光驱', 'DVD光驱']\n",
      "<class 'list'>\n"
     ]
    },
    {
     "data": {
      "text/plain": [
       "\"\\n在结果上，两者最终都是得到了一个包含产品名称的列表，\\n但 df1.values.tolist() 是得到整个 DataFrame 的所有数据，\\n而 df1['产品名称'].tolist() 是得到指定列的数据。\\n\""
      ]
     },
     "execution_count": 12,
     "metadata": {},
     "output_type": "execute_result"
    }
   ],
   "source": [
    "# DataFrame 转换成 列表\n",
    "import pandas as pd\n",
    "\n",
    "df = pd.read_excel('data/电脑配件销售记录.xlsx') \n",
    "# print(df.head())\n",
    "\n",
    "df1 = df[['产品名称']]\n",
    "# print(df1)\n",
    "print(type(df1))   #   <class 'pandas.core.frame.DataFrame'>\n",
    "print(type(df1['产品名称'].values))    # <class 'numpy.ndarray'>\n",
    "\n",
    "lst = df1.values.tolist()  # 1. df1.values 返回一个二维 NumPy 数组  2. tolist() 将 NumPy 数组转换为 Python 列表。\n",
    "print(lst)\n",
    "print(type(lst))   # <class 'list'>\n",
    "\n",
    "lst1 = df1['产品名称'].tolist()   # df1['产品名称'] 返回一个 Pandas Series 对象。\n",
    "print(type(df1['产品名称']))        # <class 'pandas.core.series.Series'>\n",
    "print(lst1)\n",
    "print(type(lst1))   # <class 'list'>\n",
    "\n",
    "'''\n",
    "在结果上，两者最终都是得到了一个包含产品名称的列表，\n",
    "但 df1.values.tolist() 是得到整个 DataFrame 的所有数据，\n",
    "而 df1['产品名称'].tolist() 是得到指定列的数据。\n",
    "'''"
   ]
  },
  {
   "cell_type": "code",
   "execution_count": 13,
   "metadata": {},
   "outputs": [
    {
     "name": "stdout",
     "output_type": "stream",
     "text": [
      "('无线网卡', '王丽', 10)\n",
      "('无线网卡', '李桂林', 30)\n",
      "('鼠标', '李欢', 6)\n",
      "('鼠标', '李欢', 15)\n",
      "('鼠标', '李桂林', 16)\n",
      "('鼠标', '王双', 52)\n",
      "('鼠标', '李桂林', 77)\n",
      "('手写板', '华国华', 14)\n",
      "('手写板', '王丽', 43)\n",
      "('麦克风', '王丽', 4)\n",
      "('麦克风', '王丽', 10)\n",
      "('麦克风', '华国华', 47)\n",
      "('麦克风', '李桂林', 55)\n",
      "('麦克风', '李欢', 62)\n",
      "('蓝牙适配器', '李桂林', 18)\n",
      "('蓝牙适配器', '李桂林', 39)\n",
      "('蓝牙适配器', '王丽', 51)\n",
      "('蓝牙适配器', '李桂林', 58)\n",
      "('蓝牙适配器', '李桂林', 61)\n",
      "('蓝牙适配器', '李欢', 95)\n",
      "('键盘', '华国华', 20)\n",
      "('键盘', '王丽', 120)\n",
      "('SD存储卡', '李欢', 9)\n",
      "('SD存储卡', '李桂林', 15)\n",
      "('SD存储卡', '李桂林', 20)\n",
      "('DVD光驱', '王丽', 30)\n",
      "('DVD光驱', '王丽', 32)\n",
      "('DVD光驱', '华国华', 40)\n",
      "('DVD光驱', '华国华', 48)\n"
     ]
    }
   ],
   "source": [
    "# DataFrame 转换成 元组\n",
    "\n",
    "import pandas as pd\n",
    "\n",
    "df = pd.read_excel('data/电脑配件销售记录.xlsx') \n",
    "# print(df.head())\n",
    "\n",
    "df1 = df[['产品名称', '销售员', '数量']]\n",
    "# print(df1)\n",
    "# print(df1.values)\n",
    "# print(type(df1.values))   # <class 'numpy.ndarray'>\n",
    "\n",
    "t = [tuple (x) for x in df1.values]\n",
    "for item in t:\n",
    "    print(item)"
   ]
  },
  {
   "cell_type": "markdown",
   "metadata": {},
   "source": [
    "#### DataFrame转成HTML文件"
   ]
  },
  {
   "cell_type": "code",
   "execution_count": 15,
   "metadata": {},
   "outputs": [
    {
     "name": "stdout",
     "output_type": "stream",
     "text": [
      "   产品名称  销售员  数量  标准单价  成交金额\n",
      "0  无线网卡    王丽    10       178      1780\n",
      "1  无线网卡  李桂林    30       178      5340\n",
      "2      鼠标    李欢     6       299      1794\n",
      "3      鼠标    李欢    15       299      4485\n",
      "4      鼠标  李桂林    16       299      4784\n"
     ]
    }
   ],
   "source": [
    "import pandas as pd\n",
    "\n",
    "df = pd.read_excel('data/电脑配件销售记录.xlsx') \n",
    "print(df.head())\n",
    "df.to_html('data/电脑配件销售记录.html', header=True)"
   ]
  }
 ],
 "metadata": {
  "kernelspec": {
   "display_name": "venv",
   "language": "python",
   "name": "python3"
  },
  "language_info": {
   "codemirror_mode": {
    "name": "ipython",
    "version": 3
   },
   "file_extension": ".py",
   "mimetype": "text/x-python",
   "name": "python",
   "nbconvert_exporter": "python",
   "pygments_lexer": "ipython3",
   "version": "3.9.13"
  }
 },
 "nbformat": 4,
 "nbformat_minor": 2
}
