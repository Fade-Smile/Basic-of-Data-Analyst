{
 "cells": [
  {
   "cell_type": "markdown",
   "metadata": {},
   "source": [
    "### Data extraction \n",
    "\n",
    "**df.loc：**\n",
    "- df.loc 是基于标签进行索引和选择的方法。\n",
    "- 它使用行和列的标签来提取数据，可以使用行和列的标签名称进行切片和选择。\n",
    "- 语法：df.loc[row_label, column_label]。\n",
    "\n",
    "**df.iloc：**\n",
    "- df.iloc 是基于整数位置进行索引和选择的方法。\n",
    "- 它使用行和列的整数位置（从 0 开始）来提取数据，可以使用整数位置进行切片和选择。\n",
    "- 语法：df.iloc[row_index, column_index]。"
   ]
  },
  {
   "cell_type": "markdown",
   "metadata": {},
   "source": [
    "#### Extract data bu Row"
   ]
  },
  {
   "cell_type": "code",
   "execution_count": 1,
   "metadata": {},
   "outputs": [
    {
     "name": "stdout",
     "output_type": "stream",
     "text": [
      "         Math  English  Science\n",
      "Amy        45       60      100\n",
      "Beck       56       45       50\n",
      "Charlie    67       67       67\n",
      "Daisy      68       72       89\n",
      "Emma       12       98       96\n"
     ]
    }
   ],
   "source": [
    "import pandas as pd\n",
    "data = [[45, 60, 100], [56,45,50], [67, 67,67], [68, 72, 89], [12, 98, 96]]\n",
    "students = ['Amy', 'Beck', 'Charlie', 'Daisy', 'Emma']\n",
    "subjects = ['Math', 'English', 'Science']\n",
    "\n",
    "df = pd.DataFrame(data, index=students, columns=subjects)\n",
    "print(df)"
   ]
  },
  {
   "cell_type": "code",
   "execution_count": 2,
   "metadata": {},
   "outputs": [
    {
     "name": "stdout",
     "output_type": "stream",
     "text": [
      "Math        45\n",
      "English     60\n",
      "Science    100\n",
      "Name: Amy, dtype: int64\n",
      "Math        45\n",
      "English     60\n",
      "Science    100\n",
      "Name: Amy, dtype: int64\n"
     ]
    }
   ],
   "source": [
    "print(df.loc['Amy'])    # extract data by index name \n",
    "\n",
    "print(df.iloc[0])       # extract data by index number"
   ]
  },
  {
   "cell_type": "code",
   "execution_count": 3,
   "metadata": {},
   "outputs": [
    {
     "name": "stdout",
     "output_type": "stream",
     "text": [
      "      Math  English  Science\n",
      "Amy     45       60      100\n",
      "Beck    56       45       50\n",
      "****************************************\n",
      "      Math  English  Science\n",
      "Amy     45       60      100\n",
      "Beck    56       45       50\n"
     ]
    }
   ],
   "source": [
    "# extract multi-person's data\n",
    "print(df.loc[['Amy', 'Beck']])\n",
    "print('*'*40)\n",
    "print(df.iloc[[0, 1]])\n"
   ]
  },
  {
   "cell_type": "code",
   "execution_count": 4,
   "metadata": {},
   "outputs": [
    {
     "name": "stdout",
     "output_type": "stream",
     "text": [
      "         Math  English  Science\n",
      "Amy        45       60      100\n",
      "Beck       56       45       50\n",
      "Charlie    67       67       67\n",
      "Daisy      68       72       89\n",
      "Emma       12       98       96\n",
      "         Math  English  Science\n",
      "Amy        45       60      100\n",
      "Beck       56       45       50\n",
      "Charlie    67       67       67\n",
      "Daisy      68       72       89\n"
     ]
    }
   ],
   "source": [
    "# Extract consecutive multiple rows of data\n",
    "print(df.loc['Amy':'Emma'])   # index name: include 'Charlie'\n",
    "print(df.iloc[0:4])              # index number: exclude 'Charlie'"
   ]
  },
  {
   "cell_type": "code",
   "execution_count": 5,
   "metadata": {},
   "outputs": [
    {
     "name": "stdout",
     "output_type": "stream",
     "text": [
      "         Math  English  Science\n",
      "Amy        45       60      100\n",
      "Beck       56       45       50\n",
      "Charlie    67       67       67\n",
      "Daisy      68       72       89\n",
      "Emma       12       98       96\n",
      "         Math  English  Science\n",
      "Amy        45       60      100\n",
      "Charlie    67       67       67\n",
      "Emma       12       98       96\n"
     ]
    }
   ],
   "source": [
    "# use slice to extract consecutive multiple rows of data\n",
    "print(df.iloc[::])     # iloc[start:stop:step]\n",
    "print(df.iloc[::2])     "
   ]
  },
  {
   "cell_type": "markdown",
   "metadata": {},
   "source": [
    "#### Extract data by column"
   ]
  },
  {
   "cell_type": "code",
   "execution_count": 6,
   "metadata": {},
   "outputs": [
    {
     "name": "stdout",
     "output_type": "stream",
     "text": [
      "         Math  English  Science\n",
      "Amy        45       60      100\n",
      "Beck       56       45       50\n",
      "Charlie    67       67       67\n",
      "Daisy      68       72       89\n",
      "Emma       12       98       96\n"
     ]
    }
   ],
   "source": [
    "import pandas as pd\n",
    "data = [[45, 60, 100], [56,45,50], [67, 67,67], [68, 72, 89], [12, 98, 96]]\n",
    "students = ['Amy', 'Beck', 'Charlie', 'Daisy', 'Emma']\n",
    "subjects = ['Math', 'English', 'Science']\n",
    "\n",
    "df = pd.DataFrame(data, index=students, columns=subjects)\n",
    "print(df)"
   ]
  },
  {
   "cell_type": "code",
   "execution_count": 7,
   "metadata": {},
   "outputs": [
    {
     "name": "stdout",
     "output_type": "stream",
     "text": [
      "         English  Math\n",
      "Amy           60    45\n",
      "Beck          45    56\n",
      "Charlie       67    67\n",
      "Daisy         72    68\n",
      "Emma          98    12\n",
      "****************************************\n",
      "         Math  English\n",
      "Amy        45       60\n",
      "Beck       56       45\n",
      "Charlie    67       67\n",
      "Daisy      68       72\n",
      "Emma       12       98\n",
      "****************************************\n",
      "         Math  English\n",
      "Amy        45       60\n",
      "Beck       56       45\n",
      "Charlie    67       67\n",
      "Daisy      68       72\n",
      "Emma       12       98\n",
      "----------------------Extract consecutive columns-------------------------------\n",
      "         Math  English  Science\n",
      "Amy        45       60      100\n",
      "Beck       56       45       50\n",
      "Charlie    67       67       67\n",
      "Daisy      68       72       89\n",
      "Emma       12       98       96\n",
      "****************************************\n",
      "         Math  English\n",
      "Amy        45       60\n",
      "Beck       56       45\n",
      "Charlie    67       67\n",
      "Daisy      68       72\n",
      "Emma       12       98\n"
     ]
    }
   ],
   "source": [
    "print(df[['English', 'Math']])   # Extract directly using column names\n",
    "\n",
    "print('*'*40)\n",
    "\n",
    "print(df.loc[:, ['Math','English']])  # df.loc[row_label, column_label]\n",
    "\n",
    "print('*'*40)\n",
    "\n",
    "print(df.iloc[:, [0,1]])  # df.iloc[row_index, column_index]\n",
    "\n",
    "\n",
    "print('----------------------Extract consecutive columns-------------------------------')\n",
    "print(df.loc[:, 'Math':'Science']) \n",
    "\n",
    "print('*'*40)\n",
    "\n",
    "print(df.iloc[:, 0:2])\n"
   ]
  },
  {
   "cell_type": "markdown",
   "metadata": {},
   "source": [
    "#### Extract regional data"
   ]
  },
  {
   "cell_type": "code",
   "execution_count": 8,
   "metadata": {},
   "outputs": [
    {
     "name": "stdout",
     "output_type": "stream",
     "text": [
      "         Math  English  Science\n",
      "Amy        45       60      100\n",
      "Beck       56       45       50\n",
      "Charlie    67       67       67\n",
      "Daisy      68       72       89\n",
      "Emma       12       98       96\n"
     ]
    }
   ],
   "source": [
    "import pandas as pd\n",
    "data = [[45, 60, 100], [56,45,50], [67, 67,67], [68, 72, 89], [12, 98, 96]]\n",
    "students = ['Amy', 'Beck', 'Charlie', 'Daisy', 'Emma']\n",
    "subjects = ['Math', 'English', 'Science']\n",
    "\n",
    "df = pd.DataFrame(data, index=students, columns=subjects)\n",
    "print(df)"
   ]
  },
  {
   "cell_type": "code",
   "execution_count": 9,
   "metadata": {},
   "outputs": [
    {
     "name": "stdout",
     "output_type": "stream",
     "text": [
      "Charlie's math score is: 67 \n",
      " <class 'numpy.int64'>\n",
      "-----------------------------------\n",
      "Below is Amy and Daisy's  Math and Science score:\n",
      "        English  Science\n",
      "Amy         60      100\n",
      "Daisy       72       89\n",
      "-----------------------------------\n",
      "Charlie's math score is: 67\n",
      "-----------------------------------\n",
      "Below is Amy and Beck's  Math and English score:\n",
      "       Math  English\n",
      "Amy     45       60\n",
      "Beck    56       45\n",
      "-----------------------------------\n",
      "Below is Amy and Daisy's  Math and Science score:\n",
      "        English  Science\n",
      "Amy         60      100\n",
      "Daisy       72       89\n",
      "-----------------------------------\n",
      "Below is the Math score for all student:\n",
      " Amy        45\n",
      "Beck       56\n",
      "Charlie    67\n",
      "Daisy      68\n",
      "Emma       12\n",
      "Name: Math, dtype: int64\n"
     ]
    }
   ],
   "source": [
    "print('Charlie\\'s math score is:', df.loc['Charlie', 'Math'], '\\n', type(df.loc['Charlie', 'Math']))\n",
    "print('-'*35)\n",
    "\n",
    "\n",
    "print('Below is Amy and Daisy\\'s  Math and Science score:\\n', df.loc[['Amy', 'Daisy'], ['English', 'Science']])\n",
    "print('-'*35)\n",
    "\n",
    "print('Charlie\\'s math score is:', df.iloc[2,0])\n",
    "print('-'*35)\n",
    "\n",
    "print('Below is Amy and Beck\\'s  Math and English score:\\n',df.iloc[0:2, 0:2])\n",
    "print('-'*35)\n",
    "\n",
    "print('Below is Amy and Daisy\\'s  Math and Science score:\\n', df.iloc[[0,3], [1,2]])\n",
    "print('-'*35)\n",
    "\n",
    "print('Below is the Math score for all student:\\n', df.iloc[:,0])"
   ]
  },
  {
   "cell_type": "markdown",
   "metadata": {},
   "source": [
    "#### Extract specified condition data"
   ]
  },
  {
   "cell_type": "code",
   "execution_count": 10,
   "metadata": {},
   "outputs": [
    {
     "name": "stdout",
     "output_type": "stream",
     "text": [
      "         Math  English  Science\n",
      "Amy        45       60      100\n",
      "Beck       56       45       50\n",
      "Charlie    67       67       67\n",
      "Daisy      68       72       89\n",
      "Emma       12       98       96\n"
     ]
    }
   ],
   "source": [
    "import pandas as pd\n",
    "data = [[45, 60, 100], [56,45,50], [67, 67,67], [68, 72, 89], [12, 98, 96]]\n",
    "students = ['Amy', 'Beck', 'Charlie', 'Daisy', 'Emma']\n",
    "subjects = ['Math', 'English', 'Science']\n",
    "\n",
    "df = pd.DataFrame(data, index=students, columns=subjects)\n",
    "print(df)"
   ]
  },
  {
   "cell_type": "code",
   "execution_count": 11,
   "metadata": {},
   "outputs": [
    {
     "name": "stdout",
     "output_type": "stream",
     "text": [
      "         Math  English  Science\n",
      "Amy        45       60      100\n",
      "Charlie    67       67       67\n",
      "Daisy      68       72       89\n",
      "Emma       12       98       96\n",
      "-----------------------------------\n",
      "         Math  English  Science\n",
      "Charlie    67       67       67\n",
      "Daisy      68       72       89\n"
     ]
    }
   ],
   "source": [
    "# One Condition: Extract information about students whose English scores are greater than or equal to 60\n",
    "print(df.loc[df['English']>=60])\n",
    "\n",
    "print('-'*35)\n",
    "# Multiple Condition:\n",
    "#   English >= 60\n",
    "#   Math >= 60\n",
    "print(df.loc[(df['English']>=60) & (df['Math']>=60)])"
   ]
  },
  {
   "cell_type": "markdown",
   "metadata": {},
   "source": [
    "### Addition, modification and deletion of DataFrame"
   ]
  },
  {
   "cell_type": "code",
   "execution_count": 12,
   "metadata": {},
   "outputs": [
    {
     "name": "stdout",
     "output_type": "stream",
     "text": [
      "         Math  English  Science\n",
      "Amy        45       60      100\n",
      "Beck       56       45       50\n",
      "Charlie    67       67       67\n",
      "Daisy      68       72       89\n",
      "Emma       12       98       96\n"
     ]
    }
   ],
   "source": [
    "import pandas as pd\n",
    "data = [[45, 60, 100], [56,45,50], [67, 67,67], [68, 72, 89], [12, 98, 96]]\n",
    "students = ['Amy', 'Beck', 'Charlie', 'Daisy', 'Emma']\n",
    "subjects = ['Math', 'English', 'Science']\n",
    "\n",
    "df = pd.DataFrame(data, index=students, columns=subjects)\n",
    "print(df)"
   ]
  },
  {
   "cell_type": "markdown",
   "metadata": {},
   "source": [
    "#### Add data - by column"
   ]
  },
  {
   "cell_type": "code",
   "execution_count": 13,
   "metadata": {},
   "outputs": [
    {
     "name": "stdout",
     "output_type": "stream",
     "text": [
      "         Math  English  Science  History\n",
      "Amy        45       60      100       62\n",
      "Beck       56       45       50       74\n",
      "Charlie    67       67       67       85\n",
      "Daisy      68       72       89       96\n",
      "Emma       12       98       96       88\n",
      "--------------------------------------------------\n",
      "         Math  English  Science  History  Computer\n",
      "Amy        45       60      100       62        88\n",
      "Beck       56       45       50       74        39\n",
      "Charlie    67       67       67       85       100\n",
      "Daisy      68       72       89       96        35\n",
      "Emma       12       98       96       88        60\n"
     ]
    }
   ],
   "source": [
    "#  Method one: direct assignment\n",
    "df['History'] = [62, 74, 85, 96, 88]\n",
    "print(df)\n",
    "print('-'*50)\n",
    "\n",
    "# Method two: using loc\n",
    "df.loc[:, 'Computer'] = [88, 39, 100, 35, 60]\n",
    "print(df)"
   ]
  },
  {
   "cell_type": "code",
   "execution_count": 14,
   "metadata": {},
   "outputs": [
    {
     "name": "stdout",
     "output_type": "stream",
     "text": [
      "         Math  Psychology  English  Science  History  Computer\n",
      "Amy        45          65       60      100       62        88\n",
      "Beck       56          68       45       50       74        39\n",
      "Charlie    67          98       67       67       85       100\n",
      "Daisy      68         100       72       89       96        35\n",
      "Emma       12         100       98       96       88        60\n"
     ]
    }
   ],
   "source": [
    "# Insert a column at the specified index position\n",
    "lst = [65, 68, 98, 100, 100]\n",
    "df.insert(1, 'Psychology', lst)\n",
    "print(df)"
   ]
  },
  {
   "cell_type": "markdown",
   "metadata": {},
   "source": [
    "#### Add data - by Row\n"
   ]
  },
  {
   "cell_type": "code",
   "execution_count": 15,
   "metadata": {},
   "outputs": [
    {
     "name": "stdout",
     "output_type": "stream",
     "text": [
      "         Math  English  Science\n",
      "Amy        45       60      100\n",
      "Beck       56       45       50\n",
      "Charlie    67       67       67\n",
      "Daisy      68       72       89\n",
      "Emma       12       98       96\n"
     ]
    }
   ],
   "source": [
    "import pandas as pd\n",
    "data = [[45, 60, 100], [56,45,50], [67, 67,67], [68, 72, 89], [12, 98, 96]]\n",
    "students = ['Amy', 'Beck', 'Charlie', 'Daisy', 'Emma']\n",
    "subjects = ['Math', 'English', 'Science']\n",
    "\n",
    "df = pd.DataFrame(data, index=students, columns=subjects)\n",
    "print(df)"
   ]
  },
  {
   "cell_type": "code",
   "execution_count": 16,
   "metadata": {},
   "outputs": [
    {
     "name": "stdout",
     "output_type": "stream",
     "text": [
      "         Math  English  Science\n",
      "Amy        45       60      100\n",
      "Beck       56       45       50\n",
      "Charlie    67       67       67\n",
      "Daisy      68       72       89\n",
      "Emma       12       98       96\n",
      "Faith      57       58       59\n"
     ]
    }
   ],
   "source": [
    "# Add one student with score\n",
    "df.loc['Faith'] = [57, 58, 59]\n",
    "print(df)"
   ]
  },
  {
   "cell_type": "code",
   "execution_count": 17,
   "metadata": {},
   "outputs": [
    {
     "name": "stdout",
     "output_type": "stream",
     "text": [
      "       Math  Science  English\n",
      "John     80       95       75\n",
      "Jane     90       85       80\n",
      "Bob      70       80       90\n",
      "Alice    85       90       85\n",
      "---------------------------------------------\n",
      "         Math  English  Science\n",
      "Amy        45       60      100\n",
      "Beck       56       45       50\n",
      "Charlie    67       67       67\n",
      "Daisy      68       72       89\n",
      "Emma       12       98       96\n",
      "Faith      57       58       59\n",
      "John       80       75       95\n",
      "Jane       90       80       85\n",
      "Bob        70       90       80\n",
      "Alice      85       85       90\n"
     ]
    }
   ],
   "source": [
    "# Add more than one student with their score by creating a new DataFrame\n",
    "new_df = pd.DataFrame(\n",
    "    data={\n",
    "            'Math': [80, 90, 70, 85],\n",
    "            'Science': [95, 85, 80, 90],\n",
    "            'English': [75, 80, 90, 85]},\n",
    "    index= ['John', 'Jane', 'Bob', 'Alice']\n",
    ")\n",
    "\n",
    "print(new_df)\n",
    "print('-'*45)\n",
    "# Add the new DataFrame to the original DataFrame\n",
    "df = pd.concat([df, new_df])\n",
    "print(df)"
   ]
  },
  {
   "cell_type": "markdown",
   "metadata": {},
   "source": [
    "#### Modification-Columns"
   ]
  },
  {
   "cell_type": "code",
   "execution_count": 18,
   "metadata": {},
   "outputs": [
    {
     "name": "stdout",
     "output_type": "stream",
     "text": [
      "         Math  English  Science\n",
      "Amy        45       60      100\n",
      "Beck       56       45       50\n",
      "Charlie    67       67       67\n",
      "Daisy      68       72       89\n",
      "Emma       12       98       96\n"
     ]
    }
   ],
   "source": [
    "import pandas as pd\n",
    "data = [[45, 60, 100], [56,45,50], [67, 67,67], [68, 72, 89], [12, 98, 96]]\n",
    "students = ['Amy', 'Beck', 'Charlie', 'Daisy', 'Emma']\n",
    "subjects = ['Math', 'English', 'Science']\n",
    "\n",
    "df = pd.DataFrame(data, index=students, columns=subjects)\n",
    "print(df)"
   ]
  },
  {
   "cell_type": "code",
   "execution_count": 19,
   "metadata": {},
   "outputs": [
    {
     "name": "stdout",
     "output_type": "stream",
     "text": [
      "         Math-1  English-1  Science-1\n",
      "Amy          45         60        100\n",
      "Beck         56         45         50\n",
      "Charlie      67         67         67\n",
      "Daisy        68         72         89\n",
      "Emma         12         98         96\n"
     ]
    }
   ],
   "source": [
    "# Method 1: Use the columns attribute directly\n",
    "df.columns=['Math-1', 'English-1', 'Science-1']\n",
    "print(df)"
   ]
  },
  {
   "cell_type": "code",
   "execution_count": 20,
   "metadata": {},
   "outputs": [
    {
     "name": "stdout",
     "output_type": "stream",
     "text": [
      "         Math-2  English-2  Science-2\n",
      "Amy          45         60        100\n",
      "Beck         56         45         50\n",
      "Charlie      67         67         67\n",
      "Daisy        68         72         89\n",
      "Emma         12         98         96\n"
     ]
    }
   ],
   "source": [
    "# Method 2: rename()   'inplace': whether to directly modify the DataFrame\n",
    "df.rename(columns={'Math-1': 'Math-2', 'English-1':'English-2', 'Science-1':'Science-2'}, inplace=True)\n",
    "print(df)\n"
   ]
  },
  {
   "cell_type": "markdown",
   "metadata": {},
   "source": [
    "#### Modification-Row"
   ]
  },
  {
   "cell_type": "code",
   "execution_count": 21,
   "metadata": {},
   "outputs": [
    {
     "name": "stdout",
     "output_type": "stream",
     "text": [
      "         Math  English  Science\n",
      "Amy        45       60      100\n",
      "Beck       56       45       50\n",
      "Charlie    67       67       67\n",
      "Daisy      68       72       89\n",
      "Emma       12       98       96\n"
     ]
    }
   ],
   "source": [
    "import pandas as pd\n",
    "data = [[45, 60, 100], [56,45,50], [67, 67,67], [68, 72, 89], [12, 98, 96]]\n",
    "students = ['Amy', 'Beck', 'Charlie', 'Daisy', 'Emma']\n",
    "subjects = ['Math', 'English', 'Science']\n",
    "\n",
    "df = pd.DataFrame(data, index=students, columns=subjects)\n",
    "print(df)"
   ]
  },
  {
   "cell_type": "code",
   "execution_count": 22,
   "metadata": {},
   "outputs": [
    {
     "name": "stdout",
     "output_type": "stream",
     "text": [
      "   Math  English  Science\n",
      "A    45       60      100\n",
      "B    56       45       50\n",
      "C    67       67       67\n",
      "D    68       72       89\n",
      "E    12       98       96\n"
     ]
    }
   ],
   "source": [
    "# Method 1: direct assignment\n",
    "df.index=list('ABCDE')\n",
    "print(df)"
   ]
  },
  {
   "cell_type": "code",
   "execution_count": 23,
   "metadata": {},
   "outputs": [
    {
     "name": "stdout",
     "output_type": "stream",
     "text": [
      "   Math  English  Science\n",
      "1    45       60      100\n",
      "2    56       45       50\n",
      "3    67       67       67\n",
      "4    68       72       89\n",
      "5    12       98       96\n"
     ]
    }
   ],
   "source": [
    "# Method 2: rename()\n",
    "df.rename({'A': '1', 'B':'2', 'C':'3', 'D':'4', 'E':'5'}, inplace=True, axis=0)\n",
    "print(df)"
   ]
  },
  {
   "cell_type": "markdown",
   "metadata": {},
   "source": [
    "#### Modification-Data"
   ]
  },
  {
   "cell_type": "code",
   "execution_count": 24,
   "metadata": {},
   "outputs": [
    {
     "name": "stdout",
     "output_type": "stream",
     "text": [
      "         Math  English  Science\n",
      "Amy        45       60      100\n",
      "Beck       56       45       50\n",
      "Charlie    67       67       67\n",
      "Daisy      68       72       89\n",
      "Emma       12       98       96\n"
     ]
    }
   ],
   "source": [
    "import pandas as pd\n",
    "data = [[45, 60, 100], [56,45,50], [67, 67,67], [68, 72, 89], [12, 98, 96]]\n",
    "students = ['Amy', 'Beck', 'Charlie', 'Daisy', 'Emma']\n",
    "subjects = ['Math', 'English', 'Science']\n",
    "\n",
    "df = pd.DataFrame(data, index=students, columns=subjects)\n",
    "print(df)"
   ]
  },
  {
   "cell_type": "code",
   "execution_count": 25,
   "metadata": {},
   "outputs": [
    {
     "name": "stdout",
     "output_type": "stream",
     "text": [
      "         Math  English  Science\n",
      "Amy       100      100      120\n",
      "Beck       56       45       50\n",
      "Charlie    67       67       67\n",
      "Daisy      68       72       89\n",
      "Emma       12       98       96\n",
      "         Math  English  Science\n",
      "Amy        90       90       90\n",
      "Beck       56       45       50\n",
      "Charlie    67       67       67\n",
      "Daisy      68       72       89\n",
      "Emma       12       98       96\n"
     ]
    }
   ],
   "source": [
    "# Modify by Row\n",
    "df.loc['Amy']=[100, 100, 120]\n",
    "print(df)\n",
    "\n",
    "# Modify all columns of row 0\n",
    "df.iloc[0, :] = [90, 90, 90]\n",
    "print(df)"
   ]
  },
  {
   "cell_type": "code",
   "execution_count": 26,
   "metadata": {},
   "outputs": [
    {
     "name": "stdout",
     "output_type": "stream",
     "text": [
      "         Math  English  Science\n",
      "Amy       100       90       90\n",
      "Beck      100       45       50\n",
      "Charlie   100       67       67\n",
      "Daisy     100       72       89\n",
      "Emma      100       98       96\n",
      "         Math  English  Science\n",
      "Amy        90       90       90\n",
      "Beck       90       45       50\n",
      "Charlie    90       67       67\n",
      "Daisy      90       72       89\n",
      "Emma       90       98       96\n"
     ]
    }
   ],
   "source": [
    "# Modify by Column\n",
    "df.loc[:,'Math']=[100, 100, 100, 100, 100]\n",
    "print(df)\n",
    "\n",
    "df.iloc[:, 0] = 90\n",
    "print(df)"
   ]
  },
  {
   "cell_type": "code",
   "execution_count": 27,
   "metadata": {},
   "outputs": [
    {
     "name": "stdout",
     "output_type": "stream",
     "text": [
      "         Math  English  Science\n",
      "Amy        90       90       90\n",
      "Beck       90      100       50\n",
      "Charlie    90       67       67\n",
      "Daisy      90       72       89\n",
      "Emma       90       98       96\n",
      "         Math  English  Science\n",
      "Amy        90       90       90\n",
      "Beck       90      180       50\n",
      "Charlie    90       67       67\n",
      "Daisy      90       72       89\n",
      "Emma       90       98       96\n"
     ]
    }
   ],
   "source": [
    "# Modify by specific one \n",
    "df.loc['Beck', 'English'] = 100\n",
    "print(df)\n",
    "\n",
    "df.iloc[1,1] = 180\n",
    "print(df)"
   ]
  },
  {
   "cell_type": "markdown",
   "metadata": {},
   "source": [
    "#### Deletion"
   ]
  },
  {
   "cell_type": "code",
   "execution_count": 51,
   "metadata": {},
   "outputs": [
    {
     "name": "stdout",
     "output_type": "stream",
     "text": [
      "         Math  English  Science\n",
      "Amy        45       60      100\n",
      "Beck       56       45       50\n",
      "Charlie    67       67       67\n",
      "Daisy      68       72       89\n",
      "Emma       12       98       96\n"
     ]
    }
   ],
   "source": [
    "import pandas as pd\n",
    "data = [[45, 60, 100], [56,45,50], [67, 67,67], [68, 72, 89], [12, 98, 96]]\n",
    "students = ['Amy', 'Beck', 'Charlie', 'Daisy', 'Emma']\n",
    "subjects = ['Math', 'English', 'Science']\n",
    "\n",
    "df = pd.DataFrame(data, index=students, columns=subjects)\n",
    "print(df)\n",
    "\n"
   ]
  },
  {
   "cell_type": "code",
   "execution_count": 29,
   "metadata": {},
   "outputs": [
    {
     "name": "stdout",
     "output_type": "stream",
     "text": [
      "         English  Science\n",
      "Amy           60      100\n",
      "Beck          45       50\n",
      "Charlie       67       67\n",
      "Daisy         72       89\n",
      "Emma          98       96\n"
     ]
    }
   ],
   "source": [
    "# Delete by column\n",
    "\n",
    "# method: drop()\n",
    "# df.drop(['Math'], axis=1, inplace=True)\n",
    "# df.drop(columns='Math', inplace=True)\n",
    "df.drop(labels='Math', axis=1, inplace=True)     # These three line of code will get the same result\n",
    "print(df)"
   ]
  },
  {
   "cell_type": "code",
   "execution_count": 30,
   "metadata": {},
   "outputs": [
    {
     "name": "stdout",
     "output_type": "stream",
     "text": [
      "         English  Science\n",
      "Beck          45       50\n",
      "Charlie       67       67\n",
      "Daisy         72       89\n",
      "Emma          98       96\n"
     ]
    }
   ],
   "source": [
    "# Delete by Row \n",
    "# df.drop(['Amy'], axis = 0, inplace = True)\n",
    "# df.drop(index='Amy', inplace=True)\n",
    "df.drop(labels='Amy', axis=0, inplace=True) \n",
    "print(df)"
   ]
  },
  {
   "cell_type": "code",
   "execution_count": 52,
   "metadata": {},
   "outputs": [
    {
     "name": "stdout",
     "output_type": "stream",
     "text": [
      "         Math  English  Science\n",
      "Amy        45       60      100\n",
      "Charlie    67       67       67\n",
      "Daisy      68       72       89\n",
      "Emma       12       98       96\n"
     ]
    }
   ],
   "source": [
    "# Delete by condition:\n",
    "# Drop rows where 'English' column is less than 60\n",
    "df.drop(df[df['English'] < 60].index, inplace=True)\n",
    "\n",
    "print(df)"
   ]
  },
  {
   "cell_type": "code",
   "execution_count": 58,
   "metadata": {},
   "outputs": [
    {
     "name": "stdout",
     "output_type": "stream",
     "text": [
      "['Amy', 'Emma']\n"
     ]
    }
   ],
   "source": [
    "print(list(df[df['Math']<60].index))"
   ]
  }
 ],
 "metadata": {
  "kernelspec": {
   "display_name": "venv",
   "language": "python",
   "name": "python3"
  },
  "language_info": {
   "codemirror_mode": {
    "name": "ipython",
    "version": 3
   },
   "file_extension": ".py",
   "mimetype": "text/x-python",
   "name": "python",
   "nbconvert_exporter": "python",
   "pygments_lexer": "ipython3",
   "version": "3.9.13"
  }
 },
 "nbformat": 4,
 "nbformat_minor": 2
}
