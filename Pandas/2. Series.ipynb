{
 "cells": [
  {
   "cell_type": "code",
   "execution_count": 1,
   "metadata": {},
   "outputs": [
    {
     "name": "stdout",
     "output_type": "stream",
     "text": [
      "1        Sirius Black\n",
      "2    Albus Dumbledore\n",
      "3    Hermione Granger\n",
      "4              Hannah\n",
      "5        Draco Malfoy\n",
      "6        Harry Potter\n",
      "7       Severus Snape\n",
      "8      Lord Voldemort\n",
      "9         Ron Weasley\n",
      "dtype: object\n",
      "<class 'pandas.core.series.Series'>\n"
     ]
    }
   ],
   "source": [
    "import pandas as pd\n",
    "data = ['Sirius Black', 'Albus Dumbledore',  'Hermione Granger', 'Hannah', 'Draco Malfoy', 'Harry Potter', 'Severus Snape','Lord Voldemort', 'Ron Weasley']\n",
    "\n",
    "s1 = pd.Series(data=data, index=range(1,10))\n",
    "print(s1)\n",
    "print(type(s1))"
   ]
  },
  {
   "cell_type": "code",
   "execution_count": 2,
   "metadata": {},
   "outputs": [
    {
     "name": "stdout",
     "output_type": "stream",
     "text": [
      "Math       90\n",
      "English    98\n",
      "Science    87\n",
      "dtype: int64\n"
     ]
    }
   ],
   "source": [
    "import pandas as pd\n",
    "data = [90, 98, 87]\n",
    "index = ['Math', 'English', 'Science']\n",
    "s2 = pd.Series(data, index=index)\n",
    "print(s2)"
   ]
  },
  {
   "cell_type": "code",
   "execution_count": 3,
   "metadata": {},
   "outputs": [
    {
     "name": "stdout",
     "output_type": "stream",
     "text": [
      "Sirius Black\n",
      "2    Albus Dumbledore\n",
      "3    Hermione Granger\n",
      "dtype: object\n",
      "90\n",
      "Math       90\n",
      "English    98\n",
      "dtype: int64\n"
     ]
    }
   ],
   "source": [
    "print(s1[1])\n",
    "print(s1[1:3])\n",
    "\n",
    "\n",
    "print(s2['Math'])\n",
    "print(s2[['Math', 'English']])"
   ]
  },
  {
   "cell_type": "code",
   "execution_count": 4,
   "metadata": {},
   "outputs": [
    {
     "name": "stdout",
     "output_type": "stream",
     "text": [
      "RangeIndex(start=1, stop=10, step=1)\n",
      "Index(['Math', 'English', 'Science'], dtype='object')\n",
      "--------------------\n",
      "RangeIndex(start=1, stop=10, step=1)\n",
      "[1, 2, 3, 4, 5, 6, 7, 8, 9]\n",
      "['Math', 'English', 'Science']\n",
      "--------------------\n",
      "['Sirius Black' 'Albus Dumbledore' 'Hermione Granger' 'Hannah'\n",
      " 'Draco Malfoy' 'Harry Potter' 'Severus Snape' 'Lord Voldemort'\n",
      " 'Ron Weasley']\n",
      "<class 'numpy.ndarray'>\n",
      "[90 98 87]\n",
      "<class 'numpy.ndarray'>\n"
     ]
    }
   ],
   "source": [
    "print(s1.keys())\n",
    "print(s2.keys())\n",
    "\n",
    "print('-'*20)\n",
    "print(s1.index)\n",
    "print(list(s1.index))\n",
    "print(list(s2.index))\n",
    "\n",
    "print('-'*20)\n",
    "print(s1.values)\n",
    "print(type(s1.values))\n",
    "print(s2.values)\n",
    "print(type(s2.values))"
   ]
  },
  {
   "cell_type": "code",
   "execution_count": 5,
   "metadata": {},
   "outputs": [
    {
     "name": "stdout",
     "output_type": "stream",
     "text": [
      "0    Sirius Black\n",
      "dtype: object\n"
     ]
    }
   ],
   "source": [
    "import pandas as pd\n",
    "data = ['Sirius Black', 'Albus Dumbledore',  'Hermione Granger', 'Hannah', 'Draco Malfoy', 'Harry Potter', 'Severus Snape','Lord Voldemort', 'Ron Weasley']\n",
    "\n",
    "s3 = pd.Series(data=data)\n",
    "\n",
    "print(s3[0:2:3])  # 位置索引切片 ‘含头不含尾’"
   ]
  },
  {
   "cell_type": "code",
   "execution_count": 6,
   "metadata": {},
   "outputs": [
    {
     "name": "stdout",
     "output_type": "stream",
     "text": [
      "Math       90\n",
      "English    98\n",
      "Science    87\n",
      "dtype: int64\n"
     ]
    }
   ],
   "source": [
    "print(s2['Math':'Science'])  # 使用标签作为索引的时候 切片会‘含头含尾’"
   ]
  }
 ],
 "metadata": {
  "kernelspec": {
   "display_name": "venv",
   "language": "python",
   "name": "python3"
  },
  "language_info": {
   "codemirror_mode": {
    "name": "ipython",
    "version": 3
   },
   "file_extension": ".py",
   "mimetype": "text/x-python",
   "name": "python",
   "nbconvert_exporter": "python",
   "pygments_lexer": "ipython3",
   "version": "3.9.13"
  }
 },
 "nbformat": 4,
 "nbformat_minor": 2
}
