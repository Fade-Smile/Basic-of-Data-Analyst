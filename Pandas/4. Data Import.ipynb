{
 "cells": [
  {
   "cell_type": "markdown",
   "metadata": {},
   "source": [
    "### Import Excel Document"
   ]
  },
  {
   "cell_type": "code",
   "execution_count": 6,
   "metadata": {},
   "outputs": [
    {
     "name": "stdout",
     "output_type": "stream",
     "text": [
      "    0    1       2\n",
      "0  42  148  77.89%\n",
      "1  41   12   6.32%\n",
      "2  44    6   3.16%\n",
      "3  39    3   1.58%\n",
      "4  43   13   6.84%\n"
     ]
    }
   ],
   "source": [
    "import pandas as pd\n",
    "\n",
    "df = pd.read_excel(\"Data/京东鞋子评论信息.xlsx\", sheet_name='码数分析', header=None, index_col=None)\n",
    "print(df.head())"
   ]
  },
  {
   "cell_type": "code",
   "execution_count": 13,
   "metadata": {},
   "outputs": [
    {
     "name": "stdout",
     "output_type": "stream",
     "text": [
      "    姓名\n",
      "0   刘垒\n",
      "1   于双\n",
      "2   丁宁\n",
      "3  高春艳\n",
      "4   李帅\n"
     ]
    }
   ],
   "source": [
    "import pandas as pd \n",
    "# import single column: 姓名\n",
    "df = pd.read_excel(\"Data/02微机原理学员成绩统计.xlsx\", sheet_name='02微机原理及格学员名单', usecols=[1])\n",
    "# usecols 是一个方便的参数，用于控制读取 Excel 文件时选择的列\n",
    "print(df.head())"
   ]
  },
  {
   "cell_type": "code",
   "execution_count": 15,
   "metadata": {},
   "outputs": [
    {
     "name": "stdout",
     "output_type": "stream",
     "text": [
      "    姓名  总成绩\n",
      "0   刘垒   71\n",
      "1   于双   69\n",
      "2   丁宁   65\n",
      "3  高春艳   67\n",
      "4   李帅   73\n"
     ]
    }
   ],
   "source": [
    "import pandas as pd \n",
    "# import multi-columns: 姓名, 总成绩\n",
    "df = pd.read_excel(\"Data/02微机原理学员成绩统计.xlsx\", sheet_name='02微机原理及格学员名单', usecols=[1, 4])\n",
    "\n",
    "print(df.head())"
   ]
  },
  {
   "cell_type": "code",
   "execution_count": 14,
   "metadata": {},
   "outputs": [
    {
     "name": "stdout",
     "output_type": "stream",
     "text": [
      "    姓名  总成绩\n",
      "0   刘垒   71\n",
      "1   于双   69\n",
      "2   丁宁   65\n",
      "3  高春艳   67\n",
      "4   李帅   73\n"
     ]
    }
   ],
   "source": [
    "import pandas as pd \n",
    "# import multi-columns: 姓名, 总成绩\n",
    "df = pd.read_excel(\"Data/02微机原理学员成绩统计.xlsx\", sheet_name='02微机原理及格学员名单', usecols=['姓名', '总成绩'])\n",
    "\n",
    "print(df.head())"
   ]
  },
  {
   "cell_type": "markdown",
   "metadata": {},
   "source": [
    "### Import CSV file"
   ]
  },
  {
   "cell_type": "code",
   "execution_count": 18,
   "metadata": {},
   "outputs": [
    {
     "name": "stdout",
     "output_type": "stream",
     "text": [
      "                               评论                   时间  颜色    尺码  Unnamed: 4\n",
      "0                  外观颜值：很不错，颜值很高。  2020-05-14 14:32:58  黑色  41.0         NaN\n",
      "1                   外观颜值：简约时尚，颜值高  2020-05-11 12:40:34  黑色  41.0         NaN\n",
      "2                  舒适度：很好，很轻便，不挤脚  2020-04-25 13:41:45  黑色  41.0         NaN\n",
      "3   总体来说不错，就是刚打开的时候味道有点呛，通风过之后就没了  2020-04-28 15:38:31  黑色  41.0         NaN\n",
      "4  鞋子样式不错，就是鞋底太硬了&hellip;&hellip;  2020-04-09 14:06:30  灰色  41.0         NaN\n"
     ]
    }
   ],
   "source": [
    "import pandas as pd\n",
    "\n",
    "df = pd.read_csv('Data/京东鞋子评论数据.csv', sep=',', encoding='gbk')\n",
    "print(df.head())"
   ]
  },
  {
   "cell_type": "markdown",
   "metadata": {},
   "source": [
    "### import txt file"
   ]
  },
  {
   "cell_type": "code",
   "execution_count": 20,
   "metadata": {},
   "outputs": [
    {
     "name": "stdout",
     "output_type": "stream",
     "text": [
      "     0    1  2          3\n",
      "0  196  242  3  881250949\n",
      "1  186  302  3  891717742\n",
      "2   22  377  1  878887116\n",
      "3  244   51  2  880606923\n",
      "4  166  346  1  886397596\n"
     ]
    }
   ],
   "source": [
    "import pandas as pd\n",
    "\n",
    "df = pd.read_csv('Data/rating.txt', sep='\\t', encoding='utf-8', header=None)\n",
    "print(df.head())"
   ]
  },
  {
   "cell_type": "markdown",
   "metadata": {},
   "source": [
    "### import HTML data "
   ]
  },
  {
   "cell_type": "code",
   "execution_count": 22,
   "metadata": {},
   "outputs": [
    {
     "name": "stdout",
     "output_type": "stream",
     "text": [
      "[     产品名称  销售员   数量  标准单价   成交金额\n",
      "0    无线网卡   王丽   10   178   1780\n",
      "1    无线网卡  李桂林   30   178   5340\n",
      "2      鼠标   李欢    6   299   1794\n",
      "3      鼠标   李欢   15   299   4485\n",
      "4      鼠标  李桂林   16   299   4784\n",
      "5      鼠标   王双   52   299  15548\n",
      "6      鼠标  李桂林   77   299  23023\n",
      "7     手写板  华国华   14   190   2660\n",
      "8     手写板   王丽   43   190   8170\n",
      "9     麦克风   王丽    4    99    396\n",
      "10    麦克风   王丽   10    99    990\n",
      "11    麦克风  华国华   47    99   4653\n",
      "12    麦克风  李桂林   55    99   5445\n",
      "13    麦克风   李欢   62    99   6138\n",
      "14  蓝牙适配器  李桂林   18   108   1944\n",
      "15  蓝牙适配器  李桂林   39   108   4212\n",
      "16  蓝牙适配器   王丽   51   108   5508\n",
      "17  蓝牙适配器  李桂林   58   108   6264\n",
      "18  蓝牙适配器  李桂林   61   108   6588\n",
      "19  蓝牙适配器   李欢   95   108  10260\n",
      "20     键盘  华国华   20   180   3600\n",
      "21     键盘   王丽  120   180  21600\n",
      "22  SD存储卡   李欢    9   290   2610\n",
      "23  SD存储卡  李桂林   15   290   4350\n",
      "24  SD存储卡  李桂林   20   290   5800\n",
      "25  DVD光驱   王丽   30   240   7200\n",
      "26  DVD光驱   王丽   32   240   7680\n",
      "27  DVD光驱  华国华   40   240   9600\n",
      "28  DVD光驱  华国华   48   240  11520]\n"
     ]
    }
   ],
   "source": [
    "import pandas as pd \n",
    "\n",
    "df = pd.read_html('Data/电脑配件销售记录.html', encoding='gbk')\n",
    "print(df)"
   ]
  },
  {
   "cell_type": "code",
   "execution_count": 28,
   "metadata": {},
   "outputs": [
    {
     "name": "stdout",
     "output_type": "stream",
     "text": [
      "    RK                         NAME                    TEAM       SALARY\n",
      "0    1            Stephen Curry, PG   Golden State Warriors  $51,915,615\n",
      "1    2             Kevin Durant, PF            Phoenix Suns  $47,649,433\n",
      "2    3             LeBron James, SF      Los Angeles Lakers  $47,607,350\n",
      "3    4              Nikola Jokic, C          Denver Nuggets  $47,607,350\n",
      "4    5               Joel Embiid, C      Philadelphia 76ers  $46,900,000\n",
      "5    6             Bradley Beal, SG            Phoenix Suns  $46,741,590\n",
      "6    7    Giannis Antetokounmpo, PF         Milwaukee Bucks  $45,640,084\n",
      "7    8           Damian Lillard, PG         Milwaukee Bucks  $45,640,084\n",
      "8    9            Kawhi Leonard, SF             LA Clippers  $45,640,084\n",
      "9   10               Paul George, F             LA Clippers  $45,640,084\n",
      "10  RK                         NAME                    TEAM       SALARY\n",
      "11  11             Jimmy Butler, SF              Miami Heat  $45,183,960\n",
      "12  12            Klay Thompson, SG   Golden State Warriors  $43,219,440\n",
      "13  13               Rudy Gobert, C  Minnesota Timberwolves  $41,000,000\n",
      "14  14            Fred VanVleet, PG         Houston Rockets  $40,806,300\n",
      "15  15            Anthony Davis, PF      Los Angeles Lakers  $40,600,080\n",
      "16  16              Luka Doncic, PG        Dallas Mavericks  $40,064,220\n",
      "17  17              Zach LaVine, SG           Chicago Bulls  $40,064,220\n",
      "18  18               Trae Young, PG           Atlanta Hawks  $40,064,220\n",
      "19  19            Tobias Harris, PF      Philadelphia 76ers  $39,270,150\n",
      "20  20              Ben Simmons, PG           Brooklyn Nets  $37,893,408\n",
      "21  RK                         NAME                    TEAM       SALARY\n",
      "22  21            Pascal Siakam, PF         Toronto Raptors  $37,893,408\n",
      "23  22             Kyrie Irving, PG        Dallas Mavericks  $37,037,037\n",
      "24  23             Jrue Holiday, PG          Boston Celtics  $36,861,707\n",
      "25  24             Devin Booker, SG            Phoenix Suns  $36,016,200\n",
      "26  25        Karl-Anthony Towns, C  Minnesota Timberwolves  $36,016,200\n",
      "27  26        Kristaps Porzingis, C          Boston Celtics  $36,016,200\n",
      "28  27              CJ McCollum, SG    New Orleans Pelicans  $35,802,469\n",
      "29  28             James Harden, SG             LA Clippers  $35,640,000\n",
      "30  29                Ja Morant, PG       Memphis Grizzlies  $34,005,250\n",
      "31  30           Darius Garland, PG     Cleveland Cavaliers  $34,005,250\n",
      "32  RK                         NAME                    TEAM       SALARY\n",
      "33  31          Zion Williamson, PF    New Orleans Pelicans  $34,005,250\n",
      "34  32             Jamal Murray, PG          Denver Nuggets  $33,833,400\n",
      "35  33           Brandon Ingram, SF    New Orleans Pelicans  $33,833,400\n",
      "36  34  Shai Gilgeous-Alexander, PG   Oklahoma City Thunder  $33,386,850\n",
      "37  35       Michael Porter Jr., SF          Denver Nuggets  $33,386,850\n",
      "38  36         Donovan Mitchell, SG     Cleveland Cavaliers  $33,162,030\n",
      "39  37             De'Aaron Fox, PG        Sacramento Kings  $32,600,060\n",
      "40  38               Bam Adebayo, C              Miami Heat  $32,600,060\n",
      "41  39             Jayson Tatum, SF          Boston Celtics  $32,600,060\n",
      "42  40             Deandre Ayton, C  Portland Trail Blazers  $32,459,438\n"
     ]
    }
   ],
   "source": [
    "import pandas as pd\n",
    "\n",
    "url = 'https://www.espn.com/nba/salaries'\n",
    "# 通过read_html读取HTML表格，选择第一个表格（如果有多个表格）\n",
    "df = pd.read_html(url, header=0)[0]\n",
    "\n",
    "# 打印 DataFrame\n",
    "print(df)\n",
    "\n",
    "# 保存成csv文件\n",
    "df.to_csv('data/nba_salaries.csv', index=False)\n"
   ]
  }
 ],
 "metadata": {
  "kernelspec": {
   "display_name": "venv",
   "language": "python",
   "name": "python3"
  },
  "language_info": {
   "codemirror_mode": {
    "name": "ipython",
    "version": 3
   },
   "file_extension": ".py",
   "mimetype": "text/x-python",
   "name": "python",
   "nbconvert_exporter": "python",
   "pygments_lexer": "ipython3",
   "version": "3.9.13"
  }
 },
 "nbformat": 4,
 "nbformat_minor": 2
}
