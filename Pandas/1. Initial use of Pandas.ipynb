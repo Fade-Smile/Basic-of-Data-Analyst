{
 "cells": [
  {
   "cell_type": "markdown",
   "metadata": {},
   "source": [
    "### Pandas 的初步使用"
   ]
  },
  {
   "cell_type": "code",
   "execution_count": 1,
   "metadata": {},
   "outputs": [
    {
     "name": "stdout",
     "output_type": "stream",
     "text": [
      "   场次     时间      A队      B队         场地\n",
      "0   1  44449    北京国安      天津     苏州奥体中心\n",
      "1   2  44449    上海上港  青岛黄海青港  苏州体育中心体育场\n",
      "2   3  44450    重庆当代  河北华夏幸福  昆山体育中心体育场\n",
      "3   4  44454   石家庄永昌    武汉卓尔  苏州体育中心体育场\n",
      "4   5  44455  河北华夏幸福    北京国安  苏州体育中心体育场\n",
      "5   6  44456    天津泰达   石家庄永昌  昆山体育中心体育场\n"
     ]
    }
   ],
   "source": [
    "import pandas as pd\n",
    "\n",
    "df = pd.read_excel('Data/中超赛事表.xlsx')\n",
    "print(df)"
   ]
  }
 ],
 "metadata": {
  "kernelspec": {
   "display_name": "venv",
   "language": "python",
   "name": "python3"
  },
  "language_info": {
   "codemirror_mode": {
    "name": "ipython",
    "version": 3
   },
   "file_extension": ".py",
   "mimetype": "text/x-python",
   "name": "python",
   "nbconvert_exporter": "python",
   "pygments_lexer": "ipython3",
   "version": "3.9.13"
  }
 },
 "nbformat": 4,
 "nbformat_minor": 2
}
