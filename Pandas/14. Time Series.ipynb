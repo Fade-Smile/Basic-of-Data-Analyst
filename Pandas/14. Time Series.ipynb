{
 "cells": [
  {
   "cell_type": "markdown",
   "metadata": {},
   "source": [
    "###  date_range方法的使用"
   ]
  },
  {
   "cell_type": "code",
   "execution_count": 2,
   "metadata": {},
   "outputs": [
    {
     "data": {
      "text/plain": [
       "DatetimeIndex(['2021-01-03', '2021-01-10', '2021-01-17', '2021-01-24',\n",
       "               '2021-01-31', '2021-02-07', '2021-02-14', '2021-02-21',\n",
       "               '2021-02-28', '2021-03-07'],\n",
       "              dtype='datetime64[ns]', freq='W-SUN')"
      ]
     },
     "execution_count": 2,
     "metadata": {},
     "output_type": "execute_result"
    }
   ],
   "source": [
    "import pandas as pd\n",
    "\n",
    "pd.date_range('2021-1-1', periods=10, freq='W')"
   ]
  },
  {
   "cell_type": "markdown",
   "metadata": {},
   "source": [
    "### resample方法的使用"
   ]
  },
  {
   "cell_type": "code",
   "execution_count": 6,
   "metadata": {},
   "outputs": [
    {
     "name": "stdout",
     "output_type": "stream",
     "text": [
      "2021-01-01 00:00:00    0\n",
      "2021-01-01 00:01:00    1\n",
      "2021-01-01 00:02:00    2\n",
      "2021-01-01 00:03:00    3\n",
      "2021-01-01 00:04:00    4\n",
      "2021-01-01 00:05:00    5\n",
      "2021-01-01 00:06:00    6\n",
      "2021-01-01 00:07:00    7\n",
      "2021-01-01 00:08:00    8\n",
      "Freq: min, dtype: int64\n"
     ]
    },
    {
     "data": {
      "text/plain": [
       "2021-01-01 00:00:00     3\n",
       "2021-01-01 00:03:00    12\n",
       "2021-01-01 00:06:00    21\n",
       "Freq: 3min, dtype: int64"
      ]
     },
     "execution_count": 6,
     "metadata": {},
     "output_type": "execute_result"
    }
   ],
   "source": [
    "# 将1分钟的时间序列转换成3分钟\n",
    "import pandas as pd\n",
    "index = pd.date_range('2021-1-1', periods=9, freq='min')\n",
    "# 这代码创建了一个包含9个日期时间索引的 DatetimeIndex 对象，起始日期为 '2021-01-01'，\n",
    "# 以分钟为频率。每个日期时间点之间相差一分钟。\n",
    "\n",
    "s = pd.Series(range(9), index=index)\n",
    "print(s)\n",
    "\n",
    "s.resample('3min').sum()\n",
    "\n"
   ]
  },
  {
   "cell_type": "markdown",
   "metadata": {},
   "source": [
    "### 降采样处理"
   ]
  },
  {
   "cell_type": "code",
   "execution_count": 14,
   "metadata": {},
   "outputs": [
    {
     "data": {
      "text/html": [
       "<div>\n",
       "<style scoped>\n",
       "    .dataframe tbody tr th:only-of-type {\n",
       "        vertical-align: middle;\n",
       "    }\n",
       "\n",
       "    .dataframe tbody tr th {\n",
       "        vertical-align: top;\n",
       "    }\n",
       "\n",
       "    .dataframe thead th {\n",
       "        text-align: right;\n",
       "    }\n",
       "</style>\n",
       "<table border=\"1\" class=\"dataframe\">\n",
       "  <thead>\n",
       "    <tr style=\"text-align: right;\">\n",
       "      <th></th>\n",
       "      <th>实际支付金额</th>\n",
       "    </tr>\n",
       "    <tr>\n",
       "      <th>订单付款时间</th>\n",
       "      <th></th>\n",
       "    </tr>\n",
       "  </thead>\n",
       "  <tbody>\n",
       "    <tr>\n",
       "      <th>2020-05-10</th>\n",
       "      <td>14480</td>\n",
       "    </tr>\n",
       "    <tr>\n",
       "      <th>2020-05-17</th>\n",
       "      <td>26340</td>\n",
       "    </tr>\n",
       "    <tr>\n",
       "      <th>2020-05-24</th>\n",
       "      <td>8880</td>\n",
       "    </tr>\n",
       "    <tr>\n",
       "      <th>2020-05-31</th>\n",
       "      <td>11860</td>\n",
       "    </tr>\n",
       "    <tr>\n",
       "      <th>2020-06-07</th>\n",
       "      <td>30940</td>\n",
       "    </tr>\n",
       "    <tr>\n",
       "      <th>2020-06-14</th>\n",
       "      <td>55900</td>\n",
       "    </tr>\n",
       "    <tr>\n",
       "      <th>2020-06-21</th>\n",
       "      <td>30960</td>\n",
       "    </tr>\n",
       "    <tr>\n",
       "      <th>2020-06-28</th>\n",
       "      <td>0</td>\n",
       "    </tr>\n",
       "    <tr>\n",
       "      <th>2020-07-05</th>\n",
       "      <td>0</td>\n",
       "    </tr>\n",
       "    <tr>\n",
       "      <th>2020-07-12</th>\n",
       "      <td>24960</td>\n",
       "    </tr>\n",
       "    <tr>\n",
       "      <th>2020-07-19</th>\n",
       "      <td>15480</td>\n",
       "    </tr>\n",
       "    <tr>\n",
       "      <th>2020-07-26</th>\n",
       "      <td>14480</td>\n",
       "    </tr>\n",
       "    <tr>\n",
       "      <th>2020-08-02</th>\n",
       "      <td>0</td>\n",
       "    </tr>\n",
       "    <tr>\n",
       "      <th>2020-08-09</th>\n",
       "      <td>26960</td>\n",
       "    </tr>\n",
       "    <tr>\n",
       "      <th>2020-08-16</th>\n",
       "      <td>18460</td>\n",
       "    </tr>\n",
       "    <tr>\n",
       "      <th>2020-08-23</th>\n",
       "      <td>26960</td>\n",
       "    </tr>\n",
       "    <tr>\n",
       "      <th>2020-08-30</th>\n",
       "      <td>0</td>\n",
       "    </tr>\n",
       "    <tr>\n",
       "      <th>2020-09-06</th>\n",
       "      <td>28960</td>\n",
       "    </tr>\n",
       "    <tr>\n",
       "      <th>2020-09-13</th>\n",
       "      <td>26960</td>\n",
       "    </tr>\n",
       "    <tr>\n",
       "      <th>2020-09-20</th>\n",
       "      <td>70700</td>\n",
       "    </tr>\n",
       "    <tr>\n",
       "      <th>2020-09-27</th>\n",
       "      <td>12780</td>\n",
       "    </tr>\n",
       "    <tr>\n",
       "      <th>2020-10-04</th>\n",
       "      <td>29960</td>\n",
       "    </tr>\n",
       "    <tr>\n",
       "      <th>2020-10-11</th>\n",
       "      <td>31940</td>\n",
       "    </tr>\n",
       "    <tr>\n",
       "      <th>2020-10-18</th>\n",
       "      <td>57900</td>\n",
       "    </tr>\n",
       "    <tr>\n",
       "      <th>2020-10-25</th>\n",
       "      <td>2980</td>\n",
       "    </tr>\n",
       "  </tbody>\n",
       "</table>\n",
       "</div>"
      ],
      "text/plain": [
       "            实际支付金额\n",
       "订单付款时间            \n",
       "2020-05-10   14480\n",
       "2020-05-17   26340\n",
       "2020-05-24    8880\n",
       "2020-05-31   11860\n",
       "2020-06-07   30940\n",
       "2020-06-14   55900\n",
       "2020-06-21   30960\n",
       "2020-06-28       0\n",
       "2020-07-05       0\n",
       "2020-07-12   24960\n",
       "2020-07-19   15480\n",
       "2020-07-26   14480\n",
       "2020-08-02       0\n",
       "2020-08-09   26960\n",
       "2020-08-16   18460\n",
       "2020-08-23   26960\n",
       "2020-08-30       0\n",
       "2020-09-06   28960\n",
       "2020-09-13   26960\n",
       "2020-09-20   70700\n",
       "2020-09-27   12780\n",
       "2020-10-04   29960\n",
       "2020-10-11   31940\n",
       "2020-10-18   57900\n",
       "2020-10-25    2980"
      ]
     },
     "execution_count": 14,
     "metadata": {},
     "output_type": "execute_result"
    }
   ],
   "source": [
    "import pandas as pd\n",
    "\n",
    "df = pd.read_excel('data/msb课程销售记录.xlsx')\n",
    "df = df[['订单付款时间', '实际支付金额']]\n",
    "df = df.set_index('订单付款时间')\n",
    "\n",
    "df.resample('W').sum()"
   ]
  },
  {
   "cell_type": "code",
   "execution_count": 15,
   "metadata": {},
   "outputs": [
    {
     "data": {
      "text/html": [
       "<div>\n",
       "<style scoped>\n",
       "    .dataframe tbody tr th:only-of-type {\n",
       "        vertical-align: middle;\n",
       "    }\n",
       "\n",
       "    .dataframe tbody tr th {\n",
       "        vertical-align: top;\n",
       "    }\n",
       "\n",
       "    .dataframe thead th {\n",
       "        text-align: right;\n",
       "    }\n",
       "</style>\n",
       "<table border=\"1\" class=\"dataframe\">\n",
       "  <thead>\n",
       "    <tr style=\"text-align: right;\">\n",
       "      <th></th>\n",
       "      <th>实际支付金额</th>\n",
       "    </tr>\n",
       "    <tr>\n",
       "      <th>订单付款时间</th>\n",
       "      <th></th>\n",
       "    </tr>\n",
       "  </thead>\n",
       "  <tbody>\n",
       "    <tr>\n",
       "      <th>2020-05-10</th>\n",
       "      <td>14480</td>\n",
       "    </tr>\n",
       "    <tr>\n",
       "      <th>2020-05-17</th>\n",
       "      <td>26340</td>\n",
       "    </tr>\n",
       "    <tr>\n",
       "      <th>2020-05-24</th>\n",
       "      <td>0</td>\n",
       "    </tr>\n",
       "    <tr>\n",
       "      <th>2020-05-31</th>\n",
       "      <td>20740</td>\n",
       "    </tr>\n",
       "    <tr>\n",
       "      <th>2020-06-07</th>\n",
       "      <td>30940</td>\n",
       "    </tr>\n",
       "    <tr>\n",
       "      <th>2020-06-14</th>\n",
       "      <td>55900</td>\n",
       "    </tr>\n",
       "    <tr>\n",
       "      <th>2020-06-21</th>\n",
       "      <td>0</td>\n",
       "    </tr>\n",
       "    <tr>\n",
       "      <th>2020-06-28</th>\n",
       "      <td>30960</td>\n",
       "    </tr>\n",
       "    <tr>\n",
       "      <th>2020-07-05</th>\n",
       "      <td>0</td>\n",
       "    </tr>\n",
       "    <tr>\n",
       "      <th>2020-07-12</th>\n",
       "      <td>24960</td>\n",
       "    </tr>\n",
       "    <tr>\n",
       "      <th>2020-07-19</th>\n",
       "      <td>15480</td>\n",
       "    </tr>\n",
       "    <tr>\n",
       "      <th>2020-07-26</th>\n",
       "      <td>14480</td>\n",
       "    </tr>\n",
       "    <tr>\n",
       "      <th>2020-08-02</th>\n",
       "      <td>0</td>\n",
       "    </tr>\n",
       "    <tr>\n",
       "      <th>2020-08-09</th>\n",
       "      <td>0</td>\n",
       "    </tr>\n",
       "    <tr>\n",
       "      <th>2020-08-16</th>\n",
       "      <td>45420</td>\n",
       "    </tr>\n",
       "    <tr>\n",
       "      <th>2020-08-23</th>\n",
       "      <td>14480</td>\n",
       "    </tr>\n",
       "    <tr>\n",
       "      <th>2020-08-30</th>\n",
       "      <td>12480</td>\n",
       "    </tr>\n",
       "    <tr>\n",
       "      <th>2020-09-06</th>\n",
       "      <td>0</td>\n",
       "    </tr>\n",
       "    <tr>\n",
       "      <th>2020-09-13</th>\n",
       "      <td>55920</td>\n",
       "    </tr>\n",
       "    <tr>\n",
       "      <th>2020-09-20</th>\n",
       "      <td>70700</td>\n",
       "    </tr>\n",
       "    <tr>\n",
       "      <th>2020-09-27</th>\n",
       "      <td>12780</td>\n",
       "    </tr>\n",
       "    <tr>\n",
       "      <th>2020-10-04</th>\n",
       "      <td>29960</td>\n",
       "    </tr>\n",
       "    <tr>\n",
       "      <th>2020-10-11</th>\n",
       "      <td>14480</td>\n",
       "    </tr>\n",
       "    <tr>\n",
       "      <th>2020-10-18</th>\n",
       "      <td>56900</td>\n",
       "    </tr>\n",
       "    <tr>\n",
       "      <th>2020-10-25</th>\n",
       "      <td>18460</td>\n",
       "    </tr>\n",
       "    <tr>\n",
       "      <th>2020-11-01</th>\n",
       "      <td>2980</td>\n",
       "    </tr>\n",
       "  </tbody>\n",
       "</table>\n",
       "</div>"
      ],
      "text/plain": [
       "            实际支付金额\n",
       "订单付款时间            \n",
       "2020-05-10   14480\n",
       "2020-05-17   26340\n",
       "2020-05-24       0\n",
       "2020-05-31   20740\n",
       "2020-06-07   30940\n",
       "2020-06-14   55900\n",
       "2020-06-21       0\n",
       "2020-06-28   30960\n",
       "2020-07-05       0\n",
       "2020-07-12   24960\n",
       "2020-07-19   15480\n",
       "2020-07-26   14480\n",
       "2020-08-02       0\n",
       "2020-08-09       0\n",
       "2020-08-16   45420\n",
       "2020-08-23   14480\n",
       "2020-08-30   12480\n",
       "2020-09-06       0\n",
       "2020-09-13   55920\n",
       "2020-09-20   70700\n",
       "2020-09-27   12780\n",
       "2020-10-04   29960\n",
       "2020-10-11   14480\n",
       "2020-10-18   56900\n",
       "2020-10-25   18460\n",
       "2020-11-01    2980"
      ]
     },
     "execution_count": 15,
     "metadata": {},
     "output_type": "execute_result"
    }
   ],
   "source": [
    "import pandas as pd\n",
    "\n",
    "df = pd.read_excel('data/msb课程销售记录.xlsx')\n",
    "df = df[['订单付款时间', '实际支付金额']]\n",
    "df = df.set_index('订单付款时间')\n",
    "\n",
    "df.resample('W', closed='left').sum()"
   ]
  },
  {
   "cell_type": "markdown",
   "metadata": {},
   "source": [
    "###  升采样处理"
   ]
  },
  {
   "cell_type": "code",
   "execution_count": 21,
   "metadata": {},
   "outputs": [
    {
     "name": "stdout",
     "output_type": "stream",
     "text": [
      "2020-01-01    1\n",
      "2020-01-02    2\n",
      "Freq: D, dtype: int64\n",
      "2020-01-01 00:00:00    1.0\n",
      "2020-01-01 06:00:00    NaN\n",
      "2020-01-01 12:00:00    NaN\n",
      "2020-01-01 18:00:00    NaN\n",
      "2020-01-02 00:00:00    2.0\n",
      "Freq: 6h, dtype: float64\n"
     ]
    },
    {
     "data": {
      "text/plain": [
       "2020-01-01 00:00:00    1\n",
       "2020-01-01 06:00:00    2\n",
       "2020-01-01 12:00:00    2\n",
       "2020-01-01 18:00:00    2\n",
       "2020-01-02 00:00:00    2\n",
       "Freq: 6h, dtype: int64"
      ]
     },
     "execution_count": 21,
     "metadata": {},
     "output_type": "execute_result"
    }
   ],
   "source": [
    "import pandas as pd \n",
    "\n",
    "index = pd.date_range('2020-1-1', periods=2)\n",
    "s = pd.Series(range(1,3), index=index)\n",
    "print(s)\n",
    "\n",
    "print(s.resample('6h').asfreq())   # asfreq() 是一个用于将时间序列对象按照指定频率重采样的方法。\n",
    "\n",
    "# 使用前值填充\n",
    "s.resample('6h').ffill()\n",
    "\n",
    "# 使用后值填充\n",
    "s.resample('6h').bfill()"
   ]
  },
  {
   "cell_type": "markdown",
   "metadata": {},
   "source": [
    "###  时间序列数据汇总"
   ]
  },
  {
   "cell_type": "code",
   "execution_count": 27,
   "metadata": {},
   "outputs": [
    {
     "data": {
      "text/plain": [
       "2020-02-03 00:00:00     0\n",
       "2020-02-03 00:01:00     1\n",
       "2020-02-03 00:02:00     2\n",
       "2020-02-03 00:03:00     3\n",
       "2020-02-03 00:04:00     4\n",
       "2020-02-03 00:05:00     5\n",
       "2020-02-03 00:06:00     6\n",
       "2020-02-03 00:07:00     7\n",
       "2020-02-03 00:08:00     8\n",
       "2020-02-03 00:09:00     9\n",
       "2020-02-03 00:10:00    10\n",
       "2020-02-03 00:11:00    11\n",
       "Freq: min, dtype: int64"
      ]
     },
     "execution_count": 27,
     "metadata": {},
     "output_type": "execute_result"
    }
   ],
   "source": [
    "# ohlc 表示开盘价(Open)、最高价(High)、最低价(Low)、收盘价(Close)\n",
    "\n",
    "import pandas as pd \n",
    "\n",
    "index = pd.date_range('2020-2-3', periods=12, freq='min')\n",
    "s =pd.Series(range(12), index=index)\n",
    "s"
   ]
  },
  {
   "cell_type": "code",
   "execution_count": 26,
   "metadata": {},
   "outputs": [
    {
     "data": {
      "text/html": [
       "<div>\n",
       "<style scoped>\n",
       "    .dataframe tbody tr th:only-of-type {\n",
       "        vertical-align: middle;\n",
       "    }\n",
       "\n",
       "    .dataframe tbody tr th {\n",
       "        vertical-align: top;\n",
       "    }\n",
       "\n",
       "    .dataframe thead th {\n",
       "        text-align: right;\n",
       "    }\n",
       "</style>\n",
       "<table border=\"1\" class=\"dataframe\">\n",
       "  <thead>\n",
       "    <tr style=\"text-align: right;\">\n",
       "      <th></th>\n",
       "      <th>open</th>\n",
       "      <th>high</th>\n",
       "      <th>low</th>\n",
       "      <th>close</th>\n",
       "    </tr>\n",
       "  </thead>\n",
       "  <tbody>\n",
       "    <tr>\n",
       "      <th>2020-02-03 00:00:00</th>\n",
       "      <td>0</td>\n",
       "      <td>4</td>\n",
       "      <td>0</td>\n",
       "      <td>4</td>\n",
       "    </tr>\n",
       "    <tr>\n",
       "      <th>2020-02-03 00:05:00</th>\n",
       "      <td>5</td>\n",
       "      <td>9</td>\n",
       "      <td>5</td>\n",
       "      <td>9</td>\n",
       "    </tr>\n",
       "    <tr>\n",
       "      <th>2020-02-03 00:10:00</th>\n",
       "      <td>10</td>\n",
       "      <td>11</td>\n",
       "      <td>10</td>\n",
       "      <td>11</td>\n",
       "    </tr>\n",
       "  </tbody>\n",
       "</table>\n",
       "</div>"
      ],
      "text/plain": [
       "                     open  high  low  close\n",
       "2020-02-03 00:00:00     0     4    0      4\n",
       "2020-02-03 00:05:00     5     9    5      9\n",
       "2020-02-03 00:10:00    10    11   10     11"
      ]
     },
     "execution_count": 26,
     "metadata": {},
     "output_type": "execute_result"
    }
   ],
   "source": [
    "# ohlc 表示开盘价(Open)、最高价(High)、最低价(Low)、收盘价(Close)\n",
    "\n",
    "import pandas as pd \n",
    "\n",
    "index = pd.date_range('2020-2-3', periods=12, freq='min')\n",
    "s =pd.Series(range(12), index=index)\n",
    "s.resample('5min').ohlc()"
   ]
  },
  {
   "cell_type": "markdown",
   "metadata": {},
   "source": [
    "### 移动窗口数据计算"
   ]
  },
  {
   "cell_type": "code",
   "execution_count": 32,
   "metadata": {},
   "outputs": [
    {
     "data": {
      "text/plain": [
       "2022-01-01     3.000000\n",
       "2022-01-02     4.500000\n",
       "2022-01-03     5.333333\n",
       "2022-01-04     5.666667\n",
       "2022-01-05     4.333333\n",
       "2022-01-06     2.333333\n",
       "2022-01-07     2.000000\n",
       "2022-01-08     4.000000\n",
       "2022-01-09     6.666667\n",
       "2022-01-10     9.000000\n",
       "2022-01-11    10.333333\n",
       "2022-01-12    12.333333\n",
       "2022-01-13    16.333333\n",
       "2022-01-14    20.000000\n",
       "2022-01-15    19.666667\n",
       "Freq: D, dtype: float64"
      ]
     },
     "execution_count": 32,
     "metadata": {},
     "output_type": "execute_result"
    }
   ],
   "source": [
    "# 创建淘宝的每日销量数据\n",
    "\n",
    "import pandas as pd\n",
    "index = pd.date_range('2022-1-1', periods=15, freq='D')\n",
    "\n",
    "s = pd.Series([3, 6, 7, 4, 2, 1, 3, 8, 9, 10, 12, 15, 22, 23, 14], index=index)\n",
    "\n",
    "# 使用 rolling 函数 计算三天的均值\n",
    "s.rolling(3, min_periods=1).mean()\n",
    "# min_periods 参数设置为1，表示均值计算时，即使最初少于 3 个观测值，只要窗口中至少有 1 个观测值，就会计算滚动平均值"
   ]
  }
 ],
 "metadata": {
  "kernelspec": {
   "display_name": "venv",
   "language": "python",
   "name": "python3"
  },
  "language_info": {
   "codemirror_mode": {
    "name": "ipython",
    "version": 3
   },
   "file_extension": ".py",
   "mimetype": "text/x-python",
   "name": "python",
   "nbconvert_exporter": "python",
   "pygments_lexer": "ipython3",
   "version": "3.9.13"
  }
 },
 "nbformat": 4,
 "nbformat_minor": 2
}
