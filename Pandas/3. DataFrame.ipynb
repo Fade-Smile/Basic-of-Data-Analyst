{
 "cells": [
  {
   "cell_type": "markdown",
   "metadata": {},
   "source": [
    "### Create DataFrame form List"
   ]
  },
  {
   "cell_type": "code",
   "execution_count": 1,
   "metadata": {},
   "outputs": [
    {
     "name": "stdout",
     "output_type": "stream",
     "text": [
      "   Name  Unit Price  Quantity\n",
      "0   Sun       320.9       100\n",
      "1  Moon       150.3        50\n",
      "2  Star         1.5       200\n",
      "<class 'pandas.core.frame.DataFrame'>\n"
     ]
    }
   ],
   "source": [
    "import pandas as pd\n",
    "\n",
    "data = [['Sun', 320.9, 100], ['Moon', 150.3, 50], ['Star', 1.5, 200]]\n",
    "columns = ['Name', 'Unit Price', 'Quantity']\n",
    "\n",
    "df = pd.DataFrame(data, columns=columns)\n",
    "print(df)\n",
    "print(type(df))"
   ]
  },
  {
   "cell_type": "markdown",
   "metadata": {},
   "source": [
    "### Create DataFrame from Dictionary"
   ]
  },
  {
   "cell_type": "code",
   "execution_count": 5,
   "metadata": {},
   "outputs": [
    {
     "name": "stdout",
     "output_type": "stream",
     "text": [
      "   Name  Unit Price  Quantity            Company Name\n",
      "0   Sun       320.9       100  South-Door Supermarket\n",
      "1  Moon       150.3        50  South-Door Supermarket\n",
      "2  Star         1.5       200  South-Door Supermarket\n"
     ]
    }
   ],
   "source": [
    "import pandas as pd\n",
    "\n",
    "data = {\n",
    "    \"Name\": [\"Sun\", \"Moon\", \"Star\"],\n",
    "    \"Unit Price\": [320.9, 150.3, 1.5],\n",
    "    \"Quantity\": [100, 50, 200],\n",
    "    'Company Name': 'South-Door Supermarket'\n",
    "}\n",
    "\n",
    "df = pd.DataFrame(data)\n",
    "\n",
    "print(df)"
   ]
  },
  {
   "cell_type": "markdown",
   "metadata": {},
   "source": [
    "### Create DataFrame from Series\n"
   ]
  },
  {
   "cell_type": "code",
   "execution_count": 3,
   "metadata": {},
   "outputs": [
    {
     "name": "stdout",
     "output_type": "stream",
     "text": [
      "   Name  Unit Price  Quantity\n",
      "0   Sun       320.9       100\n",
      "1  Moon       150.3        50\n",
      "2  Star         1.5       200\n"
     ]
    }
   ],
   "source": [
    "import pandas as pd\n",
    "\n",
    "series1 = pd.Series([\"Sun\", \"Moon\", \"Star\"])\n",
    "series2 = pd.Series([320.9, 150.3, 1.5])\n",
    "series3 = pd.Series([100, 50, 200])\n",
    "\n",
    "df = pd.DataFrame({'Name': series1, 'Unit Price': series2, 'Quantity': series3})\n",
    "print(df)"
   ]
  },
  {
   "cell_type": "markdown",
   "metadata": {},
   "source": [
    "### Important properties of DataFrame"
   ]
  },
  {
   "cell_type": "code",
   "execution_count": 12,
   "metadata": {},
   "outputs": [
    {
     "name": "stdout",
     "output_type": "stream",
     "text": [
      "   Name  Unit Price  Quantity\n",
      "0   Sun       320.9       100\n",
      "1  Moon       150.3        50\n",
      "2  Star         1.5       200\n",
      "View the value of all the elements\n",
      " [['Sun' 320.9 100]\n",
      " ['Moon' 150.3 50]\n",
      " ['Star' 1.5 200]] \n",
      "\n",
      "View the type of all the elements\n",
      " Name           object\n",
      "Unit Price    float64\n",
      "Quantity        int64\n",
      "dtype: object \n",
      "\n",
      "View all the Row name\n",
      " [0, 1, 2] \n",
      "\n",
      "   Name  Unit Price  Quantity\n",
      "A   Sun       320.9       100\n",
      "B  Moon       150.3        50\n",
      "C  Star         1.5       200 \n",
      "\n",
      "View the Column name/Index\n",
      " ['Name', 'Unit Price', 'Quantity'] \n",
      "\n",
      "  Product Name  Newest Price  Quantity\n",
      "A          Sun         320.9       100\n",
      "B         Moon         150.3        50\n",
      "C         Star           1.5       200 \n",
      "\n"
     ]
    }
   ],
   "source": [
    "import pandas as pd\n",
    "\n",
    "data = [['Sun', 320.9, 100], ['Moon', 150.3, 50], ['Star', 1.5, 200]]\n",
    "columns = ['Name', 'Unit Price', 'Quantity']\n",
    "\n",
    "df = pd.DataFrame(data, columns=columns)\n",
    "print(df)\n",
    "\n",
    "print('View the value of all the elements\\n', df.values, '\\n')\n",
    "print('View the type of all the elements\\n', df.dtypes, '\\n')\n",
    "print('View all the Row name\\n', list(df.index), '\\n')\n",
    "\n",
    "# Replace the Index with specified \n",
    "df.index = ['A', 'B', 'C']\n",
    "print(df, '\\n')\n",
    "\n",
    "print('View the Column name/Index\\n', list(df.columns), '\\n')\n",
    "\n",
    "# Replace the Column name with specified\n",
    "df.columns = ['Product Name', 'Newest Price', 'Quantity']\n",
    "print(df, '\\n')"
   ]
  },
  {
   "cell_type": "code",
   "execution_count": 19,
   "metadata": {},
   "outputs": [
    {
     "name": "stdout",
     "output_type": "stream",
     "text": [
      "                  A      B     C\n",
      "Product Name    Sun   Moon  Star\n",
      "Newest Price  320.9  150.3   1.5\n",
      "Quantity        100     50   200 \n",
      "\n",
      "View first N data\n",
      "   Product Name  Newest Price  Quantity\n",
      "A          Sun         320.9       100 \n",
      "\n",
      "View last N data\n",
      "   Product Name  Newest Price  Quantity\n",
      "C         Star           1.5       200 \n",
      "\n"
     ]
    }
   ],
   "source": [
    "# Conversion of row and column data\n",
    "# pd.set_option('display.unicode.east_asian_width', True)   # 设置 Pandas 的一些全局选项，以调整其行为和显示方式\n",
    "new_df = df.T\n",
    "print(new_df, '\\n')\n",
    "\n",
    "print('View first N data\\n', df.head(1), '\\n')\n",
    "print('View last N data\\n', df.tail(1), '\\n')"
   ]
  },
  {
   "cell_type": "code",
   "execution_count": 20,
   "metadata": {},
   "outputs": [
    {
     "name": "stdout",
     "output_type": "stream",
     "text": [
      "Row 3 Column 3\n"
     ]
    }
   ],
   "source": [
    "# 查看行和列， shape[0] 行， shape[1] 列\n",
    "print('Row', df.shape[0], 'Column', df.shape[1])"
   ]
  },
  {
   "cell_type": "code",
   "execution_count": 21,
   "metadata": {},
   "outputs": [
    {
     "name": "stdout",
     "output_type": "stream",
     "text": [
      "View index, data type, memory information\n",
      " <bound method DataFrame.info of   Product Name  Newest Price  Quantity\n",
      "A          Sun         320.9       100\n",
      "B         Moon         150.3        50\n",
      "C         Star           1.5       200>\n"
     ]
    }
   ],
   "source": [
    "print('View index, data type, memory information\\n', df.info)"
   ]
  },
  {
   "cell_type": "code",
   "execution_count": null,
   "metadata": {},
   "outputs": [],
   "source": []
  }
 ],
 "metadata": {
  "kernelspec": {
   "display_name": "venv",
   "language": "python",
   "name": "python3"
  },
  "language_info": {
   "codemirror_mode": {
    "name": "ipython",
    "version": 3
   },
   "file_extension": ".py",
   "mimetype": "text/x-python",
   "name": "python",
   "nbconvert_exporter": "python",
   "pygments_lexer": "ipython3",
   "version": "3.9.13"
  }
 },
 "nbformat": 4,
 "nbformat_minor": 2
}
